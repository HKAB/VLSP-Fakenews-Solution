{
 "cells": [
  {
   "cell_type": "code",
   "execution_count": 1,
   "id": "compound-difficulty",
   "metadata": {},
   "outputs": [],
   "source": [
    "import pandas as pd\n",
    "import numpy as np"
   ]
  },
  {
   "cell_type": "markdown",
   "id": "italic-substitute",
   "metadata": {},
   "source": [
    "# Load model OOF prediction"
   ]
  },
  {
   "cell_type": "code",
   "execution_count": 2,
   "id": "narrow-philosophy",
   "metadata": {},
   "outputs": [],
   "source": [
    "models = [\"rf\", \"knn\", \"lr\", \"mlp\", \"svm\"]"
   ]
  },
  {
   "cell_type": "code",
   "execution_count": 3,
   "id": "steady-diploma",
   "metadata": {},
   "outputs": [],
   "source": [
    "vals = []\n",
    "for model in models:\n",
    "    vals.append(pd.read_csv(\"y_sval_pred_\" + model + \".csv\"))"
   ]
  },
  {
   "cell_type": "code",
   "execution_count": 4,
   "id": "identified-female",
   "metadata": {},
   "outputs": [
    {
     "data": {
      "text/html": [
       "<div>\n",
       "<style scoped>\n",
       "    .dataframe tbody tr th:only-of-type {\n",
       "        vertical-align: middle;\n",
       "    }\n",
       "\n",
       "    .dataframe tbody tr th {\n",
       "        vertical-align: top;\n",
       "    }\n",
       "\n",
       "    .dataframe thead th {\n",
       "        text-align: right;\n",
       "    }\n",
       "</style>\n",
       "<table border=\"1\" class=\"dataframe\">\n",
       "  <thead>\n",
       "    <tr style=\"text-align: right;\">\n",
       "      <th></th>\n",
       "      <th>y_sval_pred_rf</th>\n",
       "    </tr>\n",
       "  </thead>\n",
       "  <tbody>\n",
       "    <tr>\n",
       "      <th>0</th>\n",
       "      <td>0.180182</td>\n",
       "    </tr>\n",
       "    <tr>\n",
       "      <th>1</th>\n",
       "      <td>0.140605</td>\n",
       "    </tr>\n",
       "    <tr>\n",
       "      <th>2</th>\n",
       "      <td>0.221868</td>\n",
       "    </tr>\n",
       "    <tr>\n",
       "      <th>3</th>\n",
       "      <td>0.131567</td>\n",
       "    </tr>\n",
       "    <tr>\n",
       "      <th>4</th>\n",
       "      <td>0.138065</td>\n",
       "    </tr>\n",
       "    <tr>\n",
       "      <th>...</th>\n",
       "      <td>...</td>\n",
       "    </tr>\n",
       "    <tr>\n",
       "      <th>1547</th>\n",
       "      <td>0.230579</td>\n",
       "    </tr>\n",
       "    <tr>\n",
       "      <th>1548</th>\n",
       "      <td>0.148831</td>\n",
       "    </tr>\n",
       "    <tr>\n",
       "      <th>1549</th>\n",
       "      <td>0.184607</td>\n",
       "    </tr>\n",
       "    <tr>\n",
       "      <th>1550</th>\n",
       "      <td>0.261589</td>\n",
       "    </tr>\n",
       "    <tr>\n",
       "      <th>1551</th>\n",
       "      <td>0.158202</td>\n",
       "    </tr>\n",
       "  </tbody>\n",
       "</table>\n",
       "<p>1552 rows × 1 columns</p>\n",
       "</div>"
      ],
      "text/plain": [
       "      y_sval_pred_rf\n",
       "0           0.180182\n",
       "1           0.140605\n",
       "2           0.221868\n",
       "3           0.131567\n",
       "4           0.138065\n",
       "...              ...\n",
       "1547        0.230579\n",
       "1548        0.148831\n",
       "1549        0.184607\n",
       "1550        0.261589\n",
       "1551        0.158202\n",
       "\n",
       "[1552 rows x 1 columns]"
      ]
     },
     "execution_count": 4,
     "metadata": {},
     "output_type": "execute_result"
    }
   ],
   "source": [
    "vals[0]"
   ]
  },
  {
   "cell_type": "code",
   "execution_count": 5,
   "id": "union-surname",
   "metadata": {},
   "outputs": [],
   "source": [
    "real_val_y = pd.read_csv('y_sval.csv')"
   ]
  },
  {
   "cell_type": "code",
   "execution_count": 6,
   "id": "retained-birmingham",
   "metadata": {},
   "outputs": [],
   "source": [
    "train_lv2 = pd.concat([pd.concat([val for val in vals], axis=1), real_val_y], axis=1)"
   ]
  },
  {
   "cell_type": "code",
   "execution_count": 7,
   "id": "bigger-cooking",
   "metadata": {},
   "outputs": [],
   "source": [
    "X_train = train_lv2.drop(\"y_sval\", axis=1)\n",
    "y = train_lv2.y_sval"
   ]
  },
  {
   "cell_type": "markdown",
   "id": "received-sample",
   "metadata": {},
   "source": [
    "# Stack with LinearRegression"
   ]
  },
  {
   "cell_type": "code",
   "execution_count": 8,
   "id": "unavailable-check",
   "metadata": {},
   "outputs": [],
   "source": [
    "from sklearn.linear_model import LinearRegression"
   ]
  },
  {
   "cell_type": "code",
   "execution_count": 9,
   "id": "induced-attribute",
   "metadata": {},
   "outputs": [],
   "source": [
    "reg = LinearRegression().fit(X_train, y)"
   ]
  },
  {
   "cell_type": "code",
   "execution_count": 10,
   "id": "similar-gentleman",
   "metadata": {},
   "outputs": [
    {
     "data": {
      "text/plain": [
       "0.5076432264180709"
      ]
     },
     "execution_count": 10,
     "metadata": {},
     "output_type": "execute_result"
    }
   ],
   "source": [
    "reg.score(X_train, y)"
   ]
  },
  {
   "cell_type": "code",
   "execution_count": 11,
   "id": "fifty-improvement",
   "metadata": {},
   "outputs": [
    {
     "data": {
      "text/plain": [
       "array([0.34374543, 0.12085449, 0.77076586, 0.36198156, 0.07335962])"
      ]
     },
     "execution_count": 11,
     "metadata": {},
     "output_type": "execute_result"
    }
   ],
   "source": [
    "reg.coef_"
   ]
  },
  {
   "cell_type": "markdown",
   "id": "later-prophet",
   "metadata": {},
   "source": [
    "Logistic regression is more robust with less data"
   ]
  },
  {
   "cell_type": "markdown",
   "id": "married-architecture",
   "metadata": {},
   "source": [
    "# Stack with random forest (Might overfit)"
   ]
  },
  {
   "cell_type": "code",
   "execution_count": 12,
   "id": "north-fountain",
   "metadata": {},
   "outputs": [],
   "source": [
    "from sklearn.ensemble import RandomForestClassifier"
   ]
  },
  {
   "cell_type": "code",
   "execution_count": 29,
   "id": "horizontal-composer",
   "metadata": {},
   "outputs": [],
   "source": [
    "clf = RandomForestClassifier(max_depth=5, random_state=0)"
   ]
  },
  {
   "cell_type": "code",
   "execution_count": 30,
   "id": "later-intersection",
   "metadata": {},
   "outputs": [
    {
     "data": {
      "text/plain": [
       "RandomForestClassifier(max_depth=5, random_state=0)"
      ]
     },
     "execution_count": 30,
     "metadata": {},
     "output_type": "execute_result"
    }
   ],
   "source": [
    "clf.fit(X_train, y)"
   ]
  },
  {
   "cell_type": "code",
   "execution_count": 31,
   "id": "hollywood-morrison",
   "metadata": {},
   "outputs": [
    {
     "data": {
      "text/plain": [
       "0.9375"
      ]
     },
     "execution_count": 31,
     "metadata": {},
     "output_type": "execute_result"
    }
   ],
   "source": [
    "clf.score(X_train, y)"
   ]
  },
  {
   "cell_type": "code",
   "execution_count": 32,
   "id": "touched-black",
   "metadata": {},
   "outputs": [],
   "source": [
    "importances = clf.feature_importances_"
   ]
  },
  {
   "cell_type": "code",
   "execution_count": 33,
   "id": "silent-missouri",
   "metadata": {},
   "outputs": [],
   "source": [
    "std = np.std([tree.feature_importances_ for tree in clf.estimators_],\n",
    "             axis=0)\n",
    "indices = np.argsort(importances)[::-1]"
   ]
  },
  {
   "cell_type": "code",
   "execution_count": 34,
   "id": "seventh-departure",
   "metadata": {
    "scrolled": true
   },
   "outputs": [
    {
     "data": {
      "image/png": "[encoded data removed]",
      "text/plain": [
       "<Figure size 432x288 with 1 Axes>"
      ]
     },
     "metadata": {
      "needs_background": "light"
     },
     "output_type": "display_data"
    }
   ],
   "source": [
    "import matplotlib.pyplot as plt\n",
    "plt.figure()\n",
    "plt.title(\"Feature importances\")\n",
    "plt.bar(range(len(indices)), importances[indices],\n",
    "        color=\"r\", yerr=std[indices], align=\"center\")\n",
    "plt.xticks(range(len(indices)), models)\n",
    "plt.xlim([-1, 10])\n",
    "plt.show()\n",
    "# xgb.plot_importance(clf)"
   ]
  },
  {
   "cell_type": "code",
   "execution_count": 98,
   "id": "connected-villa",
   "metadata": {},
   "outputs": [
    {
     "data": {
      "text/plain": [
       "(array([0.15656251, 0.08948349, 0.21096349, ..., 0.06643855, 0.11666552,\n",
       "        0.7250091 ]),\n",
       " array([1, 0, 0, ..., 0, 0, 1]))"
      ]
     },
     "execution_count": 98,
     "metadata": {},
     "output_type": "execute_result"
    }
   ],
   "source": [
    "clf.predict_proba(X_train)[:, 1], y.values"
   ]
  },
  {
   "cell_type": "code",
   "execution_count": 35,
   "id": "impressed-adams",
   "metadata": {},
   "outputs": [
    {
     "data": {
      "text/plain": [
       "0.9681475623929165"
      ]
     },
     "execution_count": 35,
     "metadata": {},
     "output_type": "execute_result"
    }
   ],
   "source": [
    "roc_auc_score(y.values, clf.predict_proba(X_train)[:, 1])"
   ]
  },
  {
   "cell_type": "markdown",
   "id": "close-columbus",
   "metadata": {},
   "source": [
    "# Stack with XGBoost (Less likely to overfit)"
   ]
  },
  {
   "cell_type": "code",
   "execution_count": 20,
   "id": "speaking-netscape",
   "metadata": {},
   "outputs": [],
   "source": [
    "import xgboost as xgb\n",
    "from sklearn.metrics import roc_auc_score"
   ]
  },
  {
   "cell_type": "code",
   "execution_count": 36,
   "id": "coastal-ranch",
   "metadata": {},
   "outputs": [],
   "source": [
    "clf = xgb.XGBClassifier(\n",
    "    n_estimators=50,\n",
    "    max_depth=5,\n",
    "    learning_rate=0.005,\n",
    "    subsample=0.8,\n",
    "    colsample_bytree=0.8,\n",
    "    missing=-999,\n",
    "    random_state=1111,\n",
    "    tree_method='gpu_hist',  # THE MAGICAL PARAMETER\n",
    "    use_label_encoder=False,\n",
    "    eval_metric=roc_auc_score\n",
    ")"
   ]
  },
  {
   "cell_type": "code",
   "execution_count": 37,
   "id": "generous-perry",
   "metadata": {},
   "outputs": [
    {
     "name": "stdout",
     "output_type": "stream",
     "text": [
      "[21:09:42] WARNING: ../src/learner.cc:1061: Starting in XGBoost 1.3.0, the default evaluation metric used with the objective 'binary:logistic' was changed from 'error' to 'logloss'. Explicitly set eval_metric if you'd like to restore the old behavior.\n"
     ]
    },
    {
     "data": {
      "text/plain": [
       "XGBClassifier(base_score=0.5, booster='gbtree', colsample_bylevel=1,\n",
       "              colsample_bynode=1, colsample_bytree=0.8,\n",
       "              eval_metric=<function roc_auc_score at 0x7f5fa70b2ca0>, gamma=0,\n",
       "              gpu_id=0, importance_type='gain', interaction_constraints='',\n",
       "              learning_rate=0.005, max_delta_step=0, max_depth=5,\n",
       "              min_child_weight=1, missing=-999, monotone_constraints='()',\n",
       "              n_estimators=50, n_jobs=8, num_parallel_tree=1, random_state=1111,\n",
       "              reg_alpha=0, reg_lambda=1, scale_pos_weight=1, subsample=0.8,\n",
       "              tree_method='gpu_hist', use_label_encoder=False,\n",
       "              validate_parameters=1, verbosity=None)"
      ]
     },
     "execution_count": 37,
     "metadata": {},
     "output_type": "execute_result"
    }
   ],
   "source": [
    "clf.fit(X_train, y)"
   ]
  },
  {
   "cell_type": "code",
   "execution_count": 38,
   "id": "identical-delight",
   "metadata": {},
   "outputs": [
    {
     "data": {
      "text/plain": [
       "0.9310567010309279"
      ]
     },
     "execution_count": 38,
     "metadata": {},
     "output_type": "execute_result"
    }
   ],
   "source": [
    "clf.score(X_train, y)"
   ]
  },
  {
   "cell_type": "code",
   "execution_count": 39,
   "id": "reverse-textbook",
   "metadata": {},
   "outputs": [
    {
     "data": {
      "text/plain": [
       "0.9590701867893557"
      ]
     },
     "execution_count": 39,
     "metadata": {},
     "output_type": "execute_result"
    }
   ],
   "source": [
    "roc_auc_score(y.values, clf.predict_proba(X_train)[:, 1])"
   ]
  },
  {
   "cell_type": "code",
   "execution_count": 40,
   "id": "norwegian-failure",
   "metadata": {},
   "outputs": [
    {
     "data": {
      "text/plain": [
       "<AxesSubplot:title={'center':'Feature importance'}, xlabel='F score', ylabel='Features'>"
      ]
     },
     "execution_count": 40,
     "metadata": {},
     "output_type": "execute_result"
    },
    {
     "data": {
      "image/png": "[encoded data removed]",
      "text/plain": [
       "<Figure size 432x288 with 1 Axes>"
      ]
     },
     "metadata": {
      "needs_background": "light"
     },
     "output_type": "display_data"
    }
   ],
   "source": [
    "xgb.plot_importance(clf)"
   ]
  },
  {
   "cell_type": "markdown",
   "id": "provincial-sequence",
   "metadata": {},
   "source": [
    "Agree with linear regression"
   ]
  },
  {
   "cell_type": "markdown",
   "id": "distant-factory",
   "metadata": {},
   "source": [
    "# Check AUC score OOF prediction"
   ]
  },
  {
   "cell_type": "code",
   "execution_count": 28,
   "id": "outdoor-flour",
   "metadata": {},
   "outputs": [
    {
     "data": {
      "text/plain": [
       "0.8513473035956052"
      ]
     },
     "execution_count": 28,
     "metadata": {},
     "output_type": "execute_result"
    }
   ],
   "source": [
    "roc_auc_score(train_lv2.y_sval.values, train_lv2.y_sval_pred_rf.values)"
   ]
  },
  {
   "cell_type": "code",
   "execution_count": 22,
   "id": "deadly-earthquake",
   "metadata": {},
   "outputs": [
    {
     "data": {
      "text/html": [
       "<div>\n",
       "<style scoped>\n",
       "    .dataframe tbody tr th:only-of-type {\n",
       "        vertical-align: middle;\n",
       "    }\n",
       "\n",
       "    .dataframe tbody tr th {\n",
       "        vertical-align: top;\n",
       "    }\n",
       "\n",
       "    .dataframe thead th {\n",
       "        text-align: right;\n",
       "    }\n",
       "</style>\n",
       "<table border=\"1\" class=\"dataframe\">\n",
       "  <thead>\n",
       "    <tr style=\"text-align: right;\">\n",
       "      <th></th>\n",
       "      <th>y_sval_pred_rf</th>\n",
       "      <th>y_sval_pred_knn</th>\n",
       "      <th>y_sval_pred_lr</th>\n",
       "      <th>y_sval_pred_mlp</th>\n",
       "      <th>y_sval_pred_svm</th>\n",
       "      <th>y_sval</th>\n",
       "    </tr>\n",
       "  </thead>\n",
       "  <tbody>\n",
       "    <tr>\n",
       "      <th>0</th>\n",
       "      <td>0.180182</td>\n",
       "      <td>0.0</td>\n",
       "      <td>0.116309</td>\n",
       "      <td>1.873609e-06</td>\n",
       "      <td>0.119019</td>\n",
       "      <td>0</td>\n",
       "    </tr>\n",
       "    <tr>\n",
       "      <th>1</th>\n",
       "      <td>0.140605</td>\n",
       "      <td>0.2</td>\n",
       "      <td>0.083129</td>\n",
       "      <td>7.825891e-05</td>\n",
       "      <td>0.142589</td>\n",
       "      <td>0</td>\n",
       "    </tr>\n",
       "    <tr>\n",
       "      <th>2</th>\n",
       "      <td>0.221868</td>\n",
       "      <td>0.0</td>\n",
       "      <td>0.078647</td>\n",
       "      <td>5.658006e-05</td>\n",
       "      <td>0.055077</td>\n",
       "      <td>0</td>\n",
       "    </tr>\n",
       "    <tr>\n",
       "      <th>3</th>\n",
       "      <td>0.131567</td>\n",
       "      <td>0.0</td>\n",
       "      <td>0.088779</td>\n",
       "      <td>2.181454e-05</td>\n",
       "      <td>0.061832</td>\n",
       "      <td>0</td>\n",
       "    </tr>\n",
       "    <tr>\n",
       "      <th>4</th>\n",
       "      <td>0.138065</td>\n",
       "      <td>0.0</td>\n",
       "      <td>0.197455</td>\n",
       "      <td>4.175837e-04</td>\n",
       "      <td>0.056638</td>\n",
       "      <td>0</td>\n",
       "    </tr>\n",
       "    <tr>\n",
       "      <th>...</th>\n",
       "      <td>...</td>\n",
       "      <td>...</td>\n",
       "      <td>...</td>\n",
       "      <td>...</td>\n",
       "      <td>...</td>\n",
       "      <td>...</td>\n",
       "    </tr>\n",
       "    <tr>\n",
       "      <th>1547</th>\n",
       "      <td>0.230579</td>\n",
       "      <td>0.4</td>\n",
       "      <td>0.162762</td>\n",
       "      <td>1.700526e-01</td>\n",
       "      <td>0.088838</td>\n",
       "      <td>0</td>\n",
       "    </tr>\n",
       "    <tr>\n",
       "      <th>1548</th>\n",
       "      <td>0.148831</td>\n",
       "      <td>0.2</td>\n",
       "      <td>0.079736</td>\n",
       "      <td>3.585337e-07</td>\n",
       "      <td>0.060642</td>\n",
       "      <td>0</td>\n",
       "    </tr>\n",
       "    <tr>\n",
       "      <th>1549</th>\n",
       "      <td>0.184607</td>\n",
       "      <td>0.0</td>\n",
       "      <td>0.384712</td>\n",
       "      <td>9.616355e-01</td>\n",
       "      <td>0.859622</td>\n",
       "      <td>1</td>\n",
       "    </tr>\n",
       "    <tr>\n",
       "      <th>1550</th>\n",
       "      <td>0.261589</td>\n",
       "      <td>0.4</td>\n",
       "      <td>0.483030</td>\n",
       "      <td>5.752819e-01</td>\n",
       "      <td>0.305383</td>\n",
       "      <td>1</td>\n",
       "    </tr>\n",
       "    <tr>\n",
       "      <th>1551</th>\n",
       "      <td>0.158202</td>\n",
       "      <td>0.4</td>\n",
       "      <td>0.223216</td>\n",
       "      <td>3.759505e-01</td>\n",
       "      <td>0.350722</td>\n",
       "      <td>0</td>\n",
       "    </tr>\n",
       "  </tbody>\n",
       "</table>\n",
       "<p>1552 rows × 6 columns</p>\n",
       "</div>"
      ],
      "text/plain": [
       "      y_sval_pred_rf  y_sval_pred_knn  y_sval_pred_lr  y_sval_pred_mlp  \\\n",
       "0           0.180182              0.0        0.116309     1.873609e-06   \n",
       "1           0.140605              0.2        0.083129     7.825891e-05   \n",
       "2           0.221868              0.0        0.078647     5.658006e-05   \n",
       "3           0.131567              0.0        0.088779     2.181454e-05   \n",
       "4           0.138065              0.0        0.197455     4.175837e-04   \n",
       "...              ...              ...             ...              ...   \n",
       "1547        0.230579              0.4        0.162762     1.700526e-01   \n",
       "1548        0.148831              0.2        0.079736     3.585337e-07   \n",
       "1549        0.184607              0.0        0.384712     9.616355e-01   \n",
       "1550        0.261589              0.4        0.483030     5.752819e-01   \n",
       "1551        0.158202              0.4        0.223216     3.759505e-01   \n",
       "\n",
       "      y_sval_pred_svm  y_sval  \n",
       "0            0.119019       0  \n",
       "1            0.142589       0  \n",
       "2            0.055077       0  \n",
       "3            0.061832       0  \n",
       "4            0.056638       0  \n",
       "...               ...     ...  \n",
       "1547         0.088838       0  \n",
       "1548         0.060642       0  \n",
       "1549         0.859622       1  \n",
       "1550         0.305383       1  \n",
       "1551         0.350722       0  \n",
       "\n",
       "[1552 rows x 6 columns]"
      ]
     },
     "execution_count": 22,
     "metadata": {},
     "output_type": "execute_result"
    }
   ],
   "source": [
    "train_lv2"
   ]
  },
  {
   "cell_type": "markdown",
   "id": "defensive-layout",
   "metadata": {},
   "source": [
    "# Ensemble test result"
   ]
  },
  {
   "cell_type": "code",
   "execution_count": 46,
   "id": "described-lincoln",
   "metadata": {},
   "outputs": [],
   "source": [
    "tests = []\n",
    "for model in models:\n",
    "    tests.append(pd.read_csv(\"y_test_pred_\" + model + \".csv\"))"
   ]
  },
  {
   "cell_type": "code",
   "execution_count": 47,
   "id": "funny-suspension",
   "metadata": {},
   "outputs": [],
   "source": [
    "test_lv2 = pd.concat([test for test in tests], axis=1)"
   ]
  },
  {
   "cell_type": "code",
   "execution_count": 49,
   "id": "industrial-parent",
   "metadata": {},
   "outputs": [],
   "source": [
    "pred = clf.predict_proba(test_lv2)"
   ]
  },
  {
   "cell_type": "code",
   "execution_count": 50,
   "id": "important-china",
   "metadata": {},
   "outputs": [
    {
     "data": {
      "text/plain": [
       "array([[0.4403348 , 0.5596652 ],\n",
       "       [0.5759898 , 0.42401022],\n",
       "       [0.5916296 , 0.40837035],\n",
       "       ...,\n",
       "       [0.5904659 , 0.4095341 ],\n",
       "       [0.59810674, 0.40189323],\n",
       "       [0.58795655, 0.41204345]], dtype=float32)"
      ]
     },
     "execution_count": 50,
     "metadata": {},
     "output_type": "execute_result"
    }
   ],
   "source": [
    "pred"
   ]
  },
  {
   "cell_type": "code",
   "execution_count": 52,
   "id": "killing-contemporary",
   "metadata": {},
   "outputs": [],
   "source": [
    "result = pd.DataFrame()\n",
    "result['id'] = range(6015, 7661)\n",
    "result['label'] = pred[:, 1]"
   ]
  },
  {
   "cell_type": "code",
   "execution_count": 53,
   "id": "aggregate-genre",
   "metadata": {},
   "outputs": [
    {
     "data": {
      "text/html": [
       "<div>\n",
       "<style scoped>\n",
       "    .dataframe tbody tr th:only-of-type {\n",
       "        vertical-align: middle;\n",
       "    }\n",
       "\n",
       "    .dataframe tbody tr th {\n",
       "        vertical-align: top;\n",
       "    }\n",
       "\n",
       "    .dataframe thead th {\n",
       "        text-align: right;\n",
       "    }\n",
       "</style>\n",
       "<table border=\"1\" class=\"dataframe\">\n",
       "  <thead>\n",
       "    <tr style=\"text-align: right;\">\n",
       "      <th></th>\n",
       "      <th>id</th>\n",
       "      <th>label</th>\n",
       "    </tr>\n",
       "  </thead>\n",
       "  <tbody>\n",
       "    <tr>\n",
       "      <th>0</th>\n",
       "      <td>6015</td>\n",
       "      <td>0.559665</td>\n",
       "    </tr>\n",
       "    <tr>\n",
       "      <th>1</th>\n",
       "      <td>6016</td>\n",
       "      <td>0.424010</td>\n",
       "    </tr>\n",
       "    <tr>\n",
       "      <th>2</th>\n",
       "      <td>6017</td>\n",
       "      <td>0.408370</td>\n",
       "    </tr>\n",
       "    <tr>\n",
       "      <th>3</th>\n",
       "      <td>6018</td>\n",
       "      <td>0.596538</td>\n",
       "    </tr>\n",
       "    <tr>\n",
       "      <th>4</th>\n",
       "      <td>6019</td>\n",
       "      <td>0.474449</td>\n",
       "    </tr>\n",
       "    <tr>\n",
       "      <th>...</th>\n",
       "      <td>...</td>\n",
       "      <td>...</td>\n",
       "    </tr>\n",
       "    <tr>\n",
       "      <th>1641</th>\n",
       "      <td>7656</td>\n",
       "      <td>0.393397</td>\n",
       "    </tr>\n",
       "    <tr>\n",
       "      <th>1642</th>\n",
       "      <td>7657</td>\n",
       "      <td>0.411135</td>\n",
       "    </tr>\n",
       "    <tr>\n",
       "      <th>1643</th>\n",
       "      <td>7658</td>\n",
       "      <td>0.409534</td>\n",
       "    </tr>\n",
       "    <tr>\n",
       "      <th>1644</th>\n",
       "      <td>7659</td>\n",
       "      <td>0.401893</td>\n",
       "    </tr>\n",
       "    <tr>\n",
       "      <th>1645</th>\n",
       "      <td>7660</td>\n",
       "      <td>0.412043</td>\n",
       "    </tr>\n",
       "  </tbody>\n",
       "</table>\n",
       "<p>1646 rows × 2 columns</p>\n",
       "</div>"
      ],
      "text/plain": [
       "        id     label\n",
       "0     6015  0.559665\n",
       "1     6016  0.424010\n",
       "2     6017  0.408370\n",
       "3     6018  0.596538\n",
       "4     6019  0.474449\n",
       "...    ...       ...\n",
       "1641  7656  0.393397\n",
       "1642  7657  0.411135\n",
       "1643  7658  0.409534\n",
       "1644  7659  0.401893\n",
       "1645  7660  0.412043\n",
       "\n",
       "[1646 rows x 2 columns]"
      ]
     },
     "execution_count": 53,
     "metadata": {},
     "output_type": "execute_result"
    }
   ],
   "source": [
    "result"
   ]
  },
  {
   "cell_type": "code",
   "execution_count": 54,
   "id": "pleasant-riding",
   "metadata": {},
   "outputs": [],
   "source": [
    "result.to_csv('results.csv', index=False, header=None)"
   ]
  },
  {
   "cell_type": "markdown",
   "id": "reflected-browser",
   "metadata": {},
   "source": [
    "## Distribution of probability of ensemble"
   ]
  },
  {
   "cell_type": "code",
   "execution_count": 55,
   "id": "shared-lincoln",
   "metadata": {},
   "outputs": [
    {
     "data": {
      "text/plain": [
       "(array([954., 240.,  78.,  68.,  56.,  46.,  28.,  45.,  52.,  79.]),\n",
       " array([0.39312515, 0.4134664 , 0.43380767, 0.45414895, 0.4744902 ,\n",
       "        0.49483144, 0.5151727 , 0.535514  , 0.5558553 , 0.5761965 ,\n",
       "        0.59653777], dtype=float32),\n",
       " <BarContainer object of 10 artists>)"
      ]
     },
     "execution_count": 55,
     "metadata": {},
     "output_type": "execute_result"
    },
    {
     "data": {
      "image/png": "[encoded data removed]",
      "text/plain": [
       "<Figure size 432x288 with 1 Axes>"
      ]
     },
     "metadata": {
      "needs_background": "light"
     },
     "output_type": "display_data"
    }
   ],
   "source": [
    "plt.hist(result.label)"
   ]
  },
  {
   "cell_type": "code",
   "execution_count": 58,
   "id": "transparent-kitty",
   "metadata": {},
   "outputs": [
    {
     "data": {
      "text/plain": [
       "(array([393., 550., 354., 154.,  46.,  24.,   6.,   1.,  12.,  12.]),\n",
       " array([0.07395273, 0.13034069, 0.18672865, 0.24311661, 0.29950457,\n",
       "        0.35589253, 0.41228049, 0.46866845, 0.52505641, 0.58144437,\n",
       "        0.63783233]),\n",
       " <BarContainer object of 10 artists>)"
      ]
     },
     "execution_count": 58,
     "metadata": {},
     "output_type": "execute_result"
    },
    {
     "data": {
      "image/png": "[encoded data removed]",
      "text/plain": [
       "<Figure size 432x288 with 1 Axes>"
      ]
     },
     "metadata": {
      "needs_background": "light"
     },
     "output_type": "display_data"
    }
   ],
   "source": [
    "plt.hist(train_lv2.y_sval_pred_rf)"
   ]
  }
 ],
 "metadata": {
  "kernelspec": {
   "display_name": "Python 3",
   "language": "python",
   "name": "python3"
  },
  "language_info": {
   "codemirror_mode": {
    "name": "ipython",
    "version": 3
   },
   "file_extension": ".py",
   "mimetype": "text/x-python",
   "name": "python",
   "nbconvert_exporter": "python",
   "pygments_lexer": "ipython3",
   "version": "3.8.5"
  }
 },
 "nbformat": 4,
 "nbformat_minor": 5
}
