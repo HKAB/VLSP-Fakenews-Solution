{
 "cells": [
  {
   "cell_type": "code",
   "execution_count": 1,
   "id": "generous-machine",
   "metadata": {},
   "outputs": [],
   "source": [
    "import pandas as pd\n",
    "import numpy as np\n",
    "from sklearn.metrics import roc_auc_score\n",
    "from sklearn.model_selection import KFold\n",
    "from sklearn.ensemble import RandomForestClassifier\n",
    "# import xgboost as xgb\n",
    "from sklearn.neighbors import KNeighborsClassifier"
   ]
  },
  {
   "cell_type": "code",
   "execution_count": 2,
   "id": "bronze-backup",
   "metadata": {},
   "outputs": [],
   "source": [
    "train_df = pd.read_csv(\"data/clean_train_df_ext.csv\")\n",
    "test_df = pd.read_csv(\"data/clean_final_test_df.csv\")"
   ]
  },
  {
   "cell_type": "code",
   "execution_count": 3,
   "id": "neural-haiti",
   "metadata": {},
   "outputs": [
    {
     "data": {
      "text/html": [
       "<div>\n",
       "<style scoped>\n",
       "    .dataframe tbody tr th:only-of-type {\n",
       "        vertical-align: middle;\n",
       "    }\n",
       "\n",
       "    .dataframe tbody tr th {\n",
       "        vertical-align: top;\n",
       "    }\n",
       "\n",
       "    .dataframe thead th {\n",
       "        text-align: right;\n",
       "    }\n",
       "</style>\n",
       "<table border=\"1\" class=\"dataframe\">\n",
       "  <thead>\n",
       "    <tr style=\"text-align: right;\">\n",
       "      <th></th>\n",
       "      <th>id</th>\n",
       "      <th>user_name</th>\n",
       "      <th>timestamp_post</th>\n",
       "      <th>num_like_post</th>\n",
       "      <th>num_comment_post</th>\n",
       "      <th>num_share_post</th>\n",
       "      <th>month_post</th>\n",
       "      <th>day_post</th>\n",
       "      <th>weekday_post</th>\n",
       "      <th>hour_post</th>\n",
       "      <th>...</th>\n",
       "      <th>T</th>\n",
       "      <th>Nb</th>\n",
       "      <th>X</th>\n",
       "      <th>I</th>\n",
       "      <th>B</th>\n",
       "      <th>Y</th>\n",
       "      <th>Ni</th>\n",
       "      <th>sentiment</th>\n",
       "      <th>num_tag</th>\n",
       "      <th>num_emoji</th>\n",
       "    </tr>\n",
       "  </thead>\n",
       "  <tbody>\n",
       "    <tr>\n",
       "      <th>0</th>\n",
       "      <td>6015</td>\n",
       "      <td>fbf39587d668e9ae28afb00b8fc00570</td>\n",
       "      <td>2020-05-22 15:57:19</td>\n",
       "      <td>-999.0</td>\n",
       "      <td>-999.0</td>\n",
       "      <td>-999.0</td>\n",
       "      <td>5.0</td>\n",
       "      <td>22.0</td>\n",
       "      <td>4.0</td>\n",
       "      <td>15.0</td>\n",
       "      <td>...</td>\n",
       "      <td>0</td>\n",
       "      <td>0</td>\n",
       "      <td>0</td>\n",
       "      <td>0</td>\n",
       "      <td>0</td>\n",
       "      <td>0</td>\n",
       "      <td>0</td>\n",
       "      <td>0</td>\n",
       "      <td>0</td>\n",
       "      <td>0</td>\n",
       "    </tr>\n",
       "    <tr>\n",
       "      <th>1</th>\n",
       "      <td>6016</td>\n",
       "      <td>c4acc2118bdcdb5770565362b02d00e0</td>\n",
       "      <td>2020-04-10 06:29:45</td>\n",
       "      <td>4.0</td>\n",
       "      <td>-999.0</td>\n",
       "      <td>-999.0</td>\n",
       "      <td>4.0</td>\n",
       "      <td>10.0</td>\n",
       "      <td>4.0</td>\n",
       "      <td>6.0</td>\n",
       "      <td>...</td>\n",
       "      <td>0</td>\n",
       "      <td>0</td>\n",
       "      <td>0</td>\n",
       "      <td>0</td>\n",
       "      <td>0</td>\n",
       "      <td>0</td>\n",
       "      <td>0</td>\n",
       "      <td>0</td>\n",
       "      <td>0</td>\n",
       "      <td>0</td>\n",
       "    </tr>\n",
       "    <tr>\n",
       "      <th>2</th>\n",
       "      <td>6017</td>\n",
       "      <td>180dd4930112053803ccea8556f33e47</td>\n",
       "      <td>2020-06-14 02:30:28</td>\n",
       "      <td>963.0</td>\n",
       "      <td>50.0</td>\n",
       "      <td>6.0</td>\n",
       "      <td>6.0</td>\n",
       "      <td>14.0</td>\n",
       "      <td>6.0</td>\n",
       "      <td>2.0</td>\n",
       "      <td>...</td>\n",
       "      <td>0</td>\n",
       "      <td>0</td>\n",
       "      <td>0</td>\n",
       "      <td>0</td>\n",
       "      <td>0</td>\n",
       "      <td>0</td>\n",
       "      <td>0</td>\n",
       "      <td>-1</td>\n",
       "      <td>0</td>\n",
       "      <td>0</td>\n",
       "    </tr>\n",
       "    <tr>\n",
       "      <th>3</th>\n",
       "      <td>6018</td>\n",
       "      <td>ac4d365f23909091fab2552bdc54f5ef</td>\n",
       "      <td>2020-08-01 04:21:00</td>\n",
       "      <td>-999.0</td>\n",
       "      <td>-999.0</td>\n",
       "      <td>-999.0</td>\n",
       "      <td>8.0</td>\n",
       "      <td>1.0</td>\n",
       "      <td>5.0</td>\n",
       "      <td>4.0</td>\n",
       "      <td>...</td>\n",
       "      <td>0</td>\n",
       "      <td>0</td>\n",
       "      <td>0</td>\n",
       "      <td>0</td>\n",
       "      <td>0</td>\n",
       "      <td>0</td>\n",
       "      <td>0</td>\n",
       "      <td>0</td>\n",
       "      <td>0</td>\n",
       "      <td>0</td>\n",
       "    </tr>\n",
       "    <tr>\n",
       "      <th>4</th>\n",
       "      <td>6019</td>\n",
       "      <td>5ba5638b734e397d5263a6b1b9201abd</td>\n",
       "      <td>2020-04-21 09:37:52</td>\n",
       "      <td>5.0</td>\n",
       "      <td>3.0</td>\n",
       "      <td>-999.0</td>\n",
       "      <td>4.0</td>\n",
       "      <td>21.0</td>\n",
       "      <td>1.0</td>\n",
       "      <td>9.0</td>\n",
       "      <td>...</td>\n",
       "      <td>0</td>\n",
       "      <td>0</td>\n",
       "      <td>0</td>\n",
       "      <td>0</td>\n",
       "      <td>0</td>\n",
       "      <td>0</td>\n",
       "      <td>0</td>\n",
       "      <td>0</td>\n",
       "      <td>0</td>\n",
       "      <td>0</td>\n",
       "    </tr>\n",
       "    <tr>\n",
       "      <th>...</th>\n",
       "      <td>...</td>\n",
       "      <td>...</td>\n",
       "      <td>...</td>\n",
       "      <td>...</td>\n",
       "      <td>...</td>\n",
       "      <td>...</td>\n",
       "      <td>...</td>\n",
       "      <td>...</td>\n",
       "      <td>...</td>\n",
       "      <td>...</td>\n",
       "      <td>...</td>\n",
       "      <td>...</td>\n",
       "      <td>...</td>\n",
       "      <td>...</td>\n",
       "      <td>...</td>\n",
       "      <td>...</td>\n",
       "      <td>...</td>\n",
       "      <td>...</td>\n",
       "      <td>...</td>\n",
       "      <td>...</td>\n",
       "      <td>...</td>\n",
       "    </tr>\n",
       "    <tr>\n",
       "      <th>1641</th>\n",
       "      <td>7656</td>\n",
       "      <td>4b3099585793c94c549f4a2fda9c8709</td>\n",
       "      <td>2020-04-06 04:48:36</td>\n",
       "      <td>14029.0</td>\n",
       "      <td>50.0</td>\n",
       "      <td>142.0</td>\n",
       "      <td>4.0</td>\n",
       "      <td>6.0</td>\n",
       "      <td>0.0</td>\n",
       "      <td>4.0</td>\n",
       "      <td>...</td>\n",
       "      <td>0</td>\n",
       "      <td>0</td>\n",
       "      <td>0</td>\n",
       "      <td>0</td>\n",
       "      <td>0</td>\n",
       "      <td>0</td>\n",
       "      <td>0</td>\n",
       "      <td>0</td>\n",
       "      <td>0</td>\n",
       "      <td>0</td>\n",
       "    </tr>\n",
       "    <tr>\n",
       "      <th>1642</th>\n",
       "      <td>7657</td>\n",
       "      <td>ccf2286e41cd4654a445f605a17a621f</td>\n",
       "      <td>2020-03-12 01:59:13</td>\n",
       "      <td>-999.0</td>\n",
       "      <td>-999.0</td>\n",
       "      <td>0.0</td>\n",
       "      <td>3.0</td>\n",
       "      <td>12.0</td>\n",
       "      <td>3.0</td>\n",
       "      <td>1.0</td>\n",
       "      <td>...</td>\n",
       "      <td>0</td>\n",
       "      <td>0</td>\n",
       "      <td>0</td>\n",
       "      <td>0</td>\n",
       "      <td>0</td>\n",
       "      <td>0</td>\n",
       "      <td>0</td>\n",
       "      <td>1</td>\n",
       "      <td>0</td>\n",
       "      <td>0</td>\n",
       "    </tr>\n",
       "    <tr>\n",
       "      <th>1643</th>\n",
       "      <td>7658</td>\n",
       "      <td>37e84ae817d024d201b8478236d9117f</td>\n",
       "      <td>2020-05-23 07:57:01</td>\n",
       "      <td>-999.0</td>\n",
       "      <td>-999.0</td>\n",
       "      <td>48.0</td>\n",
       "      <td>5.0</td>\n",
       "      <td>23.0</td>\n",
       "      <td>5.0</td>\n",
       "      <td>7.0</td>\n",
       "      <td>...</td>\n",
       "      <td>0</td>\n",
       "      <td>1</td>\n",
       "      <td>0</td>\n",
       "      <td>0</td>\n",
       "      <td>0</td>\n",
       "      <td>0</td>\n",
       "      <td>0</td>\n",
       "      <td>-1</td>\n",
       "      <td>0</td>\n",
       "      <td>0</td>\n",
       "    </tr>\n",
       "    <tr>\n",
       "      <th>1644</th>\n",
       "      <td>7659</td>\n",
       "      <td>f3317e52aa79b261db534a38e7f7c360</td>\n",
       "      <td>2020-06-17 04:11:22</td>\n",
       "      <td>-999.0</td>\n",
       "      <td>50.0</td>\n",
       "      <td>155.0</td>\n",
       "      <td>6.0</td>\n",
       "      <td>17.0</td>\n",
       "      <td>2.0</td>\n",
       "      <td>4.0</td>\n",
       "      <td>...</td>\n",
       "      <td>0</td>\n",
       "      <td>0</td>\n",
       "      <td>0</td>\n",
       "      <td>0</td>\n",
       "      <td>0</td>\n",
       "      <td>0</td>\n",
       "      <td>0</td>\n",
       "      <td>0</td>\n",
       "      <td>0</td>\n",
       "      <td>0</td>\n",
       "    </tr>\n",
       "    <tr>\n",
       "      <th>1645</th>\n",
       "      <td>7660</td>\n",
       "      <td>2e00583d046766d461afab67a7855530</td>\n",
       "      <td>2020-04-25 05:34:23</td>\n",
       "      <td>-999.0</td>\n",
       "      <td>76.0</td>\n",
       "      <td>-999.0</td>\n",
       "      <td>4.0</td>\n",
       "      <td>25.0</td>\n",
       "      <td>5.0</td>\n",
       "      <td>5.0</td>\n",
       "      <td>...</td>\n",
       "      <td>0</td>\n",
       "      <td>0</td>\n",
       "      <td>0</td>\n",
       "      <td>0</td>\n",
       "      <td>0</td>\n",
       "      <td>0</td>\n",
       "      <td>0</td>\n",
       "      <td>1</td>\n",
       "      <td>0</td>\n",
       "      <td>0</td>\n",
       "    </tr>\n",
       "  </tbody>\n",
       "</table>\n",
       "<p>1646 rows × 51 columns</p>\n",
       "</div>"
      ],
      "text/plain": [
       "        id                         user_name       timestamp_post  \\\n",
       "0     6015  fbf39587d668e9ae28afb00b8fc00570  2020-05-22 15:57:19   \n",
       "1     6016  c4acc2118bdcdb5770565362b02d00e0  2020-04-10 06:29:45   \n",
       "2     6017  180dd4930112053803ccea8556f33e47  2020-06-14 02:30:28   \n",
       "3     6018  ac4d365f23909091fab2552bdc54f5ef  2020-08-01 04:21:00   \n",
       "4     6019  5ba5638b734e397d5263a6b1b9201abd  2020-04-21 09:37:52   \n",
       "...    ...                               ...                  ...   \n",
       "1641  7656  4b3099585793c94c549f4a2fda9c8709  2020-04-06 04:48:36   \n",
       "1642  7657  ccf2286e41cd4654a445f605a17a621f  2020-03-12 01:59:13   \n",
       "1643  7658  37e84ae817d024d201b8478236d9117f  2020-05-23 07:57:01   \n",
       "1644  7659  f3317e52aa79b261db534a38e7f7c360  2020-06-17 04:11:22   \n",
       "1645  7660  2e00583d046766d461afab67a7855530  2020-04-25 05:34:23   \n",
       "\n",
       "      num_like_post  num_comment_post  num_share_post  month_post  day_post  \\\n",
       "0            -999.0            -999.0          -999.0         5.0      22.0   \n",
       "1               4.0            -999.0          -999.0         4.0      10.0   \n",
       "2             963.0              50.0             6.0         6.0      14.0   \n",
       "3            -999.0            -999.0          -999.0         8.0       1.0   \n",
       "4               5.0               3.0          -999.0         4.0      21.0   \n",
       "...             ...               ...             ...         ...       ...   \n",
       "1641        14029.0              50.0           142.0         4.0       6.0   \n",
       "1642         -999.0            -999.0             0.0         3.0      12.0   \n",
       "1643         -999.0            -999.0            48.0         5.0      23.0   \n",
       "1644         -999.0              50.0           155.0         6.0      17.0   \n",
       "1645         -999.0              76.0          -999.0         4.0      25.0   \n",
       "\n",
       "      weekday_post  hour_post  ...  T  Nb  X  I  B  Y  Ni  sentiment  num_tag  \\\n",
       "0              4.0       15.0  ...  0   0  0  0  0  0   0          0        0   \n",
       "1              4.0        6.0  ...  0   0  0  0  0  0   0          0        0   \n",
       "2              6.0        2.0  ...  0   0  0  0  0  0   0         -1        0   \n",
       "3              5.0        4.0  ...  0   0  0  0  0  0   0          0        0   \n",
       "4              1.0        9.0  ...  0   0  0  0  0  0   0          0        0   \n",
       "...            ...        ...  ... ..  .. .. .. .. ..  ..        ...      ...   \n",
       "1641           0.0        4.0  ...  0   0  0  0  0  0   0          0        0   \n",
       "1642           3.0        1.0  ...  0   0  0  0  0  0   0          1        0   \n",
       "1643           5.0        7.0  ...  0   1  0  0  0  0   0         -1        0   \n",
       "1644           2.0        4.0  ...  0   0  0  0  0  0   0          0        0   \n",
       "1645           5.0        5.0  ...  0   0  0  0  0  0   0          1        0   \n",
       "\n",
       "      num_emoji  \n",
       "0             0  \n",
       "1             0  \n",
       "2             0  \n",
       "3             0  \n",
       "4             0  \n",
       "...         ...  \n",
       "1641          0  \n",
       "1642          0  \n",
       "1643          0  \n",
       "1644          0  \n",
       "1645          0  \n",
       "\n",
       "[1646 rows x 51 columns]"
      ]
     },
     "execution_count": 3,
     "metadata": {},
     "output_type": "execute_result"
    }
   ],
   "source": [
    "test_df"
   ]
  },
  {
   "cell_type": "code",
   "execution_count": 4,
   "id": "improved-prediction",
   "metadata": {},
   "outputs": [],
   "source": [
    "train_df = train_df.drop(['user_name', 'clean_post_message', 'timestamp_post'], axis=1)\n",
    "test_df = test_df.drop(['user_name', 'clean_post_message', 'timestamp_post'], axis=1)"
   ]
  },
  {
   "cell_type": "code",
   "execution_count": 5,
   "id": "national-deadline",
   "metadata": {},
   "outputs": [
    {
     "name": "stdout",
     "output_type": "stream",
     "text": [
      "<class 'pandas.core.frame.DataFrame'>\n",
      "RangeIndex: 5172 entries, 0 to 5171\n",
      "Data columns (total 49 columns):\n",
      " #   Column                     Non-Null Count  Dtype  \n",
      "---  ------                     --------------  -----  \n",
      " 0   id                         5172 non-null   int64  \n",
      " 1   num_like_post              5172 non-null   float64\n",
      " 2   num_comment_post           5172 non-null   float64\n",
      " 3   num_share_post             5172 non-null   float64\n",
      " 4   label                      5172 non-null   int64  \n",
      " 5   num_post                   5172 non-null   int64  \n",
      " 6   month_post                 5172 non-null   float64\n",
      " 7   day_post                   5172 non-null   float64\n",
      " 8   weekday_post               5172 non-null   float64\n",
      " 9   hour_post                  5172 non-null   float64\n",
      " 10  session_of_day             5172 non-null   int64  \n",
      " 11  len_post_message           5172 non-null   int64  \n",
      " 12  num_url_in_post_message    5172 non-null   int64  \n",
      " 13  num_phone_in_post_message  5172 non-null   int64  \n",
      " 14  num_bold_char_in_message   5172 non-null   int64  \n",
      " 15  num_upper_char             5172 non-null   int64  \n",
      " 16  num_question_mark          5172 non-null   int64  \n",
      " 17  num_exclamation_mark       5172 non-null   int64  \n",
      " 18  num_quote_mark             5172 non-null   int64  \n",
      " 19  num_comma                  5172 non-null   int64  \n",
      " 20  num_dot                    5172 non-null   int64  \n",
      " 21  num_tag                    5172 non-null   int64  \n",
      " 22  num_emoji                  5172 non-null   int64  \n",
      " 23  Ny                         5172 non-null   int64  \n",
      " 24  V                          5172 non-null   int64  \n",
      " 25  N                          5172 non-null   int64  \n",
      " 26  M                          5172 non-null   int64  \n",
      " 27  E                          5172 non-null   int64  \n",
      " 28  CH                         5172 non-null   int64  \n",
      " 29  Np                         5172 non-null   int64  \n",
      " 30  R                          5172 non-null   int64  \n",
      " 31  C                          5172 non-null   int64  \n",
      " 32  Vb                         5172 non-null   int64  \n",
      " 33  Z                          5172 non-null   int64  \n",
      " 34  A                          5172 non-null   int64  \n",
      " 35  Nu                         5172 non-null   int64  \n",
      " 36  Cc                         5172 non-null   int64  \n",
      " 37  P                          5172 non-null   int64  \n",
      " 38  L                          5172 non-null   int64  \n",
      " 39  Nc                         5172 non-null   int64  \n",
      " 40  T                          5172 non-null   int64  \n",
      " 41  Nb                         5172 non-null   int64  \n",
      " 42  X                          5172 non-null   int64  \n",
      " 43  I                          5172 non-null   int64  \n",
      " 44  B                          5172 non-null   int64  \n",
      " 45  Y                          5172 non-null   int64  \n",
      " 46  Ni                         5172 non-null   int64  \n",
      " 47  coleman_liau_score         5172 non-null   float64\n",
      " 48  sentiment                  5172 non-null   int64  \n",
      "dtypes: float64(8), int64(41)\n",
      "memory usage: 1.9 MB\n"
     ]
    }
   ],
   "source": [
    "train_df.info()"
   ]
  },
  {
   "cell_type": "code",
   "execution_count": 6,
   "id": "strange-camcorder",
   "metadata": {},
   "outputs": [
    {
     "name": "stdout",
     "output_type": "stream",
     "text": [
      "<class 'pandas.core.frame.DataFrame'>\n",
      "RangeIndex: 1646 entries, 0 to 1645\n",
      "Data columns (total 48 columns):\n",
      " #   Column                     Non-Null Count  Dtype  \n",
      "---  ------                     --------------  -----  \n",
      " 0   id                         1646 non-null   int64  \n",
      " 1   num_like_post              1646 non-null   float64\n",
      " 2   num_comment_post           1646 non-null   float64\n",
      " 3   num_share_post             1646 non-null   float64\n",
      " 4   month_post                 1646 non-null   float64\n",
      " 5   day_post                   1646 non-null   float64\n",
      " 6   weekday_post               1646 non-null   float64\n",
      " 7   hour_post                  1646 non-null   float64\n",
      " 8   session_of_day             1646 non-null   int64  \n",
      " 9   len_post_message           1646 non-null   int64  \n",
      " 10  num_url_in_post_message    1646 non-null   int64  \n",
      " 11  num_phone_in_post_message  1646 non-null   int64  \n",
      " 12  num_bold_char_in_message   1646 non-null   int64  \n",
      " 13  num_upper_char             1646 non-null   int64  \n",
      " 14  num_question_mark          1646 non-null   int64  \n",
      " 15  num_exclamation_mark       1646 non-null   int64  \n",
      " 16  num_quote_mark             1646 non-null   int64  \n",
      " 17  num_comma                  1646 non-null   int64  \n",
      " 18  num_dot                    1646 non-null   int64  \n",
      " 19  num_post                   1646 non-null   int64  \n",
      " 20  coleman_liau_score         1646 non-null   float64\n",
      " 21  Ny                         1646 non-null   int64  \n",
      " 22  V                          1646 non-null   int64  \n",
      " 23  N                          1646 non-null   int64  \n",
      " 24  M                          1646 non-null   int64  \n",
      " 25  E                          1646 non-null   int64  \n",
      " 26  CH                         1646 non-null   int64  \n",
      " 27  Np                         1646 non-null   int64  \n",
      " 28  R                          1646 non-null   int64  \n",
      " 29  C                          1646 non-null   int64  \n",
      " 30  Vb                         1646 non-null   int64  \n",
      " 31  Z                          1646 non-null   int64  \n",
      " 32  A                          1646 non-null   int64  \n",
      " 33  Nu                         1646 non-null   int64  \n",
      " 34  Cc                         1646 non-null   int64  \n",
      " 35  P                          1646 non-null   int64  \n",
      " 36  L                          1646 non-null   int64  \n",
      " 37  Nc                         1646 non-null   int64  \n",
      " 38  T                          1646 non-null   int64  \n",
      " 39  Nb                         1646 non-null   int64  \n",
      " 40  X                          1646 non-null   int64  \n",
      " 41  I                          1646 non-null   int64  \n",
      " 42  B                          1646 non-null   int64  \n",
      " 43  Y                          1646 non-null   int64  \n",
      " 44  Ni                         1646 non-null   int64  \n",
      " 45  sentiment                  1646 non-null   int64  \n",
      " 46  num_tag                    1646 non-null   int64  \n",
      " 47  num_emoji                  1646 non-null   int64  \n",
      "dtypes: float64(8), int64(40)\n",
      "memory usage: 617.4 KB\n"
     ]
    }
   ],
   "source": [
    "test_df.info()"
   ]
  },
  {
   "cell_type": "code",
   "execution_count": 7,
   "id": "altered-reward",
   "metadata": {},
   "outputs": [],
   "source": [
    "kf = KFold(n_splits=5)"
   ]
  },
  {
   "cell_type": "code",
   "execution_count": 8,
   "id": "premium-occasions",
   "metadata": {},
   "outputs": [],
   "source": [
    "X_train = train_df.drop(['label', 'id'], axis=1).values\n",
    "y_train = train_df['label'].values"
   ]
  },
  {
   "cell_type": "code",
   "execution_count": 9,
   "id": "dense-creek",
   "metadata": {},
   "outputs": [],
   "source": [
    "X_test = test_df.drop(['id'], axis=1).values"
   ]
  },
  {
   "cell_type": "code",
   "execution_count": 10,
   "id": "consolidated-netscape",
   "metadata": {},
   "outputs": [
    {
     "data": {
      "text/plain": [
       "((5172, 47), (5172,), (1646, 47))"
      ]
     },
     "execution_count": 10,
     "metadata": {},
     "output_type": "execute_result"
    }
   ],
   "source": [
    "X_train.shape, y_train.shape, X_test.shape"
   ]
  },
  {
   "cell_type": "markdown",
   "id": "formed-montreal",
   "metadata": {},
   "source": [
    "## Random Forest"
   ]
  },
  {
   "cell_type": "code",
   "execution_count": 26,
   "id": "boring-elimination",
   "metadata": {
    "scrolled": true
   },
   "outputs": [
    {
     "name": "stdout",
     "output_type": "stream",
     "text": [
      "Fold  0 :  0.8711723909111341\n",
      "Fold  1 :  0.8813564927505557\n",
      "Fold  2 :  0.8888279021230171\n",
      "Fold  3 :  0.855135920702055\n",
      "Fold  4 :  0.8391595585076035\n"
     ]
    }
   ],
   "source": [
    "random_states = [0, 1231231, 96596565]\n",
    "history = []\n",
    "y_test_pred = np.zeros((1646, ))\n",
    "# for random_state in random_states:\n",
    "for (i, (train_idx, val_idx)) in enumerate(kf.split(X_train)):\n",
    "    tree_clf = RandomForestClassifier(n_estimators=100, \n",
    "                                     random_state=1111, \n",
    "                                    max_depth=3)\n",
    "#     Toggle function for KNn :)\n",
    "#     clf =  KNeighborsClassifier(n_neighbors=5)\n",
    "\n",
    "    X_train_kf, X_val_kf = X_train[train_idx], X_train[val_idx]\n",
    "    y_train_kf, y_val_kf = y_train[train_idx], y_train[val_idx]\n",
    "\n",
    "#     clf = RandomForestClassifier(max_depth=5, random_state=0)\n",
    "    tree_clf.fit(X_train_kf, y_train_kf)\n",
    "\n",
    "    importances = tree_clf.feature_importances_\n",
    "\n",
    "    y_pred = tree_clf.predict_proba(X_val_kf)[:, 1]\n",
    "\n",
    "    y_test_pred += tree_clf.predict_proba(X_test)[:, 1]\n",
    "\n",
    "#     print(y_val_kf)\n",
    "#     print(y_pred[:, 1])\n",
    "\n",
    "    roc_score = roc_auc_score(y_val_kf, y_pred)\n",
    "    history.append(roc_score)\n",
    "    print(\"Fold \", i, \": \", roc_score)"
   ]
  },
  {
   "cell_type": "code",
   "execution_count": 22,
   "id": "moving-spectacular",
   "metadata": {},
   "outputs": [
    {
     "data": {
      "text/plain": [
       "(0.8671304529988731, 0.01797629834676201)"
      ]
     },
     "execution_count": 22,
     "metadata": {},
     "output_type": "execute_result"
    }
   ],
   "source": [
    "np.array(history).mean(), np.sqrt(np.array(history).var())"
   ]
  },
  {
   "cell_type": "markdown",
   "id": "transparent-concern",
   "metadata": {},
   "source": [
    "## KNn"
   ]
  },
  {
   "cell_type": "code",
   "execution_count": 23,
   "id": "relative-foster",
   "metadata": {},
   "outputs": [
    {
     "name": "stdout",
     "output_type": "stream",
     "text": [
      "Fold  0 :  0.8368483298192287\n",
      "Fold  1 :  0.7317507143613081\n",
      "Fold  2 :  0.7573810927473184\n",
      "Fold  3 :  0.7333848819660523\n",
      "Fold  4 :  0.7495756235340523\n"
     ]
    }
   ],
   "source": [
    "random_states = [0, 1231231, 96596565]\n",
    "history = []\n",
    "y_test_pred = np.zeros((1646, ))\n",
    "# for random_state in random_states:\n",
    "for (i, (train_idx, val_idx)) in enumerate(kf.split(X_train)):\n",
    "\n",
    "    clf =  KNeighborsClassifier(n_neighbors=5)\n",
    "\n",
    "    X_train_kf, X_val_kf = X_train[train_idx], X_train[val_idx]\n",
    "    y_train_kf, y_val_kf = y_train[train_idx], y_train[val_idx]\n",
    "\n",
    "#     clf = RandomForestClassifier(max_depth=5, random_state=0)\n",
    "    clf.fit(X_train_kf, y_train_kf)\n",
    "\n",
    "    y_pred = clf.predict_proba(X_val_kf)[:, 1]\n",
    "\n",
    "    y_test_pred += clf.predict_proba(X_test)[:, 1]\n",
    "\n",
    "#     print(y_val_kf)\n",
    "#     print(y_pred[:, 1])\n",
    "\n",
    "    roc_score = roc_auc_score(y_val_kf, y_pred)\n",
    "    history.append(roc_score)\n",
    "    print(\"Fold \", i, \": \", roc_score)"
   ]
  },
  {
   "cell_type": "code",
   "execution_count": 24,
   "id": "amino-amount",
   "metadata": {},
   "outputs": [
    {
     "data": {
      "text/plain": [
       "(0.7617881284855919, 0.03875975161313436)"
      ]
     },
     "execution_count": 24,
     "metadata": {},
     "output_type": "execute_result"
    }
   ],
   "source": [
    "np.array(history).mean(), np.sqrt(np.array(history).var())"
   ]
  },
  {
   "cell_type": "markdown",
   "id": "democratic-killer",
   "metadata": {},
   "source": [
    "## Tree important feature"
   ]
  },
  {
   "cell_type": "code",
   "execution_count": 27,
   "id": "consecutive-casting",
   "metadata": {},
   "outputs": [],
   "source": [
    "# Toggle if use KNn\n",
    "std = np.std([tree.feature_importances_ for tree in tree_clf.estimators_],\n",
    "             axis=0)\n",
    "indices = np.argsort(importances)[::-1]"
   ]
  },
  {
   "cell_type": "code",
   "execution_count": 28,
   "id": "confident-repair",
   "metadata": {},
   "outputs": [
    {
     "data": {
      "image/png": "[encoded data removed]",
      "text/plain": [
       "<Figure size 432x288 with 1 Axes>"
      ]
     },
     "metadata": {
      "needs_background": "light"
     },
     "output_type": "display_data"
    }
   ],
   "source": [
    "import matplotlib.pyplot as plt\n",
    "plt.figure()\n",
    "plt.title(\"Feature importances\")\n",
    "plt.bar(range(10), importances[indices[0:10]],\n",
    "        color=\"r\", yerr=std[indices[0:10]], align=\"center\")\n",
    "plt.xticks(range(10), indices[0:10])\n",
    "plt.xlim([-1, 10])\n",
    "plt.show()\n",
    "# xgb.plot_importance(clf)"
   ]
  },
  {
   "cell_type": "markdown",
   "id": "coral-briefing",
   "metadata": {},
   "source": [
    "Variance is really high -> overfit model"
   ]
  },
  {
   "cell_type": "code",
   "execution_count": 16,
   "id": "miniature-healing",
   "metadata": {},
   "outputs": [
    {
     "data": {
      "text/plain": [
       "array([0.50690849, 0.45757084, 0.23945566, ..., 0.45643193, 0.27819659,\n",
       "       0.27061877])"
      ]
     },
     "execution_count": 16,
     "metadata": {},
     "output_type": "execute_result"
    }
   ],
   "source": [
    "y_test_pred_result = y_test_pred/5\n",
    "y_test_pred_result"
   ]
  },
  {
   "cell_type": "code",
   "execution_count": 17,
   "id": "neural-empty",
   "metadata": {},
   "outputs": [
    {
     "data": {
      "text/plain": [
       "array([0.50690849, 0.45757084, 0.23945566, ..., 0.45643193, 0.27819659,\n",
       "       0.27061877])"
      ]
     },
     "execution_count": 17,
     "metadata": {},
     "output_type": "execute_result"
    }
   ],
   "source": [
    "y_test_pred_result"
   ]
  },
  {
   "cell_type": "code",
   "execution_count": 100,
   "id": "dental-sequence",
   "metadata": {},
   "outputs": [],
   "source": [
    "result = pd.DataFrame()\n",
    "result['id'] = test_df['id']\n",
    "result['label'] = y_test_pred_result"
   ]
  },
  {
   "cell_type": "code",
   "execution_count": 101,
   "id": "regional-pharmacology",
   "metadata": {},
   "outputs": [],
   "source": [
    "result.to_csv('results.csv', index=False, header=None)"
   ]
  },
  {
   "cell_type": "markdown",
   "id": "retained-criterion",
   "metadata": {},
   "source": [
    "# Stacking part"
   ]
  },
  {
   "cell_type": "code",
   "execution_count": 33,
   "id": "danish-banner",
   "metadata": {},
   "outputs": [],
   "source": [
    "from sklearn.model_selection import train_test_split"
   ]
  },
  {
   "cell_type": "code",
   "execution_count": 74,
   "id": "impressive-passport",
   "metadata": {},
   "outputs": [],
   "source": [
    "X_strain, X_sval, y_strain, y_sval = train_test_split(X_train, y_train, test_size=0.3, shuffle=False)"
   ]
  },
  {
   "cell_type": "code",
   "execution_count": 75,
   "id": "pacific-blood",
   "metadata": {},
   "outputs": [
    {
     "data": {
      "text/plain": [
       "array([[ 4.500e+01,  1.500e+01,  8.000e+00, ...,  0.000e+00,  6.010e+00,\n",
       "         0.000e+00],\n",
       "       [ 9.790e+02,  3.900e+01,  1.380e+02, ...,  0.000e+00,  1.024e+01,\n",
       "         1.000e+00],\n",
       "       [ 8.500e+01,  1.300e+01,  6.100e+01, ...,  0.000e+00,  6.960e+00,\n",
       "        -1.000e+00],\n",
       "       ...,\n",
       "       [ 2.600e+01,  1.000e+00, -9.990e+02, ...,  0.000e+00,  7.320e+00,\n",
       "         0.000e+00],\n",
       "       [ 3.770e+02,  1.190e+02,  1.900e+03, ...,  0.000e+00,  9.090e+00,\n",
       "         0.000e+00],\n",
       "       [ 1.000e+00,  0.000e+00,  0.000e+00, ...,  0.000e+00,  1.140e+01,\n",
       "         0.000e+00]])"
      ]
     },
     "execution_count": 75,
     "metadata": {},
     "output_type": "execute_result"
    }
   ],
   "source": [
    "X_strain"
   ]
  },
  {
   "cell_type": "code",
   "execution_count": 81,
   "id": "greenhouse-colleague",
   "metadata": {},
   "outputs": [],
   "source": [
    "# clf = RandomForestClassifier(n_estimators=100, \n",
    "#                              random_state=1111,\n",
    "#                              max_depth=3)\n",
    "clf =  KNeighborsClassifier(n_neighbors=5)"
   ]
  },
  {
   "cell_type": "code",
   "execution_count": 82,
   "id": "divided-nation",
   "metadata": {},
   "outputs": [
    {
     "data": {
      "text/plain": [
       "KNeighborsClassifier()"
      ]
     },
     "execution_count": 82,
     "metadata": {},
     "output_type": "execute_result"
    }
   ],
   "source": [
    "clf.fit(X_strain, y_strain)"
   ]
  },
  {
   "cell_type": "code",
   "execution_count": 83,
   "id": "cheap-rings",
   "metadata": {},
   "outputs": [],
   "source": [
    "y_sval_pred = clf.predict_proba(X_sval)[:, 1]\n",
    "y_test_pred = clf.predict_proba(X_test)[:, 1]"
   ]
  },
  {
   "cell_type": "code",
   "execution_count": 84,
   "id": "floppy-resource",
   "metadata": {},
   "outputs": [],
   "source": [
    "# pd.DataFrame(y_sval_pred, columns=[\"y_sval_pred_rf\"]).to_csv('ensemble/y_sval_pred_rf.csv', index=False)\n",
    "# pd.DataFrame(y_test_pred, columns=[\"y_test_pred_rf\"]).to_csv('ensemble/y_test_pred_rf.csv', index=False)\n",
    "pd.DataFrame(y_sval_pred, columns=[\"y_sval_pred_knn\"]).to_csv('ensemble/y_sval_pred_knn.csv', index=False)\n",
    "pd.DataFrame(y_test_pred, columns=[\"y_test_pred_knn\"]).to_csv('ensemble/y_test_pred_knn.csv', index=False)"
   ]
  },
  {
   "cell_type": "code",
   "execution_count": 80,
   "id": "objective-consciousness",
   "metadata": {},
   "outputs": [
    {
     "data": {
      "text/plain": [
       "array([0, 0, 0, ..., 1, 1, 0])"
      ]
     },
     "execution_count": 80,
     "metadata": {},
     "output_type": "execute_result"
    }
   ],
   "source": [
    "pd.DataFrame(y_sval, columns=[\"y_sval\"]).to_csv('ensemble/y_sval.csv', index=False)\n",
    "y_sval"
   ]
  }
 ],
 "metadata": {
  "kernelspec": {
   "display_name": "Python 3",
   "language": "python",
   "name": "python3"
  },
  "language_info": {
   "codemirror_mode": {
    "name": "ipython",
    "version": 3
   },
   "file_extension": ".py",
   "mimetype": "text/x-python",
   "name": "python",
   "nbconvert_exporter": "python",
   "pygments_lexer": "ipython3",
   "version": "3.8.5"
  }
 },
 "nbformat": 4,
 "nbformat_minor": 5
}
