{
 "cells": [
  {
   "cell_type": "code",
   "execution_count": null,
   "metadata": {
    "id": "kHFptcHMEQiC"
   },
   "outputs": [],
   "source": [
    "import numpy as np\n",
    "import random\n",
    "import pandas as pd\n",
    "from  matplotlib import pyplot as plt\n",
    "import codecs\n",
    "from gensim.models import KeyedVectors\n",
    "from tensorflow import keras"
   ]
  },
  {
   "cell_type": "code",
   "execution_count": null,
   "metadata": {
    "colab": {
     "base_uri": "https://localhost:8080/"
    },
    "id": "PRXlZd3KQZ2R",
    "outputId": "4bfe57a6-66cd-4eb4-bf6d-53c3fe8f75fc"
   },
   "outputs": [
    {
     "name": "stdout",
     "output_type": "stream",
     "text": [
      "Mounted at /content/drive\n"
     ]
    }
   ],
   "source": [
    "from google.colab import drive\n",
    "drive.mount('/content/drive')"
   ]
  },
  {
   "cell_type": "code",
   "execution_count": null,
   "metadata": {
    "id": "AhrRM10pEQie"
   },
   "outputs": [],
   "source": [
    "import tensorflow as tf\n",
    "from keras.utils.np_utils import to_categorical\n",
    "from scipy.sparse import hstack, csr_matrix, vstack"
   ]
  },
  {
   "cell_type": "code",
   "execution_count": null,
   "metadata": {
    "id": "jNcUPCCaEQim"
   },
   "outputs": [],
   "source": [
    "from sklearn.model_selection import KFold\n",
    "from sklearn.svm import SVC\n",
    "from sklearn.metrics import roc_auc_score\n",
    "from sklearn.preprocessing import StandardScaler\n",
    "from sklearn.pipeline import make_pipeline"
   ]
  },
  {
   "cell_type": "markdown",
   "metadata": {},
   "source": [
    "# Calculate sentence embedding"
   ]
  },
  {
   "cell_type": "code",
   "execution_count": null,
   "metadata": {
    "id": "dw0QMD2-EQi0"
   },
   "outputs": [],
   "source": [
    "def get_char_vector(s, wv):\n",
    "    default_emb = np.zeros((400, ))\n",
    "    vecs = []\n",
    "    for c in s:\n",
    "        vecs.append(wv[str(c)] if c in wv.vocab.keys() else default_emb)\n",
    "    return np.mean(vecs, axis=0)"
   ]
  },
  {
   "cell_type": "code",
   "execution_count": null,
   "metadata": {
    "id": "spvCE_zsEQi7"
   },
   "outputs": [],
   "source": [
    "class MeanEmbeddingVectorizer(object):\n",
    "    def __init__(self, model):\n",
    "        self.model = model\n",
    "        self.dim = len(model.vocab)\n",
    "        self.default_emb = np.zeros((400, ))\n",
    "    def fit(self, X, y):\n",
    "        return self\n",
    "    def transform(self, X):\n",
    "        return np.array([\n",
    "                np.mean([self.model[w] \n",
    "                         if w in self.model.vocab.keys() \n",
    "                         else get_char_vector(w, self.model) \n",
    "                         for w in words.split(\" \")], axis=0) if words != \"\" else self.default_emb for words in X])\n",
    "    "
   ]
  },
  {
   "cell_type": "code",
   "execution_count": null,
   "metadata": {
    "id": "PX6DG2m1EQi_"
   },
   "outputs": [],
   "source": [
    "model = KeyedVectors.load_word2vec_format(\"/content/drive/My Drive/vlsp/baomoi.model.bin\", binary=True)"
   ]
  },
  {
   "cell_type": "code",
   "execution_count": null,
   "metadata": {
    "colab": {
     "base_uri": "https://localhost:8080/"
    },
    "id": "wnGNYWieEQjM",
    "outputId": "0975bb9f-666c-4fe8-cb41-7f1962cf721e"
   },
   "outputs": [
    {
     "data": {
      "text/plain": [
       "[('cbcc', 0.5781417489051819),\n",
       " ('cbcĐ', 0.5512620210647583),\n",
       " ('cbcs', 0.534953773021698),\n",
       " ('cán_bộ_chính_trị', 0.5315697193145752),\n",
       " ('cán_bộ_chỉ_huy', 0.5292246341705322),\n",
       " ('viên_chức', 0.5175833702087402),\n",
       " ('công_tác', 0.5019720792770386),\n",
       " ('nhân_viên', 0.501397967338562),\n",
       " ('lãnh_đạo', 0.4960173964500427),\n",
       " ('giáo_viên', 0.48895594477653503)]"
      ]
     },
     "execution_count": 8,
     "metadata": {
      "tags": []
     },
     "output_type": "execute_result"
    }
   ],
   "source": [
    "model.most_similar(positive=[\"cán_bộ\"])"
   ]
  },
  {
   "cell_type": "code",
   "execution_count": null,
   "metadata": {
    "colab": {
     "base_uri": "https://localhost:8080/"
    },
    "id": "-cL3uML2EQjT",
    "outputId": "8e2dc1f0-928a-4738-a1ca-16dd313e032b"
   },
   "outputs": [
    {
     "data": {
      "text/plain": [
       "439056"
      ]
     },
     "execution_count": 11,
     "metadata": {
      "tags": []
     },
     "output_type": "execute_result"
    }
   ],
   "source": [
    "len(model.vocab)"
   ]
  },
  {
   "cell_type": "markdown",
   "metadata": {},
   "source": [
    "# Load data"
   ]
  },
  {
   "cell_type": "code",
   "execution_count": null,
   "metadata": {
    "id": "x2_sv_ROEQjZ"
   },
   "outputs": [],
   "source": [
    "train_df = pd.read_csv(\"/content/drive/My Drive/vlsp/clean_train_df_ext.csv\")\n",
    "test_df = pd.read_csv(\"/content/drive/My Drive/vlsp/clean_final_test_df.csv\")"
   ]
  },
  {
   "cell_type": "code",
   "execution_count": null,
   "metadata": {
    "colab": {
     "base_uri": "https://localhost:8080/"
    },
    "id": "SvN0gWVwupcP",
    "outputId": "775f0d3e-dba6-4f4a-de03-0567a7520838"
   },
   "outputs": [
    {
     "name": "stdout",
     "output_type": "stream",
     "text": [
      "<class 'pandas.core.frame.DataFrame'>\n",
      "RangeIndex: 1646 entries, 0 to 1645\n",
      "Data columns (total 8 columns):\n",
      " #   Column              Non-Null Count  Dtype  \n",
      "---  ------              --------------  -----  \n",
      " 0   id                  1646 non-null   int64  \n",
      " 1   user_name           1646 non-null   object \n",
      " 2   timestamp_post      1646 non-null   float64\n",
      " 3   num_like_post       1646 non-null   float64\n",
      " 4   num_comment_post    1646 non-null   float64\n",
      " 5   num_share_post      1646 non-null   float64\n",
      " 6   len_post_message    1646 non-null   int64  \n",
      " 7   clean_post_message  1646 non-null   object \n",
      "dtypes: float64(4), int64(2), object(2)\n",
      "memory usage: 103.0+ KB\n"
     ]
    }
   ],
   "source": [
    "test_df.info()"
   ]
  },
  {
   "cell_type": "code",
   "execution_count": null,
   "metadata": {
    "colab": {
     "base_uri": "https://localhost:8080/"
    },
    "id": "-_CffhA8EQjf",
    "outputId": "28b7de39-2d11-4d7b-93e9-b26b32229677"
   },
   "outputs": [
    {
     "name": "stdout",
     "output_type": "stream",
     "text": [
      "<class 'pandas.core.frame.DataFrame'>\n",
      "RangeIndex: 5172 entries, 0 to 5171\n",
      "Data columns (total 8 columns):\n",
      " #   Column              Non-Null Count  Dtype  \n",
      "---  ------              --------------  -----  \n",
      " 0   id                  5172 non-null   int64  \n",
      " 1   user_name           5172 non-null   object \n",
      " 2   timestamp_post      5172 non-null   float64\n",
      " 3   num_like_post       5172 non-null   float64\n",
      " 4   num_comment_post    5172 non-null   float64\n",
      " 5   num_share_post      5172 non-null   float64\n",
      " 6   label               5172 non-null   int64  \n",
      " 7   clean_post_message  5102 non-null   object \n",
      "dtypes: float64(4), int64(2), object(2)\n",
      "memory usage: 323.4+ KB\n"
     ]
    }
   ],
   "source": [
    "train_df.info()"
   ]
  },
  {
   "cell_type": "code",
   "execution_count": null,
   "metadata": {
    "id": "tyihdmnVEQjm"
   },
   "outputs": [],
   "source": [
    "train_df['clean_post_message'].fillna(\"\", inplace=True)\n",
    "test_df['clean_post_message'].fillna(\"\", inplace=True)"
   ]
  },
  {
   "cell_type": "code",
   "execution_count": null,
   "metadata": {
    "colab": {
     "base_uri": "https://localhost:8080/"
    },
    "id": "I_lG7suzEQjq",
    "outputId": "38d381da-7253-4155-ea26-9a28a8bdfbaf"
   },
   "outputs": [
    {
     "data": {
      "text/plain": [
       "array(['Cần các bậc phụ_huynh xã Ngũ_Thái lên_tiếng , không ngờ xã mình cũng nhận thịt nhiễm sán ... Cho các cháu Mầm_non ăn_uống thế_này thật vô_nhân tính ! VTV đăng tin rồi nhé các anh_chị .',\n",
       "       'KÊU_GỌI ĂN_CHAY CẦU_NGUYỆN XIN CHÚA CỨU KHỎI DỊCH VIRUS CORONA',\n",
       "       'Giàn khoan dầu_khí gặp sự_cố , chết người ! Giàn khoan dầu_khí ngoài_trời Vũng_Tàu gặp sự_cố , làm chết nhiều người . Được biết nguyên_nhân gây ra sự_cố này là do gặp phải khí độc bốc lên làm nhiều người ngạt khí .',\n",
       "       ...,\n",
       "       'Lời cảnh_tỉnh cho các thanh_niên dân TỔ ... tốc_độ bàn_thờ là có thật mặt la_hét kinh_hãi - - hậu_quả là 1 cái c.h.ế.t vắt x.á.c , th.i t.h.ể Ko còn nguyên vẹnmặt sợ hãimặt sợ hãimặt sợ_hãi ải Bát_hương Vàng có chủ',\n",
       "       'Đến bây_giờ mới biết chỉ cần học lái_xe hạng B2 là biết chữa bá bệnh cho người và còn làm lãnh_đạo y_tế nữa . Đúng là chuyện ở xứ thiên_đường !',\n",
       "       'Tư_lệnh ngành cấm bay với phi_công Pakistan , rà_soát bằng_cấp các phi_công nước_ngoài . Cục hàng_không nhanh_chóng truy ra 27 phi_công quốc_tịch Pakistan nhưng đó là hãng nào ? Đến bằng phi_công còn giả nữa thì chịu các thánh'],\n",
       "      dtype=object)"
      ]
     },
     "execution_count": 11,
     "metadata": {
      "tags": []
     },
     "output_type": "execute_result"
    }
   ],
   "source": [
    "train_df['clean_post_message'].values"
   ]
  },
  {
   "cell_type": "code",
   "execution_count": null,
   "metadata": {
    "id": "jzGbMbPoEQjw"
   },
   "outputs": [],
   "source": [
    "train_df['clean_post_message'] = train_df['clean_post_message'].astype(str)\n",
    "test_df['clean_post_message'] = test_df['clean_post_message'].astype(str)"
   ]
  },
  {
   "cell_type": "code",
   "execution_count": null,
   "metadata": {
    "colab": {
     "base_uri": "https://localhost:8080/"
    },
    "id": "uCYGRX5lEQj0",
    "outputId": "d4d200dc-8cde-46d6-f0a4-0ef6a75e7b13"
   },
   "outputs": [
    {
     "name": "stdout",
     "output_type": "stream",
     "text": [
      "<class 'pandas.core.frame.DataFrame'>\n",
      "RangeIndex: 5172 entries, 0 to 5171\n",
      "Data columns (total 8 columns):\n",
      " #   Column              Non-Null Count  Dtype  \n",
      "---  ------              --------------  -----  \n",
      " 0   id                  5172 non-null   int64  \n",
      " 1   user_name           5172 non-null   object \n",
      " 2   timestamp_post      5172 non-null   float64\n",
      " 3   num_like_post       5172 non-null   float64\n",
      " 4   num_comment_post    5172 non-null   float64\n",
      " 5   num_share_post      5172 non-null   float64\n",
      " 6   label               5172 non-null   int64  \n",
      " 7   clean_post_message  5172 non-null   object \n",
      "dtypes: float64(4), int64(2), object(2)\n",
      "memory usage: 323.4+ KB\n"
     ]
    }
   ],
   "source": [
    "train_df.info()"
   ]
  },
  {
   "cell_type": "code",
   "execution_count": null,
   "metadata": {
    "colab": {
     "base_uri": "https://localhost:8080/"
    },
    "id": "lxsANpw5EQj9",
    "outputId": "490ba449-6560-45a1-a5ce-1dbe72a32387"
   },
   "outputs": [
    {
     "data": {
      "text/plain": [
       "5044"
      ]
     },
     "execution_count": 19,
     "metadata": {
      "tags": []
     },
     "output_type": "execute_result"
    }
   ],
   "source": [
    "train_df['clean_post_message'].apply(lambda x: len(x.split(\" \"))).max()"
   ]
  },
  {
   "cell_type": "code",
   "execution_count": null,
   "metadata": {
    "id": "c3DQUKsGEQkC"
   },
   "outputs": [],
   "source": [
    "t = MeanEmbeddingVectorizer(model)\n",
    "X_train = t.transform(train_df['clean_post_message'].values)"
   ]
  },
  {
   "cell_type": "code",
   "execution_count": null,
   "metadata": {
    "id": "HPjg3NxNEQkF"
   },
   "outputs": [],
   "source": [
    "X_test = t.transform(test_df['clean_post_message'].values)"
   ]
  },
  {
   "cell_type": "code",
   "execution_count": null,
   "metadata": {
    "colab": {
     "base_uri": "https://localhost:8080/"
    },
    "id": "h4_fjijfEQkM",
    "outputId": "6cc6a6a7-58c9-4317-8267-d5c480e2f21e"
   },
   "outputs": [
    {
     "data": {
      "text/plain": [
       "(5172, 400)"
      ]
     },
     "execution_count": 22,
     "metadata": {
      "tags": []
     },
     "output_type": "execute_result"
    }
   ],
   "source": [
    "X_train.shape"
   ]
  },
  {
   "cell_type": "code",
   "execution_count": null,
   "metadata": {
    "id": "0cQSPijlEQkQ"
   },
   "outputs": [],
   "source": [
    "y_train = train_df['label'].values"
   ]
  },
  {
   "cell_type": "code",
   "execution_count": null,
   "metadata": {
    "colab": {
     "base_uri": "https://localhost:8080/"
    },
    "id": "zh2F06OoEQkU",
    "outputId": "ab450719-15c3-42f2-9b8a-b75eea5b77a5"
   },
   "outputs": [
    {
     "data": {
      "text/plain": [
       "(5172,)"
      ]
     },
     "execution_count": 24,
     "metadata": {
      "tags": []
     },
     "output_type": "execute_result"
    }
   ],
   "source": [
    "y_train.shape"
   ]
  },
  {
   "cell_type": "code",
   "execution_count": null,
   "metadata": {
    "id": "EEabFCnrEQkb"
   },
   "outputs": [],
   "source": [
    "X_train = np.nan_to_num(X_train, nan=-999)\n",
    "X_test = np.nan_to_num(X_test, nan=-999)"
   ]
  },
  {
   "cell_type": "markdown",
   "metadata": {},
   "source": [
    "# CV to choose C"
   ]
  },
  {
   "cell_type": "code",
   "execution_count": null,
   "metadata": {
    "id": "59MEqgrREQks"
   },
   "outputs": [],
   "source": [
    "kf = KFold(n_splits=5, shuffle=True)"
   ]
  },
  {
   "cell_type": "code",
   "execution_count": null,
   "metadata": {
    "colab": {
     "base_uri": "https://localhost:8080/"
    },
    "id": "Zw7o7NbwQkDm",
    "outputId": "7f1cb47a-00fd-4131-9ab5-eb0e5e314c93"
   },
   "outputs": [
    {
     "data": {
      "text/plain": [
       "array([ 0.01,  0.1 ,  1.  , 10.  ])"
      ]
     },
     "execution_count": 27,
     "metadata": {
      "tags": []
     },
     "output_type": "execute_result"
    }
   ],
   "source": [
    "10. ** np.arange(-2, 2)"
   ]
  },
  {
   "cell_type": "code",
   "execution_count": null,
   "metadata": {
    "colab": {
     "base_uri": "https://localhost:8080/"
    },
    "id": "zRq-2cwXEQkw",
    "outputId": "6482253b-e1e1-45f7-ab46-ae99eb841727"
   },
   "outputs": [
    {
     "name": "stdout",
     "output_type": "stream",
     "text": [
      "C  0.01\n",
      "Fold  0 :  0.8413034796387668\n",
      "Fold  1 :  0.8603571788921401\n",
      "Fold  2 :  0.8889062110251934\n",
      "Fold  3 :  0.8632425135002455\n",
      "Fold  4 :  0.8800787600474114\n",
      "C  0.1\n",
      "Fold  0 :  0.8701040669711544\n",
      "Fold  1 :  0.8814630141375306\n",
      "Fold  2 :  0.8570576239511583\n",
      "Fold  3 :  0.8800942128220735\n",
      "Fold  4 :  0.8775692192566724\n",
      "C  1.0\n",
      "Fold  0 :  0.8931063743556621\n",
      "Fold  1 :  0.9037581147510225\n",
      "Fold  2 :  0.9133519063096528\n",
      "Fold  3 :  0.88733589859665\n",
      "Fold  4 :  0.8713690867537022\n",
      "C  10.0\n",
      "Fold  0 :  0.8797685933451346\n",
      "Fold  1 :  0.8630105968662259\n",
      "Fold  2 :  0.8869248628113129\n",
      "Fold  3 :  0.9042243609251369\n",
      "Fold  4 :  0.9019479155728236\n"
     ]
    }
   ],
   "source": [
    "Cs = 10. ** np.arange(-2, 2)\n",
    "y_test_pred = np.zeros((1646, ), dtype=np.float64)\n",
    "history = []\n",
    "for C in Cs:\n",
    "  print(\"C \", C)\n",
    "  kf = KFold(n_splits=5, shuffle=True)\n",
    "\n",
    "  for (i, (train_idx, val_idx)) in enumerate(kf.split(X_train)):\n",
    "      X_train_kf, X_val_kf = X_train[train_idx], X_train[val_idx]\n",
    "      y_train_kf, y_val_kf = y_train[train_idx], y_train[val_idx]\n",
    "\n",
    "      clf = make_pipeline(StandardScaler(with_mean=False), SVC(C = C, gamma='auto', probability=True))\n",
    "      clf.fit(X_train_kf, y_train_kf)\n",
    "\n",
    "      y_pred = clf.predict_proba(X_val_kf)[:, 1]\n",
    "\n",
    "      y_test_pred += clf.predict_proba(X_test)[:, 1]\n",
    "\n",
    "  #     print(y_val_kf)\n",
    "  #     print(y_pred[:, 1])\n",
    "\n",
    "      roc_score = roc_auc_score(y_val_kf, y_pred)\n",
    "      print(\"Fold \", i, \": \", roc_score)\n",
    "  # history.append(t_roc_score/5.0)"
   ]
  },
  {
   "cell_type": "code",
   "execution_count": null,
   "metadata": {
    "colab": {
     "base_uri": "https://localhost:8080/",
     "height": 300
    },
    "id": "0z-nYrfoEQk0",
    "outputId": "a5d032ea-2be0-48b8-bb18-e1408091e74a",
    "scrolled": true
   },
   "outputs": [
    {
     "data": {
      "text/plain": [
       "[<matplotlib.lines.Line2D at 0x7f7692fd4590>]"
      ]
     },
     "execution_count": 32,
     "metadata": {
      "tags": []
     },
     "output_type": "execute_result"
    },
    {
     "data": {
      "image/png": "[encoded data removed]",
      "text/plain": [
       "<Figure size 432x288 with 1 Axes>"
      ]
     },
     "metadata": {
      "needs_background": "light",
      "tags": []
     },
     "output_type": "display_data"
    }
   ],
   "source": [
    "# plt.axes.set_xscale('log')\n",
    "# plt.plot(Cs, history)\n",
    "\n",
    "fig, ax = plt.subplots()\n",
    "ax.set_xscale('log')\n",
    "ax.set_xlabel('C')\n",
    "ax.set_ylabel('ROC AUC')\n",
    "ax.plot(Cs, history, '.-')"
   ]
  },
  {
   "cell_type": "markdown",
   "metadata": {},
   "source": [
    "Still use C = 1 because C = 10 doesn't improve much"
   ]
  },
  {
   "cell_type": "code",
   "execution_count": null,
   "metadata": {
    "colab": {
     "base_uri": "https://localhost:8080/"
    },
    "id": "G7ztfNNLEQk4",
    "outputId": "af5b5c12-ac5c-469b-b68c-0a5549fff7c8"
   },
   "outputs": [
    {
     "name": "stdout",
     "output_type": "stream",
     "text": [
      "Fold  0 :  0.9308648978412337\n",
      "Fold  1 :  0.8856492750555615\n",
      "Fold  2 :  0.8985010808210173\n",
      "Fold  3 :  0.8745567128120091\n",
      "Fold  4 :  0.879843350496221\n"
     ]
    }
   ],
   "source": [
    "y_test_pred = np.zeros((1646, ), dtype=np.float64)\n",
    "history = []\n",
    "kf = KFold(n_splits=5)\n",
    "for (i, (train_idx, val_idx)) in enumerate(kf.split(X_train)):\n",
    "    X_train_kf, X_val_kf = X_train[train_idx], X_train[val_idx]\n",
    "    y_train_kf, y_val_kf = y_train[train_idx], y_train[val_idx]\n",
    "\n",
    "    clf = make_pipeline(StandardScaler(with_mean=False), SVC(C = 1, gamma='auto', probability=True))\n",
    "    clf.fit(X_train_kf, y_train_kf)\n",
    "\n",
    "    y_pred = clf.predict_proba(X_val_kf)[:, 1]\n",
    "\n",
    "    y_test_pred += clf.predict_proba(X_test)[:, 1]\n",
    "\n",
    "    roc_score = roc_auc_score(y_val_kf, y_pred)\n",
    "    history.append(roc_score)\n",
    "    print(\"Fold \", i, \": \", roc_score)"
   ]
  },
  {
   "cell_type": "code",
   "execution_count": null,
   "metadata": {
    "colab": {
     "base_uri": "https://localhost:8080/"
    },
    "id": "nucDpuP0EQk9",
    "outputId": "472a92c9-3716-4a0a-a2b3-5d9fc67fddde"
   },
   "outputs": [
    {
     "name": "stdout",
     "output_type": "stream",
     "text": [
      "0.8938830634052085 +- 0.02013652800018478\n"
     ]
    }
   ],
   "source": [
    "print(np.array(history).mean(), \"+-\", np.sqrt(np.array(history).var()))"
   ]
  },
  {
   "cell_type": "code",
   "execution_count": null,
   "metadata": {
    "id": "qSXhbzpLEQlC"
   },
   "outputs": [],
   "source": [
    "y_test_pred = y_test_pred/5"
   ]
  },
  {
   "cell_type": "code",
   "execution_count": null,
   "metadata": {
    "colab": {
     "base_uri": "https://localhost:8080/"
    },
    "id": "3u8f3GaHEQlF",
    "outputId": "ef0ed7b2-0081-4a19-8ff2-df1c6df07943"
   },
   "outputs": [
    {
     "data": {
      "text/plain": [
       "array([0.03355276, 0.02033318, 0.01110759, ..., 0.00494078, 0.01113427,\n",
       "       0.03732888])"
      ]
     },
     "execution_count": 48,
     "metadata": {
      "tags": []
     },
     "output_type": "execute_result"
    }
   ],
   "source": [
    "y_test_pred"
   ]
  },
  {
   "cell_type": "code",
   "execution_count": null,
   "metadata": {
    "id": "Iu_f8_PVEQlJ"
   },
   "outputs": [],
   "source": [
    "result = pd.DataFrame()\n",
    "result['id'] = test_df['id']\n",
    "result['label'] = y_test_pred"
   ]
  },
  {
   "cell_type": "code",
   "execution_count": null,
   "metadata": {
    "id": "OxWWGmUyEQlN"
   },
   "outputs": [],
   "source": [
    "result.to_csv('results.csv', index=False, header=None)"
   ]
  },
  {
   "cell_type": "markdown",
   "metadata": {
    "id": "HzOhXdlfYJP9"
   },
   "source": [
    "# Stacking part"
   ]
  },
  {
   "cell_type": "code",
   "execution_count": null,
   "metadata": {
    "id": "Kj_ELF4oYVoL"
   },
   "outputs": [],
   "source": [
    "from sklearn.model_selection import train_test_split"
   ]
  },
  {
   "cell_type": "code",
   "execution_count": null,
   "metadata": {
    "id": "ABh1AOxjYNq6"
   },
   "outputs": [],
   "source": [
    "X_strain, X_sval, y_strain, y_sval = train_test_split(X_train, y_train, test_size=0.3, shuffle=False)"
   ]
  },
  {
   "cell_type": "code",
   "execution_count": null,
   "metadata": {
    "colab": {
     "base_uri": "https://localhost:8080/"
    },
    "id": "I5k45ya8YmYQ",
    "outputId": "70c4a5fc-a37a-44d9-87d5-59dfc8fbb9ef"
   },
   "outputs": [
    {
     "data": {
      "text/plain": [
       "Pipeline(memory=None,\n",
       "         steps=[('standardscaler',\n",
       "                 StandardScaler(copy=True, with_mean=False, with_std=True)),\n",
       "                ('svc',\n",
       "                 SVC(C=1, break_ties=False, cache_size=200, class_weight=None,\n",
       "                     coef0=0.0, decision_function_shape='ovr', degree=3,\n",
       "                     gamma='auto', kernel='rbf', max_iter=-1, probability=True,\n",
       "                     random_state=None, shrinking=True, tol=0.001,\n",
       "                     verbose=False))],\n",
       "         verbose=False)"
      ]
     },
     "execution_count": 19,
     "metadata": {
      "tags": []
     },
     "output_type": "execute_result"
    }
   ],
   "source": [
    "clf = make_pipeline(StandardScaler(with_mean=False), SVC(C = 1, gamma='auto', probability=True))\n",
    "clf.fit(X_strain, y_strain)"
   ]
  },
  {
   "cell_type": "code",
   "execution_count": null,
   "metadata": {
    "id": "v0oTvwMZY09S"
   },
   "outputs": [],
   "source": [
    "y_sval_pred = clf.predict_proba(X_sval)[:, 1]\n",
    "y_test_pred = clf.predict_proba(X_test)[:, 1]"
   ]
  },
  {
   "cell_type": "code",
   "execution_count": null,
   "metadata": {
    "id": "7YMPLn2IZRnt"
   },
   "outputs": [],
   "source": [
    "pd.DataFrame(y_sval_pred, columns=[\"y_sval_pred_svm\"]).to_csv('y_sval_pred_svm.csv', index=False)\n",
    "pd.DataFrame(y_test_pred, columns=[\"y_test_pred_svm\"]).to_csv('y_test_pred_svm.csv', index=False)"
   ]
  },
  {
   "cell_type": "code",
   "execution_count": null,
   "metadata": {
    "colab": {
     "base_uri": "https://localhost:8080/"
    },
    "id": "dxVKXdTcrmGe",
    "outputId": "5b66dc55-7893-4e9a-8810-8723757db597"
   },
   "outputs": [
    {
     "data": {
      "text/plain": [
       "array([0, 0, 0, ..., 1, 1, 0])"
      ]
     },
     "execution_count": 22,
     "metadata": {
      "tags": []
     },
     "output_type": "execute_result"
    }
   ],
   "source": [
    "y_sval"
   ]
  }
 ],
 "metadata": {
  "colab": {
   "name": "Word2vecVN + SVM.ipynb",
   "provenance": []
  },
  "kernelspec": {
   "display_name": "Python 3",
   "language": "python",
   "name": "python3"
  },
  "language_info": {
   "codemirror_mode": {
    "name": "ipython",
    "version": 3
   },
   "file_extension": ".py",
   "mimetype": "text/x-python",
   "name": "python",
   "nbconvert_exporter": "python",
   "pygments_lexer": "ipython3",
   "version": "3.8.5"
  }
 },
 "nbformat": 4,
 "nbformat_minor": 1
}
