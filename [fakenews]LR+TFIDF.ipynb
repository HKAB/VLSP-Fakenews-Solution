{
 "cells": [
  {
   "cell_type": "code",
   "execution_count": null,
   "metadata": {
    "id": "6KOvPPExF0Lu"
   },
   "outputs": [],
   "source": [
    "import numpy as np\n",
    "import pandas as pd\n",
    "from  matplotlib import pyplot as plt\n",
    "from sklearn.feature_extraction.text import TfidfVectorizer\n",
    "from sklearn.linear_model import LogisticRegression\n",
    "from sklearn.model_selection import KFold\n",
    "from sklearn.metrics import roc_auc_score\n",
    "from sklearn.svm import SVC\n",
    "from scipy import sparse"
   ]
  },
  {
   "cell_type": "markdown",
   "metadata": {},
   "source": [
    "# Load data"
   ]
  },
  {
   "cell_type": "code",
   "execution_count": null,
   "metadata": {
    "id": "wDS9QSZ9GDOp"
   },
   "outputs": [],
   "source": [
    "train_df = pd.read_csv(\"/content/drive/My Drive/vlsp/clean_train_df_ext.csv\")\n",
    "test_df = pd.read_csv(\"/content/drive/My Drive/vlsp/clean_final_test_df.csv\")"
   ]
  },
  {
   "cell_type": "code",
   "execution_count": null,
   "metadata": {
    "colab": {
     "base_uri": "https://localhost:8080/",
     "height": 424
    },
    "id": "wrtgwGS8pDqp",
    "outputId": "3181dbeb-dbbe-4b48-e261-7a30ba11a30c"
   },
   "outputs": [
    {
     "data": {
      "text/html": [
       "<div>\n",
       "<style scoped>\n",
       "    .dataframe tbody tr th:only-of-type {\n",
       "        vertical-align: middle;\n",
       "    }\n",
       "\n",
       "    .dataframe tbody tr th {\n",
       "        vertical-align: top;\n",
       "    }\n",
       "\n",
       "    .dataframe thead th {\n",
       "        text-align: right;\n",
       "    }\n",
       "</style>\n",
       "<table border=\"1\" class=\"dataframe\">\n",
       "  <thead>\n",
       "    <tr style=\"text-align: right;\">\n",
       "      <th></th>\n",
       "      <th>id</th>\n",
       "      <th>user_name</th>\n",
       "      <th>timestamp_post</th>\n",
       "      <th>num_like_post</th>\n",
       "      <th>num_comment_post</th>\n",
       "      <th>num_share_post</th>\n",
       "      <th>label</th>\n",
       "      <th>clean_post_message</th>\n",
       "    </tr>\n",
       "  </thead>\n",
       "  <tbody>\n",
       "    <tr>\n",
       "      <th>0</th>\n",
       "      <td>0</td>\n",
       "      <td>2.16707472383313e+18</td>\n",
       "      <td>1.584426e+09</td>\n",
       "      <td>45.0</td>\n",
       "      <td>15.0</td>\n",
       "      <td>8.0</td>\n",
       "      <td>1</td>\n",
       "      <td>Cần các bậc phụ_huynh xã Ngũ_Thái lên_tiếng , ...</td>\n",
       "    </tr>\n",
       "    <tr>\n",
       "      <th>1</th>\n",
       "      <td>1</td>\n",
       "      <td>7.36849754781241e+18</td>\n",
       "      <td>1.581363e+09</td>\n",
       "      <td>979.0</td>\n",
       "      <td>39.0</td>\n",
       "      <td>138.0</td>\n",
       "      <td>1</td>\n",
       "      <td>KÊU_GỌI ĂN_CHAY CẦU_NGUYỆN XIN CHÚA CỨU KHỎI D...</td>\n",
       "    </tr>\n",
       "    <tr>\n",
       "      <th>2</th>\n",
       "      <td>2</td>\n",
       "      <td>-5.75414262528031e+18</td>\n",
       "      <td>1.587042e+09</td>\n",
       "      <td>85.0</td>\n",
       "      <td>13.0</td>\n",
       "      <td>61.0</td>\n",
       "      <td>1</td>\n",
       "      <td>Giàn khoan dầu_khí gặp sự_cố , chết người ! Gi...</td>\n",
       "    </tr>\n",
       "    <tr>\n",
       "      <th>3</th>\n",
       "      <td>3</td>\n",
       "      <td>4.17793530884965e+18</td>\n",
       "      <td>1.596449e+09</td>\n",
       "      <td>114.0</td>\n",
       "      <td>12.0</td>\n",
       "      <td>5.0</td>\n",
       "      <td>1</td>\n",
       "      <td>Thuận_Lợi có ca dương_tính CV19 rồi đó , mọi n...</td>\n",
       "    </tr>\n",
       "    <tr>\n",
       "      <th>4</th>\n",
       "      <td>4</td>\n",
       "      <td>5.540309800746e+18</td>\n",
       "      <td>1.583548e+09</td>\n",
       "      <td>166.0</td>\n",
       "      <td>4.0</td>\n",
       "      <td>21.0</td>\n",
       "      <td>1</td>\n",
       "      <td>Sa_Pa cho 9 người khách nước_ngoài đi cùng chu...</td>\n",
       "    </tr>\n",
       "    <tr>\n",
       "      <th>...</th>\n",
       "      <td>...</td>\n",
       "      <td>...</td>\n",
       "      <td>...</td>\n",
       "      <td>...</td>\n",
       "      <td>...</td>\n",
       "      <td>...</td>\n",
       "      <td>...</td>\n",
       "      <td>...</td>\n",
       "    </tr>\n",
       "    <tr>\n",
       "      <th>2581</th>\n",
       "      <td>1782</td>\n",
       "      <td>808e278b22ec6b96f2faf7447d10cd8e</td>\n",
       "      <td>1.584934e+09</td>\n",
       "      <td>0.0</td>\n",
       "      <td>0.0</td>\n",
       "      <td>0.0</td>\n",
       "      <td>0</td>\n",
       "      <td>Thông_báo cho người cách_ly cần tuân_thủ quy_đ...</td>\n",
       "    </tr>\n",
       "    <tr>\n",
       "      <th>2582</th>\n",
       "      <td>1783</td>\n",
       "      <td>55edeb1818594cdccb91fbf2c5cbed8b</td>\n",
       "      <td>1.584230e+09</td>\n",
       "      <td>4100.0</td>\n",
       "      <td>1400.0</td>\n",
       "      <td>2000.0</td>\n",
       "      <td>0</td>\n",
       "      <td>Tối 14-3 , Giám_đốc Sở Y_tế Phan_Huy_Anh_Vũ ch...</td>\n",
       "    </tr>\n",
       "    <tr>\n",
       "      <th>2583</th>\n",
       "      <td>1784</td>\n",
       "      <td>808e278b22ec6b96f2faf7447d10cd8e</td>\n",
       "      <td>1.587168e+09</td>\n",
       "      <td>7.0</td>\n",
       "      <td>0.0</td>\n",
       "      <td>0.0</td>\n",
       "      <td>0</td>\n",
       "      <td>Trưa 18/4 , Bộ Y_tế công_bố khỏi bệnh thêm 3 t...</td>\n",
       "    </tr>\n",
       "    <tr>\n",
       "      <th>2584</th>\n",
       "      <td>1785</td>\n",
       "      <td>7284a5b886dcf89f77411470ffe9bd61</td>\n",
       "      <td>1.585892e+09</td>\n",
       "      <td>6007.0</td>\n",
       "      <td>50.0</td>\n",
       "      <td>1136.0</td>\n",
       "      <td>0</td>\n",
       "      <td>Hướng_dẫn việc thực_hiện cách_ly xã_hội ; danh...</td>\n",
       "    </tr>\n",
       "    <tr>\n",
       "      <th>2585</th>\n",
       "      <td>1786</td>\n",
       "      <td>a63a49e2805379e89aeb548d8f3c36ee</td>\n",
       "      <td>1.590958e+09</td>\n",
       "      <td>49.0</td>\n",
       "      <td>2.0</td>\n",
       "      <td>0.0</td>\n",
       "      <td>0</td>\n",
       "      <td>Năm nay các trường đều tăng chỉ_tiêu cho phươn...</td>\n",
       "    </tr>\n",
       "  </tbody>\n",
       "</table>\n",
       "<p>2586 rows × 8 columns</p>\n",
       "</div>"
      ],
      "text/plain": [
       "        id  ...                                 clean_post_message\n",
       "0        0  ...  Cần các bậc phụ_huynh xã Ngũ_Thái lên_tiếng , ...\n",
       "1        1  ...  KÊU_GỌI ĂN_CHAY CẦU_NGUYỆN XIN CHÚA CỨU KHỎI D...\n",
       "2        2  ...  Giàn khoan dầu_khí gặp sự_cố , chết người ! Gi...\n",
       "3        3  ...  Thuận_Lợi có ca dương_tính CV19 rồi đó , mọi n...\n",
       "4        4  ...  Sa_Pa cho 9 người khách nước_ngoài đi cùng chu...\n",
       "...    ...  ...                                                ...\n",
       "2581  1782  ...  Thông_báo cho người cách_ly cần tuân_thủ quy_đ...\n",
       "2582  1783  ...  Tối 14-3 , Giám_đốc Sở Y_tế Phan_Huy_Anh_Vũ ch...\n",
       "2583  1784  ...  Trưa 18/4 , Bộ Y_tế công_bố khỏi bệnh thêm 3 t...\n",
       "2584  1785  ...  Hướng_dẫn việc thực_hiện cách_ly xã_hội ; danh...\n",
       "2585  1786  ...  Năm nay các trường đều tăng chỉ_tiêu cho phươn...\n",
       "\n",
       "[2586 rows x 8 columns]"
      ]
     },
     "execution_count": 15,
     "metadata": {
      "tags": []
     },
     "output_type": "execute_result"
    }
   ],
   "source": [
    "train_df[:2586]"
   ]
  },
  {
   "cell_type": "code",
   "execution_count": null,
   "metadata": {
    "colab": {
     "base_uri": "https://localhost:8080/"
    },
    "id": "rzPOMWA1mucc",
    "outputId": "558fedd7-5c07-4bf5-ce12-618d45e34399"
   },
   "outputs": [
    {
     "name": "stdout",
     "output_type": "stream",
     "text": [
      "<class 'pandas.core.frame.DataFrame'>\n",
      "RangeIndex: 5172 entries, 0 to 5171\n",
      "Data columns (total 8 columns):\n",
      " #   Column              Non-Null Count  Dtype  \n",
      "---  ------              --------------  -----  \n",
      " 0   id                  5172 non-null   int64  \n",
      " 1   user_name           5172 non-null   object \n",
      " 2   timestamp_post      5172 non-null   float64\n",
      " 3   num_like_post       5172 non-null   float64\n",
      " 4   num_comment_post    5172 non-null   float64\n",
      " 5   num_share_post      5172 non-null   float64\n",
      " 6   label               5172 non-null   int64  \n",
      " 7   clean_post_message  5102 non-null   object \n",
      "dtypes: float64(4), int64(2), object(2)\n",
      "memory usage: 323.4+ KB\n"
     ]
    }
   ],
   "source": [
    "train_df.info()"
   ]
  },
  {
   "cell_type": "code",
   "execution_count": null,
   "metadata": {
    "colab": {
     "base_uri": "https://localhost:8080/"
    },
    "id": "6F4tshq-mxiM",
    "outputId": "40814770-754f-4094-afee-2c51c1b8ddcd"
   },
   "outputs": [
    {
     "name": "stdout",
     "output_type": "stream",
     "text": [
      "<class 'pandas.core.frame.DataFrame'>\n",
      "RangeIndex: 1646 entries, 0 to 1645\n",
      "Data columns (total 8 columns):\n",
      " #   Column              Non-Null Count  Dtype  \n",
      "---  ------              --------------  -----  \n",
      " 0   id                  1646 non-null   int64  \n",
      " 1   user_name           1646 non-null   object \n",
      " 2   timestamp_post      1646 non-null   float64\n",
      " 3   num_like_post       1646 non-null   float64\n",
      " 4   num_comment_post    1646 non-null   float64\n",
      " 5   num_share_post      1646 non-null   float64\n",
      " 6   len_post_message    1646 non-null   int64  \n",
      " 7   clean_post_message  1616 non-null   object \n",
      "dtypes: float64(4), int64(2), object(2)\n",
      "memory usage: 103.0+ KB\n"
     ]
    }
   ],
   "source": [
    "test_df.info()"
   ]
  },
  {
   "cell_type": "code",
   "execution_count": null,
   "metadata": {
    "id": "SJ5Gk3QwGJ58"
   },
   "outputs": [],
   "source": [
    "train_df['clean_post_message'] = train_df['clean_post_message'].astype(str)\n",
    "test_df['clean_post_message'] = test_df['clean_post_message'].astype(str)"
   ]
  },
  {
   "cell_type": "code",
   "execution_count": null,
   "metadata": {
    "colab": {
     "base_uri": "https://localhost:8080/"
    },
    "id": "32fCOxrZSUqb",
    "outputId": "e53c1780-5800-4dfc-f818-812ce3b61fd1"
   },
   "outputs": [
    {
     "data": {
      "text/plain": [
       "array([1, 1, 1, ..., 1, 1, 0])"
      ]
     },
     "execution_count": 6,
     "metadata": {
      "tags": []
     },
     "output_type": "execute_result"
    }
   ],
   "source": [
    "y = train_df['label'].values\n",
    "y"
   ]
  },
  {
   "cell_type": "code",
   "execution_count": null,
   "metadata": {
    "colab": {
     "base_uri": "https://localhost:8080/"
    },
    "id": "5JsoOkBrGNL2",
    "outputId": "6b828305-d77b-4996-8690-3ab9036df78c"
   },
   "outputs": [
    {
     "data": {
      "text/plain": [
       "((5172, 8), (1646, 8))"
      ]
     },
     "execution_count": 7,
     "metadata": {
      "tags": []
     },
     "output_type": "execute_result"
    }
   ],
   "source": [
    "train_df.shape, test_df.shape"
   ]
  },
  {
   "cell_type": "code",
   "execution_count": null,
   "metadata": {
    "id": "O0ZZAmVMGgzx"
   },
   "outputs": [],
   "source": [
    "# vec = TfidfVectorizer(ngram_range=(1, 2))"
   ]
  },
  {
   "cell_type": "markdown",
   "metadata": {},
   "source": [
    "# CV for choosing ngram_range param"
   ]
  },
  {
   "cell_type": "code",
   "execution_count": null,
   "metadata": {
    "colab": {
     "base_uri": "https://localhost:8080/"
    },
    "id": "zz3Ib_iDRsfF",
    "outputId": "28530529-9630-41f1-e2bd-3cd72f2b36be"
   },
   "outputs": [
    {
     "name": "stdout",
     "output_type": "stream",
     "text": [
      "Fold 0 : 0.9173846499630752\n",
      "Fold 1 : 0.9180865700074081\n",
      "Fold 2 : 0.9177390172999125\n",
      "Fold 3 : 0.8974306422462783\n",
      "Fold 4 : 0.9098067942496109\n"
     ]
    }
   ],
   "source": [
    "kf = KFold(n_splits=5)\n",
    "y_pred = np.zeros((1646, 2))\n",
    "for (i, (train_idx, val_idx)) in enumerate(kf.split(train_df)):\n",
    "  X_train, X_val = train_df.loc[train_idx], train_df.loc[val_idx]\n",
    "  y_train, y_val = y[train_idx], y[val_idx]\n",
    "\n",
    "  # print(X_train)\n",
    "  vec = TfidfVectorizer(ngram_range=(2, 4), analyzer=\"char\")\n",
    "  X_train_vec = vec.fit_transform(X_train['clean_post_message'])\n",
    "  X_val_vec = vec.transform(X_val['clean_post_message'])\n",
    "  # r = sparse.csr_matrix(np.log(pr(X_train_vec, 1, y_train), pr(X_train_vec, 0, y_train)))\n",
    "  \n",
    "  m = LogisticRegression(dual=True, solver='liblinear')\n",
    "  X_train_nb = X_train_vec\n",
    "  m.fit(X_train_nb, y_train)\n",
    "\n",
    "  X_test_vec = vec.transform(test_df['clean_post_message'])\n",
    "  X_test_nb = X_test_vec\n",
    "  y_scores = m.predict_proba(X_val_vec)\n",
    "  y_pred = np.sum([m.predict_proba(X_test_nb), y_pred], axis=0)\n",
    "  print(\"Fold\", i, \":\", roc_auc_score(y_val, y_scores[:, 1]))\n"
   ]
  },
  {
   "cell_type": "code",
   "execution_count": null,
   "metadata": {
    "colab": {
     "base_uri": "https://localhost:8080/"
    },
    "id": "NdE20wlSYMZ1",
    "outputId": "52f875b7-931b-425c-93a0-9034a7e1d4e6"
   },
   "outputs": [
    {
     "data": {
      "text/plain": [
       "array([[3.09538339, 1.90461661],\n",
       "       [3.87556245, 1.12443755],\n",
       "       [4.36444478, 0.63555522],\n",
       "       ...,\n",
       "       [4.5842046 , 0.4157954 ],\n",
       "       [4.64859298, 0.35140702],\n",
       "       [4.2358901 , 0.7641099 ]])"
      ]
     },
     "execution_count": 11,
     "metadata": {
      "tags": []
     },
     "output_type": "execute_result"
    }
   ],
   "source": [
    "y_pred"
   ]
  },
  {
   "cell_type": "code",
   "execution_count": null,
   "metadata": {
    "id": "mWmalqUaYTzc"
   },
   "outputs": [],
   "source": [
    "y_pred_re = y_pred[:, 1]/5"
   ]
  },
  {
   "cell_type": "code",
   "execution_count": null,
   "metadata": {
    "colab": {
     "base_uri": "https://localhost:8080/"
    },
    "id": "8Fto5CPokUCq",
    "outputId": "0794d204-1d79-4564-da75-3e364f3a6bd3"
   },
   "outputs": [
    {
     "data": {
      "text/plain": [
       "array([0.38092332, 0.22488751, 0.12711104, ..., 0.08315908, 0.0702814 ,\n",
       "       0.15282198])"
      ]
     },
     "execution_count": 13,
     "metadata": {
      "tags": []
     },
     "output_type": "execute_result"
    }
   ],
   "source": [
    "y_pred_re"
   ]
  },
  {
   "cell_type": "code",
   "execution_count": null,
   "metadata": {
    "id": "yV8E9c3DYyhi"
   },
   "outputs": [],
   "source": [
    "result = pd.DataFrame()\n",
    "result['id'] = test_df['id']\n",
    "result['label'] = y_pred_re"
   ]
  },
  {
   "cell_type": "code",
   "execution_count": null,
   "metadata": {
    "id": "korazqJ6Y1Eu"
   },
   "outputs": [],
   "source": [
    "result.to_csv(\"results.csv\", index=False, header=None)"
   ]
  },
  {
   "cell_type": "markdown",
   "metadata": {
    "id": "wDpaW8ekjaIh"
   },
   "source": [
    "# Stacking part"
   ]
  },
  {
   "cell_type": "code",
   "execution_count": null,
   "metadata": {
    "id": "6mAra6iWjcHE"
   },
   "outputs": [],
   "source": [
    "from sklearn.model_selection import train_test_split"
   ]
  },
  {
   "cell_type": "code",
   "execution_count": null,
   "metadata": {
    "id": "YoTb5hJBjelV"
   },
   "outputs": [],
   "source": [
    "X_strain, X_sval, y_strain, y_sval = train_test_split(train_df, y, test_size=0.3, shuffle=False)"
   ]
  },
  {
   "cell_type": "code",
   "execution_count": null,
   "metadata": {
    "colab": {
     "base_uri": "https://localhost:8080/",
     "height": 424
    },
    "id": "jrs8dLHaolN3",
    "outputId": "f6ac2b55-7077-4250-f92e-5fefb2f2bd70"
   },
   "outputs": [
    {
     "data": {
      "text/html": [
       "<div>\n",
       "<style scoped>\n",
       "    .dataframe tbody tr th:only-of-type {\n",
       "        vertical-align: middle;\n",
       "    }\n",
       "\n",
       "    .dataframe tbody tr th {\n",
       "        vertical-align: top;\n",
       "    }\n",
       "\n",
       "    .dataframe thead th {\n",
       "        text-align: right;\n",
       "    }\n",
       "</style>\n",
       "<table border=\"1\" class=\"dataframe\">\n",
       "  <thead>\n",
       "    <tr style=\"text-align: right;\">\n",
       "      <th></th>\n",
       "      <th>id</th>\n",
       "      <th>user_name</th>\n",
       "      <th>timestamp_post</th>\n",
       "      <th>num_like_post</th>\n",
       "      <th>num_comment_post</th>\n",
       "      <th>num_share_post</th>\n",
       "      <th>label</th>\n",
       "      <th>clean_post_message</th>\n",
       "    </tr>\n",
       "  </thead>\n",
       "  <tbody>\n",
       "    <tr>\n",
       "      <th>0</th>\n",
       "      <td>0</td>\n",
       "      <td>2.16707472383313e+18</td>\n",
       "      <td>1.584426e+09</td>\n",
       "      <td>45.0</td>\n",
       "      <td>15.0</td>\n",
       "      <td>8.0</td>\n",
       "      <td>1</td>\n",
       "      <td>Cần các bậc phụ_huynh xã Ngũ_Thái lên_tiếng , ...</td>\n",
       "    </tr>\n",
       "    <tr>\n",
       "      <th>1</th>\n",
       "      <td>1</td>\n",
       "      <td>7.36849754781241e+18</td>\n",
       "      <td>1.581363e+09</td>\n",
       "      <td>979.0</td>\n",
       "      <td>39.0</td>\n",
       "      <td>138.0</td>\n",
       "      <td>1</td>\n",
       "      <td>KÊU_GỌI ĂN_CHAY CẦU_NGUYỆN XIN CHÚA CỨU KHỎI D...</td>\n",
       "    </tr>\n",
       "    <tr>\n",
       "      <th>2</th>\n",
       "      <td>2</td>\n",
       "      <td>-5.75414262528031e+18</td>\n",
       "      <td>1.587042e+09</td>\n",
       "      <td>85.0</td>\n",
       "      <td>13.0</td>\n",
       "      <td>61.0</td>\n",
       "      <td>1</td>\n",
       "      <td>Giàn khoan dầu_khí gặp sự_cố , chết người ! Gi...</td>\n",
       "    </tr>\n",
       "    <tr>\n",
       "      <th>3</th>\n",
       "      <td>3</td>\n",
       "      <td>4.17793530884965e+18</td>\n",
       "      <td>1.596449e+09</td>\n",
       "      <td>114.0</td>\n",
       "      <td>12.0</td>\n",
       "      <td>5.0</td>\n",
       "      <td>1</td>\n",
       "      <td>Thuận_Lợi có ca dương_tính CV19 rồi đó , mọi n...</td>\n",
       "    </tr>\n",
       "    <tr>\n",
       "      <th>4</th>\n",
       "      <td>4</td>\n",
       "      <td>5.540309800746e+18</td>\n",
       "      <td>1.583548e+09</td>\n",
       "      <td>166.0</td>\n",
       "      <td>4.0</td>\n",
       "      <td>21.0</td>\n",
       "      <td>1</td>\n",
       "      <td>Sa_Pa cho 9 người khách nước_ngoài đi cùng chu...</td>\n",
       "    </tr>\n",
       "    <tr>\n",
       "      <th>...</th>\n",
       "      <td>...</td>\n",
       "      <td>...</td>\n",
       "      <td>...</td>\n",
       "      <td>...</td>\n",
       "      <td>...</td>\n",
       "      <td>...</td>\n",
       "      <td>...</td>\n",
       "      <td>...</td>\n",
       "    </tr>\n",
       "    <tr>\n",
       "      <th>3615</th>\n",
       "      <td>2816</td>\n",
       "      <td>e3b61c45d5b844d85872dcad37dd514d</td>\n",
       "      <td>1.584234e+09</td>\n",
       "      <td>873.0</td>\n",
       "      <td>16.0</td>\n",
       "      <td>81.0</td>\n",
       "      <td>0</td>\n",
       "      <td>Vào rạng sáng 14/3 , một vụ đổ trộm chất_thải ...</td>\n",
       "    </tr>\n",
       "    <tr>\n",
       "      <th>3616</th>\n",
       "      <td>2817</td>\n",
       "      <td>389c669730cb6c54314a46be785cea42</td>\n",
       "      <td>1.583515e+09</td>\n",
       "      <td>33000.0</td>\n",
       "      <td>3400.0</td>\n",
       "      <td>9500.0</td>\n",
       "      <td>0</td>\n",
       "      <td>THÔNG_TIN CHI_TIẾT VỀ CA BỆNH THỨ 17 MẮC COVID...</td>\n",
       "    </tr>\n",
       "    <tr>\n",
       "      <th>3617</th>\n",
       "      <td>2818</td>\n",
       "      <td>7acdbd2e623bc27e96d0f4fc87b15ae5</td>\n",
       "      <td>1.588008e+09</td>\n",
       "      <td>26.0</td>\n",
       "      <td>1.0</td>\n",
       "      <td>-999.0</td>\n",
       "      <td>0</td>\n",
       "      <td>Hoãn phiên_toà phúc_thẩm xét_xử Tiến \" trắng \"...</td>\n",
       "    </tr>\n",
       "    <tr>\n",
       "      <th>3618</th>\n",
       "      <td>2819</td>\n",
       "      <td>acc434a9db7457c22f17ccb42fba178b</td>\n",
       "      <td>1.580912e+09</td>\n",
       "      <td>377.0</td>\n",
       "      <td>119.0</td>\n",
       "      <td>1900.0</td>\n",
       "      <td>1</td>\n",
       "      <td>TRÒ LỪA_ĐẢO QUÁ TÀN_NHẪN Liên_quan đến virus c...</td>\n",
       "    </tr>\n",
       "    <tr>\n",
       "      <th>3619</th>\n",
       "      <td>2820</td>\n",
       "      <td>9f6d835083054d9574aaf531656dbb91</td>\n",
       "      <td>1.583456e+09</td>\n",
       "      <td>1.0</td>\n",
       "      <td>0.0</td>\n",
       "      <td>0.0</td>\n",
       "      <td>0</td>\n",
       "      <td>Xem_xét chuyển_đổi một_số dự_án PPP cao_tốc Bắ...</td>\n",
       "    </tr>\n",
       "  </tbody>\n",
       "</table>\n",
       "<p>3620 rows × 8 columns</p>\n",
       "</div>"
      ],
      "text/plain": [
       "        id  ...                                 clean_post_message\n",
       "0        0  ...  Cần các bậc phụ_huynh xã Ngũ_Thái lên_tiếng , ...\n",
       "1        1  ...  KÊU_GỌI ĂN_CHAY CẦU_NGUYỆN XIN CHÚA CỨU KHỎI D...\n",
       "2        2  ...  Giàn khoan dầu_khí gặp sự_cố , chết người ! Gi...\n",
       "3        3  ...  Thuận_Lợi có ca dương_tính CV19 rồi đó , mọi n...\n",
       "4        4  ...  Sa_Pa cho 9 người khách nước_ngoài đi cùng chu...\n",
       "...    ...  ...                                                ...\n",
       "3615  2816  ...  Vào rạng sáng 14/3 , một vụ đổ trộm chất_thải ...\n",
       "3616  2817  ...  THÔNG_TIN CHI_TIẾT VỀ CA BỆNH THỨ 17 MẮC COVID...\n",
       "3617  2818  ...  Hoãn phiên_toà phúc_thẩm xét_xử Tiến \" trắng \"...\n",
       "3618  2819  ...  TRÒ LỪA_ĐẢO QUÁ TÀN_NHẪN Liên_quan đến virus c...\n",
       "3619  2820  ...  Xem_xét chuyển_đổi một_số dự_án PPP cao_tốc Bắ...\n",
       "\n",
       "[3620 rows x 8 columns]"
      ]
     },
     "execution_count": 17,
     "metadata": {
      "tags": []
     },
     "output_type": "execute_result"
    }
   ],
   "source": [
    "X_strain"
   ]
  },
  {
   "cell_type": "code",
   "execution_count": null,
   "metadata": {
    "id": "MnKk-vsXjixK"
   },
   "outputs": [],
   "source": [
    "vec = TfidfVectorizer(ngram_range=(2, 4), analyzer=\"char\")\n",
    "X_strain_vec = vec.fit_transform(X_strain['clean_post_message'])\n",
    "X_sval_vec = vec.transform(X_sval['clean_post_message'])"
   ]
  },
  {
   "cell_type": "code",
   "execution_count": null,
   "metadata": {
    "id": "ctKkLkjpjxtw"
   },
   "outputs": [],
   "source": [
    "m = LogisticRegression(dual=True, solver='liblinear')\n",
    "m.fit(X_strain_vec, y_strain)\n",
    "\n",
    "X_stest_vec = vec.transform(test_df['clean_post_message'])"
   ]
  },
  {
   "cell_type": "code",
   "execution_count": null,
   "metadata": {
    "id": "R89Nn5yvkCy-"
   },
   "outputs": [],
   "source": [
    "y_sval_pred = m.predict_proba(X_sval_vec)[:, 1]\n",
    "y_test_pred = m.predict_proba(X_stest_vec)[:, 1]"
   ]
  },
  {
   "cell_type": "code",
   "execution_count": null,
   "metadata": {
    "id": "VH5AFcO4lMMK"
   },
   "outputs": [],
   "source": [
    "pd.DataFrame(y_sval_pred, columns=[\"y_sval_pred_lr\"]).to_csv('y_sval_pred_lr.csv', index=False)\n",
    "pd.DataFrame(y_test_pred, columns=[\"y_test_pred_lr\"]).to_csv('y_test_pred_lr.csv', index=False)"
   ]
  },
  {
   "cell_type": "code",
   "execution_count": null,
   "metadata": {
    "colab": {
     "base_uri": "https://localhost:8080/"
    },
    "id": "OnoUFjAJqtQC",
    "outputId": "a58cba80-053f-4cdb-f50d-66b64024f560"
   },
   "outputs": [
    {
     "data": {
      "text/plain": [
       "array([0, 0, 0, ..., 1, 1, 0])"
      ]
     },
     "execution_count": 22,
     "metadata": {
      "tags": []
     },
     "output_type": "execute_result"
    }
   ],
   "source": [
    "y_sval"
   ]
  }
 ],
 "metadata": {
  "colab": {
   "name": "NBSVM.ipynb",
   "provenance": []
  },
  "kernelspec": {
   "display_name": "Python 3",
   "language": "python",
   "name": "python3"
  },
  "language_info": {
   "codemirror_mode": {
    "name": "ipython",
    "version": 3
   },
   "file_extension": ".py",
   "mimetype": "text/x-python",
   "name": "python",
   "nbconvert_exporter": "python",
   "pygments_lexer": "ipython3",
   "version": "3.8.5"
  }
 },
 "nbformat": 4,
 "nbformat_minor": 1
}
