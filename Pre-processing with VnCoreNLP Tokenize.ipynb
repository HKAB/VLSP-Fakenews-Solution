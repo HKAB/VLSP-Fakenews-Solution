{
 "cells": [
  {
   "cell_type": "code",
   "execution_count": 1,
   "metadata": {},
   "outputs": [],
   "source": [
    "import numpy as np\n",
    "import pandas as pd\n",
    "import matplotlib.pyplot as plt\n",
    "import re\n",
    "from datetime import datetime\n",
    "import json\n",
    "# from underthesea import word_tokenize\n",
    "from vncorenlp import VnCoreNLP\n",
    "import string\n",
    "# import textstat"
   ]
  },
  {
   "cell_type": "markdown",
   "metadata": {},
   "source": [
    "# Load train and test data"
   ]
  },
  {
   "cell_type": "code",
   "execution_count": 3,
   "metadata": {},
   "outputs": [],
   "source": [
    "train_df = pd.read_csv('data/public_train_ext.csv')\n",
    "test_df = pd.read_csv('data/final_private_test_dropped_no_label.csv')"
   ]
  },
  {
   "cell_type": "code",
   "execution_count": 4,
   "metadata": {},
   "outputs": [
    {
     "name": "stdout",
     "output_type": "stream",
     "text": [
      "<class 'pandas.core.frame.DataFrame'>\n",
      "RangeIndex: 1646 entries, 0 to 1645\n",
      "Data columns (total 7 columns):\n",
      " #   Column            Non-Null Count  Dtype  \n",
      "---  ------            --------------  -----  \n",
      " 0   id                1646 non-null   int64  \n",
      " 1   user_name         1646 non-null   object \n",
      " 2   post_message      1646 non-null   object \n",
      " 3   timestamp_post    1612 non-null   float64\n",
      " 4   num_like_post     1030 non-null   float64\n",
      " 5   num_comment_post  969 non-null    object \n",
      " 6   num_share_post    904 non-null    object \n",
      "dtypes: float64(2), int64(1), object(4)\n",
      "memory usage: 90.1+ KB\n"
     ]
    }
   ],
   "source": [
    "test_df.info()"
   ]
  },
  {
   "cell_type": "markdown",
   "metadata": {},
   "source": [
    "# Check word not in dict (74K word)"
   ]
  },
  {
   "cell_type": "code",
   "execution_count": 5,
   "metadata": {},
   "outputs": [],
   "source": [
    "def text_to_dictionary(df, text_col):\n",
    "    from collections import Counter\n",
    "    texts = \" \".join(df[text_col].fillna(\"\").to_list()).replace(\"\\n\", \"\").lower()\n",
    "    train_dict = Counter(texts.split(\" \"))\n",
    "    train_dict_df = pd.DataFrame.from_dict(train_dict, orient='index').reset_index()\n",
    "    train_dict_df = train_dict_df.rename(columns={'index': 'word', 0: 'freq'})\n",
    "    train_dict_df.sort_values(by=\"freq\", ascending=False, inplace=True)\n",
    "    return train_dict_df"
   ]
  },
  {
   "cell_type": "code",
   "execution_count": 7,
   "metadata": {},
   "outputs": [],
   "source": [
    "with open('data/Viet74K.txt', 'r') as f:\n",
    "    content = f.read()\n",
    "    dictionary = content.split(\"\\n\")\n",
    "#w2v style\n",
    "dictionary = [x.replace(\" \", \"_\") for x in dictionary]\n",
    "\n",
    "def word_not_in_dict(data, text_col, dictionary):\n",
    "    return data.loc[~data[text_col].isin(dictionary)]"
   ]
  },
  {
   "cell_type": "code",
   "execution_count": 8,
   "metadata": {
    "scrolled": false
   },
   "outputs": [
    {
     "data": {
      "text/html": [
       "<div>\n",
       "<style scoped>\n",
       "    .dataframe tbody tr th:only-of-type {\n",
       "        vertical-align: middle;\n",
       "    }\n",
       "\n",
       "    .dataframe tbody tr th {\n",
       "        vertical-align: top;\n",
       "    }\n",
       "\n",
       "    .dataframe thead th {\n",
       "        text-align: right;\n",
       "    }\n",
       "</style>\n",
       "<table border=\"1\" class=\"dataframe\">\n",
       "  <thead>\n",
       "    <tr style=\"text-align: right;\">\n",
       "      <th></th>\n",
       "      <th>word</th>\n",
       "      <th>freq</th>\n",
       "    </tr>\n",
       "  </thead>\n",
       "  <tbody>\n",
       "    <tr>\n",
       "      <th>143</th>\n",
       "      <td>và</td>\n",
       "      <td>10023</td>\n",
       "    </tr>\n",
       "    <tr>\n",
       "      <th>79</th>\n",
       "      <td>có</td>\n",
       "      <td>8961</td>\n",
       "    </tr>\n",
       "    <tr>\n",
       "      <th>155</th>\n",
       "      <td>của</td>\n",
       "      <td>7921</td>\n",
       "    </tr>\n",
       "    <tr>\n",
       "      <th>74</th>\n",
       "      <td>người</td>\n",
       "      <td>7546</td>\n",
       "    </tr>\n",
       "    <tr>\n",
       "      <th>245</th>\n",
       "      <td>bệnh</td>\n",
       "      <td>7255</td>\n",
       "    </tr>\n",
       "    <tr>\n",
       "      <th>...</th>\n",
       "      <td>...</td>\n",
       "      <td>...</td>\n",
       "    </tr>\n",
       "    <tr>\n",
       "      <th>22605</th>\n",
       "      <td>?*</td>\n",
       "      <td>1</td>\n",
       "    </tr>\n",
       "    <tr>\n",
       "      <th>8298</th>\n",
       "      <td>-19”*</td>\n",
       "      <td>1</td>\n",
       "    </tr>\n",
       "    <tr>\n",
       "      <th>8302</th>\n",
       "      <td>tốt.#</td>\n",
       "      <td>1</td>\n",
       "    </tr>\n",
       "    <tr>\n",
       "      <th>22602</th>\n",
       "      <td>ta.[&lt;url&gt;](&lt;url&gt;)[&lt;url&gt;](&lt;url&gt;)</td>\n",
       "      <td>1</td>\n",
       "    </tr>\n",
       "    <tr>\n",
       "      <th>38869</th>\n",
       "      <td>thánh&lt;url&gt;</td>\n",
       "      <td>1</td>\n",
       "    </tr>\n",
       "  </tbody>\n",
       "</table>\n",
       "<p>38870 rows × 2 columns</p>\n",
       "</div>"
      ],
      "text/plain": [
       "                                  word   freq\n",
       "143                                 và  10023\n",
       "79                                  có   8961\n",
       "155                                của   7921\n",
       "74                               người   7546\n",
       "245                               bệnh   7255\n",
       "...                                ...    ...\n",
       "22605                               ?*      1\n",
       "8298                             -19”*      1\n",
       "8302                             tốt.#      1\n",
       "22602  ta.[<url>](<url>)[<url>](<url>)      1\n",
       "38869                       thánh<url>      1\n",
       "\n",
       "[38870 rows x 2 columns]"
      ]
     },
     "execution_count": 8,
     "metadata": {},
     "output_type": "execute_result"
    }
   ],
   "source": [
    "text_to_dictionary(train_df, 'post_message') # count word from text"
   ]
  },
  {
   "cell_type": "code",
   "execution_count": 11,
   "metadata": {},
   "outputs": [],
   "source": [
    "w_df = text_to_dictionary(train_df, 'post_message')\n",
    "n_in_dict = word_not_in_dict(w_df, 'word', dictionary)"
   ]
  },
  {
   "cell_type": "code",
   "execution_count": 13,
   "metadata": {},
   "outputs": [
    {
     "data": {
      "text/plain": [
       "[<matplotlib.lines.Line2D at 0x7f6e1f9d9ca0>]"
      ]
     },
     "execution_count": 13,
     "metadata": {},
     "output_type": "execute_result"
    },
    {
     "data": {
      "image/png": "[encoded data removed]",
      "text/plain": [
       "<Figure size 1080x1080 with 1 Axes>"
      ]
     },
     "metadata": {
      "needs_background": "light"
     },
     "output_type": "display_data"
    }
   ],
   "source": [
    "fig, ax = plt.subplots(figsize=(15, 15))\n",
    "ax.plot(n_in_dict[0:20].word, n_in_dict[0:20].freq)"
   ]
  },
  {
   "cell_type": "markdown",
   "metadata": {},
   "source": [
    "Top 20 word not in dictionary, we can see \"corona\", \"covid-19\" appear alot."
   ]
  },
  {
   "cell_type": "markdown",
   "metadata": {},
   "source": [
    "# VnCoreNLP"
   ]
  },
  {
   "cell_type": "code",
   "execution_count": 14,
   "metadata": {},
   "outputs": [],
   "source": [
    "annotator = VnCoreNLP(\"./VnCoreNLP/VnCoreNLP-1.1.1.jar\", annotators=\"wseg,pos\")"
   ]
  },
  {
   "cell_type": "code",
   "execution_count": 15,
   "metadata": {},
   "outputs": [
    {
     "data": {
      "text/plain": [
       "[['đạihọcHoaSen']]"
      ]
     },
     "execution_count": 15,
     "metadata": {},
     "output_type": "execute_result"
    }
   ],
   "source": [
    "annotator.tokenize(\"đạihọcHoaSen\")"
   ]
  },
  {
   "cell_type": "code",
   "execution_count": 16,
   "metadata": {},
   "outputs": [
    {
     "data": {
      "text/plain": [
       "'Ny'"
      ]
     },
     "execution_count": 16,
     "metadata": {},
     "output_type": "execute_result"
    }
   ],
   "source": [
    "annotator.pos_tag('VTV đồng ý chia sẻ bản quyền World Cup 2018 cho HTV để khai thác.')[0][0][1]"
   ]
  },
  {
   "cell_type": "code",
   "execution_count": 17,
   "metadata": {},
   "outputs": [],
   "source": [
    "# make a copy if something fukup\n",
    "fe_train_df = train_df.copy()"
   ]
  },
  {
   "cell_type": "code",
   "execution_count": 18,
   "metadata": {},
   "outputs": [
    {
     "name": "stdout",
     "output_type": "stream",
     "text": [
      "<class 'pandas.core.frame.DataFrame'>\n",
      "RangeIndex: 5172 entries, 0 to 5171\n",
      "Data columns (total 8 columns):\n",
      " #   Column            Non-Null Count  Dtype \n",
      "---  ------            --------------  ----- \n",
      " 0   id                5172 non-null   int64 \n",
      " 1   user_name         5172 non-null   object\n",
      " 2   post_message      5171 non-null   object\n",
      " 3   timestamp_post    5008 non-null   object\n",
      " 4   num_like_post     5026 non-null   object\n",
      " 5   num_comment_post  5158 non-null   object\n",
      " 6   num_share_post    4243 non-null   object\n",
      " 7   label             5172 non-null   int64 \n",
      "dtypes: int64(2), object(6)\n",
      "memory usage: 323.4+ KB\n"
     ]
    }
   ],
   "source": [
    "fe_train_df.info()"
   ]
  },
  {
   "cell_type": "code",
   "execution_count": 19,
   "metadata": {
    "scrolled": true
   },
   "outputs": [
    {
     "data": {
      "text/plain": [
       "<AxesSubplot:>"
      ]
     },
     "execution_count": 19,
     "metadata": {},
     "output_type": "execute_result"
    },
    {
     "data": {
      "image/png": "[encoded data removed]",
      "text/plain": [
       "<Figure size 432x288 with 1 Axes>"
      ]
     },
     "metadata": {
      "needs_background": "light"
     },
     "output_type": "display_data"
    }
   ],
   "source": [
    "fe_train_df['label'].value_counts().plot(kind='bar')"
   ]
  },
  {
   "cell_type": "markdown",
   "metadata": {},
   "source": [
    "Imbalance dataset"
   ]
  },
  {
   "cell_type": "markdown",
   "metadata": {},
   "source": [
    "# Handle text "
   ]
  },
  {
   "cell_type": "code",
   "execution_count": 20,
   "metadata": {},
   "outputs": [],
   "source": [
    "emoji_dict = dict()\n",
    "with open('./emoji_dict.json', 'r') as f:\n",
    "    emoji_dict = json.load(f)"
   ]
  },
  {
   "cell_type": "code",
   "execution_count": 21,
   "metadata": {},
   "outputs": [],
   "source": [
    "def replaceEmoji(s):\n",
    "    if (type(s) == str):\n",
    "        global emoji_dict\n",
    "        s_clean = s\n",
    "        for e in emoji_dict.keys():\n",
    "            s_clean = s_clean.replace(e, emoji_dict[e])\n",
    "        return s_clean\n",
    "    return s"
   ]
  },
  {
   "cell_type": "code",
   "execution_count": 23,
   "metadata": {},
   "outputs": [],
   "source": [
    "fe_train_df['clean_post_message'] = fe_train_df['post_message']\n",
    "fe_train_df['clean_post_message'] = fe_train_df['clean_post_message'].apply(replaceEmoji)"
   ]
  },
  {
   "cell_type": "code",
   "execution_count": 25,
   "metadata": {},
   "outputs": [
    {
     "data": {
      "text/plain": [
       "post_message          📣 SÁNG NAY KHÔNG CÓ CA MẮC MỚI\\n\\n🦠 Tổng số ca...\n",
       "clean_post_message    loa phóng thanh SÁNG NAY KHÔNG CÓ CA MẮC MỚI\\n...\n",
       "Name: 826, dtype: object"
      ]
     },
     "execution_count": 25,
     "metadata": {},
     "output_type": "execute_result"
    }
   ],
   "source": [
    "fe_train_df.iloc[826][['post_message', 'clean_post_message']]"
   ]
  },
  {
   "cell_type": "code",
   "execution_count": 26,
   "metadata": {
    "scrolled": true
   },
   "outputs": [
    {
     "data": {
      "text/plain": [
       "'Phía nguyên_đơn yêu_cầu toà xem_xét . huỷ toàn_bộ quyết_định của UBND về việc công_nhận Hội_đồng_quản_trị Trường đại_học Hoa_Sen . # đạihọcHoaSen'"
      ]
     },
     "execution_count": 26,
     "metadata": {},
     "output_type": "execute_result"
    }
   ],
   "source": [
    "def miscClean(s, tokenize=True):\n",
    "    remove_misc_s = s.replace('<URL>', '')\n",
    "    remove_misc_s = remove_misc_s.replace('<PHONE>', '')\n",
    "    \n",
    "    if tokenize:\n",
    "        remove_misc_s_list = annotator.tokenize(remove_misc_s)\n",
    "        remove_misc_s = ''\n",
    "        for s in remove_misc_s_list:\n",
    "            for w in s:\n",
    "#                 if (is_digit(w)):\n",
    "#                     remove_misc_s += \"<number> \"\n",
    "#                 elif (w in string.punctuation):\n",
    "#                     remove_misc_s += \"<punct> \"\n",
    "#                 else:\n",
    "                    remove_misc_s += w + \" \"\n",
    "    \n",
    "#     remove_misc_s = remove_misc_s.lower()\n",
    "    remove_misc_s = remove_misc_s.strip()\n",
    "    return remove_misc_s\n",
    "\n",
    "miscClean('Phía nguyên đơn yêu cầu tòa xem xét. hủy toàn bộ quyết định của UBND <URL> về việc công nhận Hội đồng quản trị Trường đại học Hoa Sen. #đạihọcHoaSen')"
   ]
  },
  {
   "cell_type": "code",
   "execution_count": 29,
   "metadata": {},
   "outputs": [
    {
     "name": "stdout",
     "output_type": "stream",
     "text": [
      "CPU times: user 10.7 s, sys: 535 ms, total: 11.2 s\n",
      "Wall time: 32.4 s\n"
     ]
    }
   ],
   "source": [
    "%%time\n",
    "fe_train_df['clean_post_message'] = fe_train_df['clean_post_message'].apply(miscClean, args=(True, ))"
   ]
  },
  {
   "cell_type": "markdown",
   "metadata": {},
   "source": [
    "# Write output csv file"
   ]
  },
  {
   "cell_type": "code",
   "execution_count": 30,
   "metadata": {},
   "outputs": [],
   "source": [
    "drop_col = ['post_message']\n",
    "fe_train_df.fillna(\"-999\", inplace=True)\n",
    "fe_train_df[[f for f in fe_train_df.columns if f not in drop_col]].to_csv('clean_train_df_ext.csv', index=False)\n",
    "# [f for f in fe_train_df.columns if f not in drop_col]"
   ]
  },
  {
   "cell_type": "code",
   "execution_count": 31,
   "metadata": {},
   "outputs": [],
   "source": [
    "fe_test_df = test_df.copy()"
   ]
  },
  {
   "cell_type": "code",
   "execution_count": 32,
   "metadata": {},
   "outputs": [
    {
     "name": "stdout",
     "output_type": "stream",
     "text": [
      "CPU times: user 3.75 s, sys: 182 ms, total: 3.93 s\n",
      "Wall time: 10.3 s\n"
     ]
    }
   ],
   "source": [
    "%%time\n",
    "fe_test_df['post_message'].fillna(\"\", inplace=True)\n",
    "fe_test_df['clean_post_message'] = fe_test_df['post_message']\n",
    "fe_test_df['clean_post_message'] = fe_test_df['clean_post_message'].apply(replaceEmoji)\n",
    "fe_test_df['clean_post_message'] = fe_test_df['clean_post_message'].apply(miscClean, args=(True, ))"
   ]
  },
  {
   "cell_type": "code",
   "execution_count": 33,
   "metadata": {},
   "outputs": [],
   "source": [
    "drop_col = ['post_message']\n",
    "fe_test_df.fillna(\"-999\", inplace=True)\n",
    "fe_test_df[[f for f in fe_test_df.columns if f not in drop_col]].to_csv('clean_final_test_df.csv', index=False)\n",
    "# [f for f in fe_train_df.columns if f not in drop_col]"
   ]
  },
  {
   "cell_type": "code",
   "execution_count": 34,
   "metadata": {},
   "outputs": [
    {
     "name": "stdout",
     "output_type": "stream",
     "text": [
      "<class 'pandas.core.frame.DataFrame'>\n",
      "RangeIndex: 1646 entries, 0 to 1645\n",
      "Data columns (total 8 columns):\n",
      " #   Column              Non-Null Count  Dtype \n",
      "---  ------              --------------  ----- \n",
      " 0   id                  1646 non-null   int64 \n",
      " 1   user_name           1646 non-null   object\n",
      " 2   post_message        1646 non-null   object\n",
      " 3   timestamp_post      1646 non-null   object\n",
      " 4   num_like_post       1646 non-null   object\n",
      " 5   num_comment_post    1646 non-null   object\n",
      " 6   num_share_post      1646 non-null   object\n",
      " 7   clean_post_message  1646 non-null   object\n",
      "dtypes: int64(1), object(7)\n",
      "memory usage: 103.0+ KB\n"
     ]
    }
   ],
   "source": [
    "fe_test_df.info()"
   ]
  },
  {
   "cell_type": "code",
   "execution_count": 35,
   "metadata": {},
   "outputs": [
    {
     "name": "stdout",
     "output_type": "stream",
     "text": [
      "<class 'pandas.core.frame.DataFrame'>\n",
      "RangeIndex: 5172 entries, 0 to 5171\n",
      "Data columns (total 9 columns):\n",
      " #   Column              Non-Null Count  Dtype \n",
      "---  ------              --------------  ----- \n",
      " 0   id                  5172 non-null   int64 \n",
      " 1   user_name           5172 non-null   object\n",
      " 2   post_message        5172 non-null   object\n",
      " 3   timestamp_post      5172 non-null   object\n",
      " 4   num_like_post       5172 non-null   object\n",
      " 5   num_comment_post    5172 non-null   object\n",
      " 6   num_share_post      5172 non-null   object\n",
      " 7   label               5172 non-null   int64 \n",
      " 8   clean_post_message  5172 non-null   object\n",
      "dtypes: int64(2), object(7)\n",
      "memory usage: 363.8+ KB\n"
     ]
    }
   ],
   "source": [
    "fe_train_df.info()"
   ]
  }
 ],
 "metadata": {
  "kernelspec": {
   "display_name": "Python 3",
   "language": "python",
   "name": "python3"
  },
  "language_info": {
   "codemirror_mode": {
    "name": "ipython",
    "version": 3
   },
   "file_extension": ".py",
   "mimetype": "text/x-python",
   "name": "python",
   "nbconvert_exporter": "python",
   "pygments_lexer": "ipython3",
   "version": "3.8.5"
  }
 },
 "nbformat": 4,
 "nbformat_minor": 4
}
