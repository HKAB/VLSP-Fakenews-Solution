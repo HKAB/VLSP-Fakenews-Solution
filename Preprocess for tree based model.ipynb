{
 "cells": [
  {
   "cell_type": "code",
   "execution_count": 1,
   "metadata": {},
   "outputs": [],
   "source": [
    "import numpy as np\n",
    "import pandas as pd\n",
    "import matplotlib.pyplot as plt\n",
    "import re\n",
    "import datetime\n",
    "import json\n",
    "# from underthesea import word_tokenize\n",
    "from vncorenlp import VnCoreNLP\n",
    "import string\n",
    "import textstat\n",
    "from underthesea import sentiment"
   ]
  },
  {
   "cell_type": "markdown",
   "metadata": {},
   "source": [
    "# Load train and test data"
   ]
  },
  {
   "cell_type": "code",
   "execution_count": 2,
   "metadata": {},
   "outputs": [],
   "source": [
    "train_df = pd.read_csv('data/public_train_ext.csv')\n",
    "test_df = pd.read_csv('data/final_private_test_dropped_no_label.csv')"
   ]
  },
  {
   "cell_type": "code",
   "execution_count": 3,
   "metadata": {
    "scrolled": true
   },
   "outputs": [
    {
     "name": "stdout",
     "output_type": "stream",
     "text": [
      "<class 'pandas.core.frame.DataFrame'>\n",
      "RangeIndex: 1646 entries, 0 to 1645\n",
      "Data columns (total 7 columns):\n",
      " #   Column            Non-Null Count  Dtype  \n",
      "---  ------            --------------  -----  \n",
      " 0   id                1646 non-null   int64  \n",
      " 1   user_name         1646 non-null   object \n",
      " 2   post_message      1646 non-null   object \n",
      " 3   timestamp_post    1612 non-null   float64\n",
      " 4   num_like_post     1030 non-null   float64\n",
      " 5   num_comment_post  969 non-null    object \n",
      " 6   num_share_post    904 non-null    object \n",
      "dtypes: float64(2), int64(1), object(4)\n",
      "memory usage: 90.1+ KB\n"
     ]
    }
   ],
   "source": [
    "test_df.info()"
   ]
  },
  {
   "cell_type": "markdown",
   "metadata": {},
   "source": [
    "# VnCoreNLP"
   ]
  },
  {
   "cell_type": "code",
   "execution_count": 4,
   "metadata": {},
   "outputs": [],
   "source": [
    "annotator = VnCoreNLP(\"./VnCoreNLP/VnCoreNLP-1.1.1.jar\", annotators=\"wseg,pos\")"
   ]
  },
  {
   "cell_type": "code",
   "execution_count": 5,
   "metadata": {},
   "outputs": [
    {
     "data": {
      "text/plain": [
       "[['đạihọcHoaSen']]"
      ]
     },
     "execution_count": 5,
     "metadata": {},
     "output_type": "execute_result"
    }
   ],
   "source": [
    "annotator.tokenize(\"đạihọcHoaSen\")"
   ]
  },
  {
   "cell_type": "code",
   "execution_count": 6,
   "metadata": {},
   "outputs": [
    {
     "data": {
      "text/plain": [
       "[[('VTV', 'Ny'),\n",
       "  ('đồng_ý', 'V'),\n",
       "  ('chia_sẻ', 'V'),\n",
       "  ('bản_quyền', 'N'),\n",
       "  ('World_Cup', 'N'),\n",
       "  ('2018', 'M'),\n",
       "  ('cho', 'E'),\n",
       "  ('HTV', 'Ny'),\n",
       "  ('để', 'E'),\n",
       "  ('khai_thác', 'V'),\n",
       "  ('.', 'CH')]]"
      ]
     },
     "execution_count": 6,
     "metadata": {},
     "output_type": "execute_result"
    }
   ],
   "source": [
    "annotator.pos_tag('VTV đồng ý chia sẻ bản quyền World Cup 2018 cho HTV để khai thác.')"
   ]
  },
  {
   "cell_type": "markdown",
   "metadata": {},
   "source": [
    "# Handle disorder feature"
   ]
  },
  {
   "cell_type": "code",
   "execution_count": 7,
   "metadata": {},
   "outputs": [],
   "source": [
    "def extract_number(s):\n",
    "    if (type(s) == str):\n",
    "        if (len(re.findall('(?:[+-]?(?:[0-9]+))', s)) > 0):\n",
    "            print(s)\n",
    "            return int(re.findall('(?:[+-]?(?:[0-9]+))', s)[0])\n",
    "        else:\n",
    "            return -999\n",
    "    else:\n",
    "        return s\n",
    "    \n",
    "def is_digit(n):\n",
    "    try:\n",
    "        float(n)\n",
    "        return True\n",
    "    except ValueError:\n",
    "        return  False\n",
    "    \n",
    "def handle_num_like_post(s):\n",
    "    if (type(s) == str):\n",
    "        if ('like' in s):\n",
    "            return int(s.split(\" \")[0])\n",
    "        if (not is_digit(s)):\n",
    "            return -999\n",
    "        else:\n",
    "            return s\n",
    "    return s\n",
    "\n",
    "def handle_num_comment_post(s):\n",
    "    if (type(s) == str):\n",
    "        if ('comment' in s):\n",
    "            return int(s.split(\" \")[0])\n",
    "        if (not is_digit(s)):\n",
    "            return -999\n",
    "        else:\n",
    "            return s\n",
    "    return s\n",
    "\n",
    "def handle_num_share_post(s):\n",
    "    if (type(s) == str):\n",
    "        if ('share' in s):\n",
    "            return int(s.split(\" \")[0])\n",
    "        if (not is_digit(s)):\n",
    "            return -999\n",
    "        else:\n",
    "            return s\n",
    "    return s"
   ]
  },
  {
   "cell_type": "code",
   "execution_count": 8,
   "metadata": {},
   "outputs": [],
   "source": [
    "fe_train_df = train_df.copy()\n",
    "\n",
    "fe_train_df[['num_like_post', 'num_comment_post', 'num_share_post']] = fe_train_df[['num_like_post', 'num_comment_post', 'num_share_post']].replace('unknown', np.nan)\n",
    "fe_train_df[['num_like_post', 'num_comment_post', 'num_share_post']] = fe_train_df[['num_like_post', 'num_comment_post', 'num_share_post']].fillna('-999')"
   ]
  },
  {
   "cell_type": "code",
   "execution_count": 10,
   "metadata": {},
   "outputs": [
    {
     "data": {
      "text/plain": [
       "<AxesSubplot:ylabel='label'>"
      ]
     },
     "execution_count": 10,
     "metadata": {},
     "output_type": "execute_result"
    },
    {
     "data": {
      "image/png": "[encoded data removed]",
      "text/plain": [
       "<Figure size 432x288 with 1 Axes>"
      ]
     },
     "metadata": {},
     "output_type": "display_data"
    }
   ],
   "source": [
    "fe_train_df['label'].value_counts().plot(kind='pie')"
   ]
  },
  {
   "cell_type": "markdown",
   "metadata": {},
   "source": [
    "## Find and handle data point with unusual type"
   ]
  },
  {
   "cell_type": "code",
   "execution_count": 11,
   "metadata": {},
   "outputs": [
    {
     "data": {
      "text/html": [
       "<div>\n",
       "<style scoped>\n",
       "    .dataframe tbody tr th:only-of-type {\n",
       "        vertical-align: middle;\n",
       "    }\n",
       "\n",
       "    .dataframe tbody tr th {\n",
       "        vertical-align: top;\n",
       "    }\n",
       "\n",
       "    .dataframe thead th {\n",
       "        text-align: right;\n",
       "    }\n",
       "</style>\n",
       "<table border=\"1\" class=\"dataframe\">\n",
       "  <thead>\n",
       "    <tr style=\"text-align: right;\">\n",
       "      <th></th>\n",
       "      <th>id</th>\n",
       "      <th>user_name</th>\n",
       "      <th>post_message</th>\n",
       "      <th>timestamp_post</th>\n",
       "      <th>num_like_post</th>\n",
       "      <th>num_comment_post</th>\n",
       "      <th>num_share_post</th>\n",
       "      <th>label</th>\n",
       "    </tr>\n",
       "  </thead>\n",
       "  <tbody>\n",
       "    <tr>\n",
       "      <th>132</th>\n",
       "      <td>132</td>\n",
       "      <td>4.16347197306717e+18</td>\n",
       "      <td>Hôm nay ra chợ em đã nghe mọi người kháo nhau....</td>\n",
       "      <td>1584514800.0</td>\n",
       "      <td>54 like</td>\n",
       "      <td>20</td>\n",
       "      <td>12</td>\n",
       "      <td>1</td>\n",
       "    </tr>\n",
       "    <tr>\n",
       "      <th>881</th>\n",
       "      <td>82</td>\n",
       "      <td>f8584733a5e8e99a9b45ebb5400e796e</td>\n",
       "      <td>MU nhuộm đỏ thành Manchester</td>\n",
       "      <td>Ronaldo lập cột mốc khó tin</td>\n",
       "      <td>Solskjaer hạ knock-out Guardiola</td>\n",
       "      <td>Juventus bỏ xa Inter Milan... là những ảnh ch...</td>\n",
       "      <td>1583713929.0</td>\n",
       "      <td>0</td>\n",
       "    </tr>\n",
       "    <tr>\n",
       "      <th>2512</th>\n",
       "      <td>1713</td>\n",
       "      <td>c25879ff6975b91d35be50379b90177a</td>\n",
       "      <td>Giá vàng hôm nay: Tăng hơn 1 triệu đồng mỗi lượng</td>\n",
       "      <td>Giá vàng thế giới vọt 3% sau khi FED hạ lãi suất</td>\n",
       "      <td>Ngang nhiên chiếm dụng đất dự án hồ Yên Sở là...</td>\n",
       "      <td>1583307918</td>\n",
       "      <td>7.0</td>\n",
       "      <td>0</td>\n",
       "    </tr>\n",
       "    <tr>\n",
       "      <th>2633</th>\n",
       "      <td>1834</td>\n",
       "      <td>7ac71da7c5675e5758bf798fa4b344d5</td>\n",
       "      <td>Hôm nay ra chợ em đã nghe mọi người kháo nhau....</td>\n",
       "      <td>1584514800.0</td>\n",
       "      <td>54 like</td>\n",
       "      <td>20</td>\n",
       "      <td>12</td>\n",
       "      <td>1</td>\n",
       "    </tr>\n",
       "    <tr>\n",
       "      <th>3972</th>\n",
       "      <td>3173</td>\n",
       "      <td>c9345dce3690bf6c775fca746467ff84</td>\n",
       "      <td>Vụ voi ăn dứa nhồi pháo: Kết quả điều tra chín...</td>\n",
       "      <td>Công bố phát hiện bất ngờ về COVID-19 ở Vũ Hán</td>\n",
       "      <td>Kết quả phiên xử đầu tiên cảnh sát Mỹ ghì chế...</td>\n",
       "      <td>1591690549</td>\n",
       "      <td>9.0</td>\n",
       "      <td>0</td>\n",
       "    </tr>\n",
       "    <tr>\n",
       "      <th>4290</th>\n",
       "      <td>3491</td>\n",
       "      <td>c9345dce3690bf6c775fca746467ff84</td>\n",
       "      <td>Nhiều quốc gia đặt mua kit xét nghiệm COVID-19...</td>\n",
       "      <td>2 bệnh nhân mắc COVID-19 nặng ở Việt Nam tiến...</td>\n",
       "      <td>Thế giới đẩy nhanh tốc độ phát triển vaccine ...</td>\n",
       "      <td>1584428863</td>\n",
       "      <td>53.0</td>\n",
       "      <td>0</td>\n",
       "    </tr>\n",
       "  </tbody>\n",
       "</table>\n",
       "</div>"
      ],
      "text/plain": [
       "        id                         user_name  \\\n",
       "132    132              4.16347197306717e+18   \n",
       "881     82  f8584733a5e8e99a9b45ebb5400e796e   \n",
       "2512  1713  c25879ff6975b91d35be50379b90177a   \n",
       "2633  1834  7ac71da7c5675e5758bf798fa4b344d5   \n",
       "3972  3173  c9345dce3690bf6c775fca746467ff84   \n",
       "4290  3491  c9345dce3690bf6c775fca746467ff84   \n",
       "\n",
       "                                           post_message  \\\n",
       "132   Hôm nay ra chợ em đã nghe mọi người kháo nhau....   \n",
       "881                        MU nhuộm đỏ thành Manchester   \n",
       "2512  Giá vàng hôm nay: Tăng hơn 1 triệu đồng mỗi lượng   \n",
       "2633  Hôm nay ra chợ em đã nghe mọi người kháo nhau....   \n",
       "3972  Vụ voi ăn dứa nhồi pháo: Kết quả điều tra chín...   \n",
       "4290  Nhiều quốc gia đặt mua kit xét nghiệm COVID-19...   \n",
       "\n",
       "                                         timestamp_post  \\\n",
       "132                                        1584514800.0   \n",
       "881                         Ronaldo lập cột mốc khó tin   \n",
       "2512   Giá vàng thế giới vọt 3% sau khi FED hạ lãi suất   \n",
       "2633                                       1584514800.0   \n",
       "3972     Công bố phát hiện bất ngờ về COVID-19 ở Vũ Hán   \n",
       "4290   2 bệnh nhân mắc COVID-19 nặng ở Việt Nam tiến...   \n",
       "\n",
       "                                          num_like_post  \\\n",
       "132                                             54 like   \n",
       "881                    Solskjaer hạ knock-out Guardiola   \n",
       "2512   Ngang nhiên chiếm dụng đất dự án hồ Yên Sở là...   \n",
       "2633                                            54 like   \n",
       "3972   Kết quả phiên xử đầu tiên cảnh sát Mỹ ghì chế...   \n",
       "4290   Thế giới đẩy nhanh tốc độ phát triển vaccine ...   \n",
       "\n",
       "                                       num_comment_post num_share_post  label  \n",
       "132                                                  20             12      1  \n",
       "881    Juventus bỏ xa Inter Milan... là những ảnh ch...   1583713929.0      0  \n",
       "2512                                         1583307918            7.0      0  \n",
       "2633                                                 20             12      1  \n",
       "3972                                         1591690549            9.0      0  \n",
       "4290                                         1584428863           53.0      0  "
      ]
     },
     "execution_count": 11,
     "metadata": {},
     "output_type": "execute_result"
    }
   ],
   "source": [
    "fe_train_df.loc[~fe_train_df['num_like_post'].apply(is_digit), :]"
   ]
  },
  {
   "cell_type": "code",
   "execution_count": 12,
   "metadata": {},
   "outputs": [
    {
     "data": {
      "text/html": [
       "<div>\n",
       "<style scoped>\n",
       "    .dataframe tbody tr th:only-of-type {\n",
       "        vertical-align: middle;\n",
       "    }\n",
       "\n",
       "    .dataframe tbody tr th {\n",
       "        vertical-align: top;\n",
       "    }\n",
       "\n",
       "    .dataframe thead th {\n",
       "        text-align: right;\n",
       "    }\n",
       "</style>\n",
       "<table border=\"1\" class=\"dataframe\">\n",
       "  <thead>\n",
       "    <tr style=\"text-align: right;\">\n",
       "      <th></th>\n",
       "      <th>id</th>\n",
       "      <th>user_name</th>\n",
       "      <th>post_message</th>\n",
       "      <th>timestamp_post</th>\n",
       "      <th>num_like_post</th>\n",
       "      <th>num_comment_post</th>\n",
       "      <th>num_share_post</th>\n",
       "      <th>label</th>\n",
       "    </tr>\n",
       "  </thead>\n",
       "  <tbody>\n",
       "    <tr>\n",
       "      <th>38</th>\n",
       "      <td>38</td>\n",
       "      <td>-3.73179367436277e+18</td>\n",
       "      <td>Phó Chủ tịch Thường trực UBND TPHCM Lê Thanh L...</td>\n",
       "      <td>1585559940.0</td>\n",
       "      <td>16</td>\n",
       "      <td>1 comment</td>\n",
       "      <td>0</td>\n",
       "      <td>1</td>\n",
       "    </tr>\n",
       "    <tr>\n",
       "      <th>51</th>\n",
       "      <td>51</td>\n",
       "      <td>6.57907768560358e+18</td>\n",
       "      <td>Lô thuốc đầu  tiên chữa khỏi bệnh viêm phổi vi...</td>\n",
       "      <td>1584542160.0</td>\n",
       "      <td>12</td>\n",
       "      <td>1 comment</td>\n",
       "      <td>0</td>\n",
       "      <td>1</td>\n",
       "    </tr>\n",
       "    <tr>\n",
       "      <th>160</th>\n",
       "      <td>160</td>\n",
       "      <td>-3.44009624305453e+18</td>\n",
       "      <td>Tỷ phú Bill Gates là người tung virus corona. ...</td>\n",
       "      <td>1580884680.0</td>\n",
       "      <td>21</td>\n",
       "      <td>1 comment</td>\n",
       "      <td>0</td>\n",
       "      <td>1</td>\n",
       "    </tr>\n",
       "    <tr>\n",
       "      <th>881</th>\n",
       "      <td>82</td>\n",
       "      <td>f8584733a5e8e99a9b45ebb5400e796e</td>\n",
       "      <td>MU nhuộm đỏ thành Manchester</td>\n",
       "      <td>Ronaldo lập cột mốc khó tin</td>\n",
       "      <td>Solskjaer hạ knock-out Guardiola</td>\n",
       "      <td>Juventus bỏ xa Inter Milan... là những ảnh ch...</td>\n",
       "      <td>1583713929.0</td>\n",
       "      <td>0</td>\n",
       "    </tr>\n",
       "    <tr>\n",
       "      <th>989</th>\n",
       "      <td>190</td>\n",
       "      <td>a2ed99660efc25ebf7dd8947c046fd4c</td>\n",
       "      <td>Hà Nội đã hoãn giải đua F1 do dịch Covid-19</td>\n",
       "      <td>1583595360.0</td>\n",
       "      <td>29</td>\n",
       "      <td>1 comment</td>\n",
       "      <td>0</td>\n",
       "      <td>0</td>\n",
       "    </tr>\n",
       "    <tr>\n",
       "      <th>1098</th>\n",
       "      <td>299</td>\n",
       "      <td>6585dc84a464f35eb5dbbf7dc2c4ce2a</td>\n",
       "      <td>Phó Chủ tịch Thường trực UBND TPHCM Lê Thanh L...</td>\n",
       "      <td>1585559940.0</td>\n",
       "      <td>16</td>\n",
       "      <td>1 comment</td>\n",
       "      <td>0</td>\n",
       "      <td>1</td>\n",
       "    </tr>\n",
       "    <tr>\n",
       "      <th>3078</th>\n",
       "      <td>2279</td>\n",
       "      <td>d089c8b4589107ad5d44620c09e1e348</td>\n",
       "      <td>NGHI NGỜ VIRUS 2019-nCoV LÀ VŨ KHÍ SINH HỌC.\\n...</td>\n",
       "      <td>1580885280.0</td>\n",
       "      <td>20</td>\n",
       "      <td>1 comment</td>\n",
       "      <td>6</td>\n",
       "      <td>1</td>\n",
       "    </tr>\n",
       "    <tr>\n",
       "      <th>3519</th>\n",
       "      <td>2720</td>\n",
       "      <td>da714923622c349f0c40eab8ef52db95</td>\n",
       "      <td>\"Thảo nào tôi đã không bị rụng tóc\" - Tổng thố...</td>\n",
       "      <td>1601315280.0</td>\n",
       "      <td>120</td>\n",
       "      <td>10 comment</td>\n",
       "      <td>2</td>\n",
       "      <td>1</td>\n",
       "    </tr>\n",
       "    <tr>\n",
       "      <th>4012</th>\n",
       "      <td>3213</td>\n",
       "      <td>fba7ff4245f1a93bca836e76a079543c</td>\n",
       "      <td>Lô thuốc đầu  tiên chữa khỏi bệnh viêm phổi vi...</td>\n",
       "      <td>1584542160.0</td>\n",
       "      <td>12</td>\n",
       "      <td>1 comment</td>\n",
       "      <td>0</td>\n",
       "      <td>1</td>\n",
       "    </tr>\n",
       "    <tr>\n",
       "      <th>4338</th>\n",
       "      <td>3539</td>\n",
       "      <td>82636849e8933b59ebab10bc26cc59fc</td>\n",
       "      <td>Thời gian qua dịch tả lợn Chây Phi đang gây ản...</td>\n",
       "      <td>1551688080.0</td>\n",
       "      <td>116</td>\n",
       "      <td>12 comment</td>\n",
       "      <td>0</td>\n",
       "      <td>1</td>\n",
       "    </tr>\n",
       "    <tr>\n",
       "      <th>4612</th>\n",
       "      <td>3813</td>\n",
       "      <td>db57e36c04a7f6c9b09a6c4ad2e42e21</td>\n",
       "      <td>NẾU AI ĐỊNH ĐI DU LỊCH, ĐẶT VÉ MÁY BAY THÌ HAY...</td>\n",
       "      <td>1595999160.0</td>\n",
       "      <td>10</td>\n",
       "      <td>1 comment</td>\n",
       "      <td>0</td>\n",
       "      <td>1</td>\n",
       "    </tr>\n",
       "  </tbody>\n",
       "</table>\n",
       "</div>"
      ],
      "text/plain": [
       "        id                         user_name  \\\n",
       "38      38             -3.73179367436277e+18   \n",
       "51      51              6.57907768560358e+18   \n",
       "160    160             -3.44009624305453e+18   \n",
       "881     82  f8584733a5e8e99a9b45ebb5400e796e   \n",
       "989    190  a2ed99660efc25ebf7dd8947c046fd4c   \n",
       "1098   299  6585dc84a464f35eb5dbbf7dc2c4ce2a   \n",
       "3078  2279  d089c8b4589107ad5d44620c09e1e348   \n",
       "3519  2720  da714923622c349f0c40eab8ef52db95   \n",
       "4012  3213  fba7ff4245f1a93bca836e76a079543c   \n",
       "4338  3539  82636849e8933b59ebab10bc26cc59fc   \n",
       "4612  3813  db57e36c04a7f6c9b09a6c4ad2e42e21   \n",
       "\n",
       "                                           post_message  \\\n",
       "38    Phó Chủ tịch Thường trực UBND TPHCM Lê Thanh L...   \n",
       "51    Lô thuốc đầu  tiên chữa khỏi bệnh viêm phổi vi...   \n",
       "160   Tỷ phú Bill Gates là người tung virus corona. ...   \n",
       "881                        MU nhuộm đỏ thành Manchester   \n",
       "989         Hà Nội đã hoãn giải đua F1 do dịch Covid-19   \n",
       "1098  Phó Chủ tịch Thường trực UBND TPHCM Lê Thanh L...   \n",
       "3078  NGHI NGỜ VIRUS 2019-nCoV LÀ VŨ KHÍ SINH HỌC.\\n...   \n",
       "3519  \"Thảo nào tôi đã không bị rụng tóc\" - Tổng thố...   \n",
       "4012  Lô thuốc đầu  tiên chữa khỏi bệnh viêm phổi vi...   \n",
       "4338  Thời gian qua dịch tả lợn Chây Phi đang gây ản...   \n",
       "4612  NẾU AI ĐỊNH ĐI DU LỊCH, ĐẶT VÉ MÁY BAY THÌ HAY...   \n",
       "\n",
       "                    timestamp_post                      num_like_post  \\\n",
       "38                    1585559940.0                                 16   \n",
       "51                    1584542160.0                                 12   \n",
       "160                   1580884680.0                                 21   \n",
       "881    Ronaldo lập cột mốc khó tin   Solskjaer hạ knock-out Guardiola   \n",
       "989                   1583595360.0                                 29   \n",
       "1098                  1585559940.0                                 16   \n",
       "3078                  1580885280.0                                 20   \n",
       "3519                  1601315280.0                                120   \n",
       "4012                  1584542160.0                                 12   \n",
       "4338                  1551688080.0                                116   \n",
       "4612                  1595999160.0                                 10   \n",
       "\n",
       "                                       num_comment_post num_share_post  label  \n",
       "38                                            1 comment              0      1  \n",
       "51                                            1 comment              0      1  \n",
       "160                                           1 comment              0      1  \n",
       "881    Juventus bỏ xa Inter Milan... là những ảnh ch...   1583713929.0      0  \n",
       "989                                           1 comment              0      0  \n",
       "1098                                          1 comment              0      1  \n",
       "3078                                          1 comment              6      1  \n",
       "3519                                         10 comment              2      1  \n",
       "4012                                          1 comment              0      1  \n",
       "4338                                         12 comment              0      1  \n",
       "4612                                          1 comment              0      1  "
      ]
     },
     "execution_count": 12,
     "metadata": {},
     "output_type": "execute_result"
    }
   ],
   "source": [
    "fe_train_df.loc[~fe_train_df['num_comment_post'].apply(is_digit), :]"
   ]
  },
  {
   "cell_type": "code",
   "execution_count": 13,
   "metadata": {},
   "outputs": [
    {
     "data": {
      "text/html": [
       "<div>\n",
       "<style scoped>\n",
       "    .dataframe tbody tr th:only-of-type {\n",
       "        vertical-align: middle;\n",
       "    }\n",
       "\n",
       "    .dataframe tbody tr th {\n",
       "        vertical-align: top;\n",
       "    }\n",
       "\n",
       "    .dataframe thead th {\n",
       "        text-align: right;\n",
       "    }\n",
       "</style>\n",
       "<table border=\"1\" class=\"dataframe\">\n",
       "  <thead>\n",
       "    <tr style=\"text-align: right;\">\n",
       "      <th></th>\n",
       "      <th>id</th>\n",
       "      <th>user_name</th>\n",
       "      <th>post_message</th>\n",
       "      <th>timestamp_post</th>\n",
       "      <th>num_like_post</th>\n",
       "      <th>num_comment_post</th>\n",
       "      <th>num_share_post</th>\n",
       "      <th>label</th>\n",
       "    </tr>\n",
       "  </thead>\n",
       "  <tbody>\n",
       "    <tr>\n",
       "      <th>6</th>\n",
       "      <td>6</td>\n",
       "      <td>-4.2367642143239e+18</td>\n",
       "      <td>TIN CHẤN ĐỘNG , NHÂN LOẠI ĐƯỢC CỨU\\n\\n100% ngư...</td>\n",
       "      <td>1584717660.0</td>\n",
       "      <td>21</td>\n",
       "      <td>5</td>\n",
       "      <td>1 share</td>\n",
       "      <td>1</td>\n",
       "    </tr>\n",
       "    <tr>\n",
       "      <th>58</th>\n",
       "      <td>58</td>\n",
       "      <td>9.03153076886958e+18</td>\n",
       "      <td>Người đàn ông Hồi giáo tươi cười khi nhà thờ Đ...</td>\n",
       "      <td>1586963340.0</td>\n",
       "      <td>82</td>\n",
       "      <td>13</td>\n",
       "      <td>1 share</td>\n",
       "      <td>1</td>\n",
       "    </tr>\n",
       "    <tr>\n",
       "      <th>62</th>\n",
       "      <td>62</td>\n",
       "      <td>-1.94635499876047e+18</td>\n",
       "      <td>Ngay cả khi vi-rút xâm nhập vào miệng bạn ... ...</td>\n",
       "      <td>1582995240.0</td>\n",
       "      <td>17</td>\n",
       "      <td>2</td>\n",
       "      <td>1 share</td>\n",
       "      <td>1</td>\n",
       "    </tr>\n",
       "    <tr>\n",
       "      <th>178</th>\n",
       "      <td>178</td>\n",
       "      <td>-4.10417173654197e+18</td>\n",
       "      <td>Bcao cô và các bố mẹ! E vừa dự cuộc họp khẩn c...</td>\n",
       "      <td>1584519300.0</td>\n",
       "      <td>55</td>\n",
       "      <td>4</td>\n",
       "      <td>1 share</td>\n",
       "      <td>1</td>\n",
       "    </tr>\n",
       "    <tr>\n",
       "      <th>182</th>\n",
       "      <td>182</td>\n",
       "      <td>1.31978032864379e+17</td>\n",
       "      <td>Tối nay từ 11:40 tối không ai nên đi ra đường....</td>\n",
       "      <td>1585459380.0</td>\n",
       "      <td>70</td>\n",
       "      <td>5</td>\n",
       "      <td>1 share</td>\n",
       "      <td>1</td>\n",
       "    </tr>\n",
       "    <tr>\n",
       "      <th>186</th>\n",
       "      <td>186</td>\n",
       "      <td>-6.85276306603655e+18</td>\n",
       "      <td>BÀI THUỐC MỖI SÁNG KHIẾN TÔI KHỎE MẠNH\\n\\nKhuy...</td>\n",
       "      <td>1588160100.0</td>\n",
       "      <td>10</td>\n",
       "      <td>5</td>\n",
       "      <td>1 share</td>\n",
       "      <td>1</td>\n",
       "    </tr>\n",
       "    <tr>\n",
       "      <th>432</th>\n",
       "      <td>432</td>\n",
       "      <td>-1.16192268385204e+18</td>\n",
       "      <td>Sở GD&amp;ĐT Hải Phòng đã có chỉ đạo tới các trườn...</td>\n",
       "      <td>NaN</td>\n",
       "      <td>-999</td>\n",
       "      <td>1</td>\n",
       "      <td>May 25th 2020, 21:57:58.000</td>\n",
       "      <td>0</td>\n",
       "    </tr>\n",
       "    <tr>\n",
       "      <th>1188</th>\n",
       "      <td>389</td>\n",
       "      <td>16244723c53210008d58c2f9f2b14d29</td>\n",
       "      <td>Mọi người cảnh giác nhé… trưa hôm nay cô mình ...</td>\n",
       "      <td>1552226820.0</td>\n",
       "      <td>91</td>\n",
       "      <td>33</td>\n",
       "      <td>1 share</td>\n",
       "      <td>1</td>\n",
       "    </tr>\n",
       "    <tr>\n",
       "      <th>1721</th>\n",
       "      <td>922</td>\n",
       "      <td>4196a8c1ae87dfaa0a3b0bbde0a27ea1</td>\n",
       "      <td>Thuốc chữa sốt rét chữa Covid-19. Ở Mỹ, Trung ...</td>\n",
       "      <td>1584992460.0</td>\n",
       "      <td>55</td>\n",
       "      <td>24</td>\n",
       "      <td>1 share</td>\n",
       "      <td>1</td>\n",
       "    </tr>\n",
       "    <tr>\n",
       "      <th>1910</th>\n",
       "      <td>1111</td>\n",
       "      <td>fbf45c6879a5296c35d75a08e123ada6</td>\n",
       "      <td>Nhóm du khách Hàn Quốc sau khi từ chối cách ly...</td>\n",
       "      <td>1582729860.0</td>\n",
       "      <td>32</td>\n",
       "      <td>22</td>\n",
       "      <td>1 share</td>\n",
       "      <td>1</td>\n",
       "    </tr>\n",
       "    <tr>\n",
       "      <th>2771</th>\n",
       "      <td>1972</td>\n",
       "      <td>ef234a7d1cb1287d90ad6637d5477d8e</td>\n",
       "      <td>Bcao cô và các bố mẹ! E vừa dự cuộc họp khẩn c...</td>\n",
       "      <td>1584519300.0</td>\n",
       "      <td>55</td>\n",
       "      <td>4</td>\n",
       "      <td>1 share</td>\n",
       "      <td>1</td>\n",
       "    </tr>\n",
       "    <tr>\n",
       "      <th>3014</th>\n",
       "      <td>2215</td>\n",
       "      <td>5d2a87198d6585eb5c99edaab4e64fae</td>\n",
       "      <td>Ngay cả khi vi-rút xâm nhập vào miệng bạn ... ...</td>\n",
       "      <td>1582995240.0</td>\n",
       "      <td>17</td>\n",
       "      <td>2</td>\n",
       "      <td>1 share</td>\n",
       "      <td>1</td>\n",
       "    </tr>\n",
       "    <tr>\n",
       "      <th>3642</th>\n",
       "      <td>2843</td>\n",
       "      <td>96b7f52c620680c848f55e7cb6e3e90f</td>\n",
       "      <td>Anh Hồ Văn L., gia đình có 9 nhân khẩu, nhận đ...</td>\n",
       "      <td>NaN</td>\n",
       "      <td>49</td>\n",
       "      <td>172</td>\n",
       "      <td>June 11th 2020, 19:03:45.000</td>\n",
       "      <td>0</td>\n",
       "    </tr>\n",
       "    <tr>\n",
       "      <th>3945</th>\n",
       "      <td>3146</td>\n",
       "      <td>9c0ff8ea15daad3962d716b684063cd6</td>\n",
       "      <td>BÀI THUỐC MỖI SÁNG KHIẾN TÔI KHỎE MẠNH\\n\\nKhuy...</td>\n",
       "      <td>1588160100.0</td>\n",
       "      <td>10</td>\n",
       "      <td>5</td>\n",
       "      <td>1 share</td>\n",
       "      <td>1</td>\n",
       "    </tr>\n",
       "    <tr>\n",
       "      <th>4639</th>\n",
       "      <td>3840</td>\n",
       "      <td>f73c2f9fa7a45d5caa67c5f5a10547e8</td>\n",
       "      <td>Người đàn ông Hồi giáo tươi cười khi nhà thờ Đ...</td>\n",
       "      <td>1586963340.0</td>\n",
       "      <td>82</td>\n",
       "      <td>13</td>\n",
       "      <td>1 share</td>\n",
       "      <td>1</td>\n",
       "    </tr>\n",
       "    <tr>\n",
       "      <th>4723</th>\n",
       "      <td>3924</td>\n",
       "      <td>4383ac6c2c195030d08f7769674ba2a7</td>\n",
       "      <td>Trung Quốc muốn Ý mua lại chính vật tư y tế tr...</td>\n",
       "      <td>1586294220.0</td>\n",
       "      <td>30</td>\n",
       "      <td>18</td>\n",
       "      <td>1 share</td>\n",
       "      <td>1</td>\n",
       "    </tr>\n",
       "    <tr>\n",
       "      <th>4836</th>\n",
       "      <td>4037</td>\n",
       "      <td>9515e17e4fd91a7165c6f0226a2e94d1</td>\n",
       "      <td>Sở GD&amp;ĐT Hải Phòng đã có chỉ đạo tới các trườn...</td>\n",
       "      <td>NaN</td>\n",
       "      <td>-999</td>\n",
       "      <td>1</td>\n",
       "      <td>May 25th 2020, 21:57:58.000</td>\n",
       "      <td>0</td>\n",
       "    </tr>\n",
       "  </tbody>\n",
       "</table>\n",
       "</div>"
      ],
      "text/plain": [
       "        id                         user_name  \\\n",
       "6        6              -4.2367642143239e+18   \n",
       "58      58              9.03153076886958e+18   \n",
       "62      62             -1.94635499876047e+18   \n",
       "178    178             -4.10417173654197e+18   \n",
       "182    182              1.31978032864379e+17   \n",
       "186    186             -6.85276306603655e+18   \n",
       "432    432             -1.16192268385204e+18   \n",
       "1188   389  16244723c53210008d58c2f9f2b14d29   \n",
       "1721   922  4196a8c1ae87dfaa0a3b0bbde0a27ea1   \n",
       "1910  1111  fbf45c6879a5296c35d75a08e123ada6   \n",
       "2771  1972  ef234a7d1cb1287d90ad6637d5477d8e   \n",
       "3014  2215  5d2a87198d6585eb5c99edaab4e64fae   \n",
       "3642  2843  96b7f52c620680c848f55e7cb6e3e90f   \n",
       "3945  3146  9c0ff8ea15daad3962d716b684063cd6   \n",
       "4639  3840  f73c2f9fa7a45d5caa67c5f5a10547e8   \n",
       "4723  3924  4383ac6c2c195030d08f7769674ba2a7   \n",
       "4836  4037  9515e17e4fd91a7165c6f0226a2e94d1   \n",
       "\n",
       "                                           post_message timestamp_post  \\\n",
       "6     TIN CHẤN ĐỘNG , NHÂN LOẠI ĐƯỢC CỨU\\n\\n100% ngư...   1584717660.0   \n",
       "58    Người đàn ông Hồi giáo tươi cười khi nhà thờ Đ...   1586963340.0   \n",
       "62    Ngay cả khi vi-rút xâm nhập vào miệng bạn ... ...   1582995240.0   \n",
       "178   Bcao cô và các bố mẹ! E vừa dự cuộc họp khẩn c...   1584519300.0   \n",
       "182   Tối nay từ 11:40 tối không ai nên đi ra đường....   1585459380.0   \n",
       "186   BÀI THUỐC MỖI SÁNG KHIẾN TÔI KHỎE MẠNH\\n\\nKhuy...   1588160100.0   \n",
       "432   Sở GD&ĐT Hải Phòng đã có chỉ đạo tới các trườn...            NaN   \n",
       "1188  Mọi người cảnh giác nhé… trưa hôm nay cô mình ...   1552226820.0   \n",
       "1721  Thuốc chữa sốt rét chữa Covid-19. Ở Mỹ, Trung ...   1584992460.0   \n",
       "1910  Nhóm du khách Hàn Quốc sau khi từ chối cách ly...   1582729860.0   \n",
       "2771  Bcao cô và các bố mẹ! E vừa dự cuộc họp khẩn c...   1584519300.0   \n",
       "3014  Ngay cả khi vi-rút xâm nhập vào miệng bạn ... ...   1582995240.0   \n",
       "3642  Anh Hồ Văn L., gia đình có 9 nhân khẩu, nhận đ...            NaN   \n",
       "3945  BÀI THUỐC MỖI SÁNG KHIẾN TÔI KHỎE MẠNH\\n\\nKhuy...   1588160100.0   \n",
       "4639  Người đàn ông Hồi giáo tươi cười khi nhà thờ Đ...   1586963340.0   \n",
       "4723  Trung Quốc muốn Ý mua lại chính vật tư y tế tr...   1586294220.0   \n",
       "4836  Sở GD&ĐT Hải Phòng đã có chỉ đạo tới các trườn...            NaN   \n",
       "\n",
       "     num_like_post num_comment_post                num_share_post  label  \n",
       "6               21                5                       1 share      1  \n",
       "58              82               13                       1 share      1  \n",
       "62              17                2                       1 share      1  \n",
       "178             55                4                       1 share      1  \n",
       "182             70                5                       1 share      1  \n",
       "186             10                5                       1 share      1  \n",
       "432           -999                1   May 25th 2020, 21:57:58.000      0  \n",
       "1188            91               33                       1 share      1  \n",
       "1721            55               24                       1 share      1  \n",
       "1910            32               22                       1 share      1  \n",
       "2771            55                4                       1 share      1  \n",
       "3014            17                2                       1 share      1  \n",
       "3642            49              172  June 11th 2020, 19:03:45.000      0  \n",
       "3945            10                5                       1 share      1  \n",
       "4639            82               13                       1 share      1  \n",
       "4723            30               18                       1 share      1  \n",
       "4836          -999                1   May 25th 2020, 21:57:58.000      0  "
      ]
     },
     "execution_count": 13,
     "metadata": {},
     "output_type": "execute_result"
    }
   ],
   "source": [
    "fe_train_df.loc[~fe_train_df['num_share_post'].apply(is_digit), :]"
   ]
  },
  {
   "cell_type": "code",
   "execution_count": 14,
   "metadata": {},
   "outputs": [
    {
     "data": {
      "text/html": [
       "<div>\n",
       "<style scoped>\n",
       "    .dataframe tbody tr th:only-of-type {\n",
       "        vertical-align: middle;\n",
       "    }\n",
       "\n",
       "    .dataframe tbody tr th {\n",
       "        vertical-align: top;\n",
       "    }\n",
       "\n",
       "    .dataframe thead th {\n",
       "        text-align: right;\n",
       "    }\n",
       "</style>\n",
       "<table border=\"1\" class=\"dataframe\">\n",
       "  <thead>\n",
       "    <tr style=\"text-align: right;\">\n",
       "      <th></th>\n",
       "      <th>id</th>\n",
       "      <th>user_name</th>\n",
       "      <th>post_message</th>\n",
       "      <th>timestamp_post</th>\n",
       "      <th>num_like_post</th>\n",
       "      <th>num_comment_post</th>\n",
       "      <th>num_share_post</th>\n",
       "      <th>label</th>\n",
       "    </tr>\n",
       "  </thead>\n",
       "  <tbody>\n",
       "    <tr>\n",
       "      <th>881</th>\n",
       "      <td>82</td>\n",
       "      <td>f8584733a5e8e99a9b45ebb5400e796e</td>\n",
       "      <td>MU nhuộm đỏ thành Manchester</td>\n",
       "      <td>Ronaldo lập cột mốc khó tin</td>\n",
       "      <td>Solskjaer hạ knock-out Guardiola</td>\n",
       "      <td>Juventus bỏ xa Inter Milan... là những ảnh ch...</td>\n",
       "      <td>1583713929.0</td>\n",
       "      <td>0</td>\n",
       "    </tr>\n",
       "    <tr>\n",
       "      <th>1391</th>\n",
       "      <td>592</td>\n",
       "      <td>f0ada4801309678b82743587f9b9c5f2</td>\n",
       "      <td>Học sinh từ lớp 5 trở lên đi học trở lại từ ng...</td>\n",
       "      <td>từ lớp 1 đến lớp 4 tiếp tục đi học từ ngày ...</td>\n",
       "      <td>1587881185</td>\n",
       "      <td>24</td>\n",
       "      <td>1.0</td>\n",
       "      <td>0</td>\n",
       "    </tr>\n",
       "    <tr>\n",
       "      <th>2512</th>\n",
       "      <td>1713</td>\n",
       "      <td>c25879ff6975b91d35be50379b90177a</td>\n",
       "      <td>Giá vàng hôm nay: Tăng hơn 1 triệu đồng mỗi lượng</td>\n",
       "      <td>Giá vàng thế giới vọt 3% sau khi FED hạ lãi suất</td>\n",
       "      <td>Ngang nhiên chiếm dụng đất dự án hồ Yên Sở là...</td>\n",
       "      <td>1583307918</td>\n",
       "      <td>7.0</td>\n",
       "      <td>0</td>\n",
       "    </tr>\n",
       "    <tr>\n",
       "      <th>2723</th>\n",
       "      <td>1924</td>\n",
       "      <td>c9345dce3690bf6c775fca746467ff84</td>\n",
       "      <td>2 thanh niên nhập viện cấp cứu sau tai nạn liê...</td>\n",
       "      <td>Hà Nội: Nguy hiểm cận kề từ họp chợ tràn ra l...</td>\n",
       "      <td>1592283607</td>\n",
       "      <td>4</td>\n",
       "      <td>0.0</td>\n",
       "      <td>0</td>\n",
       "    </tr>\n",
       "    <tr>\n",
       "      <th>3392</th>\n",
       "      <td>2593</td>\n",
       "      <td>43c8a5fff1569c42948813f533e5cf24</td>\n",
       "      <td>Bản tin cập nhật tình hình dịch bệnh do Virus ...</td>\n",
       "      <td>Nhộn nhịp mùa đánh bắt cá mú đỏ…</td>\n",
       "      <td>1585172827</td>\n",
       "      <td>1276</td>\n",
       "      <td>2.0</td>\n",
       "      <td>0</td>\n",
       "    </tr>\n",
       "    <tr>\n",
       "      <th>3972</th>\n",
       "      <td>3173</td>\n",
       "      <td>c9345dce3690bf6c775fca746467ff84</td>\n",
       "      <td>Vụ voi ăn dứa nhồi pháo: Kết quả điều tra chín...</td>\n",
       "      <td>Công bố phát hiện bất ngờ về COVID-19 ở Vũ Hán</td>\n",
       "      <td>Kết quả phiên xử đầu tiên cảnh sát Mỹ ghì chế...</td>\n",
       "      <td>1591690549</td>\n",
       "      <td>9.0</td>\n",
       "      <td>0</td>\n",
       "    </tr>\n",
       "    <tr>\n",
       "      <th>4290</th>\n",
       "      <td>3491</td>\n",
       "      <td>c9345dce3690bf6c775fca746467ff84</td>\n",
       "      <td>Nhiều quốc gia đặt mua kit xét nghiệm COVID-19...</td>\n",
       "      <td>2 bệnh nhân mắc COVID-19 nặng ở Việt Nam tiến...</td>\n",
       "      <td>Thế giới đẩy nhanh tốc độ phát triển vaccine ...</td>\n",
       "      <td>1584428863</td>\n",
       "      <td>53.0</td>\n",
       "      <td>0</td>\n",
       "    </tr>\n",
       "    <tr>\n",
       "      <th>5019</th>\n",
       "      <td>4220</td>\n",
       "      <td>c9345dce3690bf6c775fca746467ff84</td>\n",
       "      <td>Vợ Đường Nhuệ vừa bị khởi tố thêm tội danh gì</td>\n",
       "      <td>Một hộ dân “sốc” với gần 90 triệu tiền điện t...</td>\n",
       "      <td>1592811050</td>\n",
       "      <td>11</td>\n",
       "      <td>0.0</td>\n",
       "      <td>0</td>\n",
       "    </tr>\n",
       "  </tbody>\n",
       "</table>\n",
       "</div>"
      ],
      "text/plain": [
       "        id                         user_name  \\\n",
       "881     82  f8584733a5e8e99a9b45ebb5400e796e   \n",
       "1391   592  f0ada4801309678b82743587f9b9c5f2   \n",
       "2512  1713  c25879ff6975b91d35be50379b90177a   \n",
       "2723  1924  c9345dce3690bf6c775fca746467ff84   \n",
       "3392  2593  43c8a5fff1569c42948813f533e5cf24   \n",
       "3972  3173  c9345dce3690bf6c775fca746467ff84   \n",
       "4290  3491  c9345dce3690bf6c775fca746467ff84   \n",
       "5019  4220  c9345dce3690bf6c775fca746467ff84   \n",
       "\n",
       "                                           post_message  \\\n",
       "881                        MU nhuộm đỏ thành Manchester   \n",
       "1391  Học sinh từ lớp 5 trở lên đi học trở lại từ ng...   \n",
       "2512  Giá vàng hôm nay: Tăng hơn 1 triệu đồng mỗi lượng   \n",
       "2723  2 thanh niên nhập viện cấp cứu sau tai nạn liê...   \n",
       "3392  Bản tin cập nhật tình hình dịch bệnh do Virus ...   \n",
       "3972  Vụ voi ăn dứa nhồi pháo: Kết quả điều tra chín...   \n",
       "4290  Nhiều quốc gia đặt mua kit xét nghiệm COVID-19...   \n",
       "5019      Vợ Đường Nhuệ vừa bị khởi tố thêm tội danh gì   \n",
       "\n",
       "                                         timestamp_post  \\\n",
       "881                         Ronaldo lập cột mốc khó tin   \n",
       "1391   từ lớp 1 đến lớp 4 tiếp tục đi học từ ngày ...   \n",
       "2512   Giá vàng thế giới vọt 3% sau khi FED hạ lãi suất   \n",
       "2723   Hà Nội: Nguy hiểm cận kề từ họp chợ tràn ra l...   \n",
       "3392                   Nhộn nhịp mùa đánh bắt cá mú đỏ…   \n",
       "3972     Công bố phát hiện bất ngờ về COVID-19 ở Vũ Hán   \n",
       "4290   2 bệnh nhân mắc COVID-19 nặng ở Việt Nam tiến...   \n",
       "5019   Một hộ dân “sốc” với gần 90 triệu tiền điện t...   \n",
       "\n",
       "                                          num_like_post  \\\n",
       "881                    Solskjaer hạ knock-out Guardiola   \n",
       "1391                                         1587881185   \n",
       "2512   Ngang nhiên chiếm dụng đất dự án hồ Yên Sở là...   \n",
       "2723                                         1592283607   \n",
       "3392                                         1585172827   \n",
       "3972   Kết quả phiên xử đầu tiên cảnh sát Mỹ ghì chế...   \n",
       "4290   Thế giới đẩy nhanh tốc độ phát triển vaccine ...   \n",
       "5019                                         1592811050   \n",
       "\n",
       "                                       num_comment_post num_share_post  label  \n",
       "881    Juventus bỏ xa Inter Milan... là những ảnh ch...   1583713929.0      0  \n",
       "1391                                                 24            1.0      0  \n",
       "2512                                         1583307918            7.0      0  \n",
       "2723                                                  4            0.0      0  \n",
       "3392                                               1276            2.0      0  \n",
       "3972                                         1591690549            9.0      0  \n",
       "4290                                         1584428863           53.0      0  \n",
       "5019                                                 11            0.0      0  "
      ]
     },
     "execution_count": 14,
     "metadata": {},
     "output_type": "execute_result"
    }
   ],
   "source": [
    "fe_train_df.loc[~fe_train_df['timestamp_post'].apply(is_digit), :]"
   ]
  },
  {
   "cell_type": "code",
   "execution_count": 15,
   "metadata": {},
   "outputs": [
    {
     "data": {
      "text/html": [
       "<div>\n",
       "<style scoped>\n",
       "    .dataframe tbody tr th:only-of-type {\n",
       "        vertical-align: middle;\n",
       "    }\n",
       "\n",
       "    .dataframe tbody tr th {\n",
       "        vertical-align: top;\n",
       "    }\n",
       "\n",
       "    .dataframe thead th {\n",
       "        text-align: right;\n",
       "    }\n",
       "</style>\n",
       "<table border=\"1\" class=\"dataframe\">\n",
       "  <thead>\n",
       "    <tr style=\"text-align: right;\">\n",
       "      <th></th>\n",
       "      <th>id</th>\n",
       "      <th>user_name</th>\n",
       "      <th>post_message</th>\n",
       "      <th>timestamp_post</th>\n",
       "      <th>num_like_post</th>\n",
       "      <th>num_comment_post</th>\n",
       "      <th>num_share_post</th>\n",
       "      <th>label</th>\n",
       "    </tr>\n",
       "  </thead>\n",
       "  <tbody>\n",
       "    <tr>\n",
       "      <th>75</th>\n",
       "      <td>75</td>\n",
       "      <td>1.29415859129534e+18</td>\n",
       "      <td>Tin nhé cả nhà 👏 Niệm thần chú cho mau hết bện...</td>\n",
       "      <td>NaN</td>\n",
       "      <td>53</td>\n",
       "      <td>46</td>\n",
       "      <td>117</td>\n",
       "      <td>1</td>\n",
       "    </tr>\n",
       "    <tr>\n",
       "      <th>139</th>\n",
       "      <td>139</td>\n",
       "      <td>-7.20760366592662e+17</td>\n",
       "      <td>BA XÁC CHẾT ĐƯỢC ĐẶT VÀO TRONG MỘT BAO .. 3 đứ...</td>\n",
       "      <td>NaN</td>\n",
       "      <td>1500</td>\n",
       "      <td>3500</td>\n",
       "      <td>13000</td>\n",
       "      <td>1</td>\n",
       "    </tr>\n",
       "    <tr>\n",
       "      <th>253</th>\n",
       "      <td>253</td>\n",
       "      <td>-7.80696059149588e+18</td>\n",
       "      <td>TIN NÓNG: BRVT CÓ 1 NGƯỜI NHIỄM CÚM A/H1N1 Vào...</td>\n",
       "      <td>NaN</td>\n",
       "      <td>1200</td>\n",
       "      <td>835</td>\n",
       "      <td>2300</td>\n",
       "      <td>0</td>\n",
       "    </tr>\n",
       "    <tr>\n",
       "      <th>254</th>\n",
       "      <td>254</td>\n",
       "      <td>7.05044402105848e+18</td>\n",
       "      <td>Bản tin Toàn cảnh phòng chống dịch nCoV ngày 9...</td>\n",
       "      <td>NaN</td>\n",
       "      <td>15000</td>\n",
       "      <td>513</td>\n",
       "      <td>2300</td>\n",
       "      <td>0</td>\n",
       "    </tr>\n",
       "    <tr>\n",
       "      <th>256</th>\n",
       "      <td>256</td>\n",
       "      <td>-5.34265939776517e+18</td>\n",
       "      <td>Dẫn dòng trạng thái đăng trên mạng xã hội Twit...</td>\n",
       "      <td>NaN</td>\n",
       "      <td>4300</td>\n",
       "      <td>260</td>\n",
       "      <td>4200</td>\n",
       "      <td>0</td>\n",
       "    </tr>\n",
       "    <tr>\n",
       "      <th>...</th>\n",
       "      <td>...</td>\n",
       "      <td>...</td>\n",
       "      <td>...</td>\n",
       "      <td>...</td>\n",
       "      <td>...</td>\n",
       "      <td>...</td>\n",
       "      <td>...</td>\n",
       "      <td>...</td>\n",
       "    </tr>\n",
       "    <tr>\n",
       "      <th>4995</th>\n",
       "      <td>4196</td>\n",
       "      <td>b2d8d985c06b203fed093e52008aa64f</td>\n",
       "      <td>PHÁT MIỄN PHÍ HÀNG TRIỆU KHẨU TRANG VẢI ĐỂ NGƯ...</td>\n",
       "      <td>NaN</td>\n",
       "      <td>3000</td>\n",
       "      <td>974</td>\n",
       "      <td>4300</td>\n",
       "      <td>0</td>\n",
       "    </tr>\n",
       "    <tr>\n",
       "      <th>5023</th>\n",
       "      <td>4224</td>\n",
       "      <td>1e44dc26ec7db8eb95fe352ff385b2c5</td>\n",
       "      <td>🇻🇳🇻🇳🇻🇳🇻🇳  'Việt Nam hỡi, Việt Nam ơi! Cùng đoà...</td>\n",
       "      <td>NaN</td>\n",
       "      <td>1100</td>\n",
       "      <td>109</td>\n",
       "      <td>2200</td>\n",
       "      <td>0</td>\n",
       "    </tr>\n",
       "    <tr>\n",
       "      <th>5057</th>\n",
       "      <td>4258</td>\n",
       "      <td>50d80468b93b3eaaa6f907f6d5274022</td>\n",
       "      <td>Moderna Therapetics, một công ty công nghệ sin...</td>\n",
       "      <td>NaN</td>\n",
       "      <td>18000</td>\n",
       "      <td>1300</td>\n",
       "      <td>26000</td>\n",
       "      <td>0</td>\n",
       "    </tr>\n",
       "    <tr>\n",
       "      <th>5102</th>\n",
       "      <td>4303</td>\n",
       "      <td>c76936b0e080d87f5ea552844b158da1</td>\n",
       "      <td>Fang Bin, một cư dân Vũ Hán, đã bí mật gắn máy...</td>\n",
       "      <td>NaN</td>\n",
       "      <td>4400</td>\n",
       "      <td>976</td>\n",
       "      <td>4400</td>\n",
       "      <td>1</td>\n",
       "    </tr>\n",
       "    <tr>\n",
       "      <th>5142</th>\n",
       "      <td>4343</td>\n",
       "      <td>9fbef73ac633593a758264f1958fd64f</td>\n",
       "      <td>Virus Corona là vũ khí sinh học? Hiện nay có n...</td>\n",
       "      <td>NaN</td>\n",
       "      <td>4800</td>\n",
       "      <td>436</td>\n",
       "      <td>3100</td>\n",
       "      <td>1</td>\n",
       "    </tr>\n",
       "  </tbody>\n",
       "</table>\n",
       "<p>164 rows × 8 columns</p>\n",
       "</div>"
      ],
      "text/plain": [
       "        id                         user_name  \\\n",
       "75      75              1.29415859129534e+18   \n",
       "139    139             -7.20760366592662e+17   \n",
       "253    253             -7.80696059149588e+18   \n",
       "254    254              7.05044402105848e+18   \n",
       "256    256             -5.34265939776517e+18   \n",
       "...    ...                               ...   \n",
       "4995  4196  b2d8d985c06b203fed093e52008aa64f   \n",
       "5023  4224  1e44dc26ec7db8eb95fe352ff385b2c5   \n",
       "5057  4258  50d80468b93b3eaaa6f907f6d5274022   \n",
       "5102  4303  c76936b0e080d87f5ea552844b158da1   \n",
       "5142  4343  9fbef73ac633593a758264f1958fd64f   \n",
       "\n",
       "                                           post_message timestamp_post  \\\n",
       "75    Tin nhé cả nhà 👏 Niệm thần chú cho mau hết bện...            NaN   \n",
       "139   BA XÁC CHẾT ĐƯỢC ĐẶT VÀO TRONG MỘT BAO .. 3 đứ...            NaN   \n",
       "253   TIN NÓNG: BRVT CÓ 1 NGƯỜI NHIỄM CÚM A/H1N1 Vào...            NaN   \n",
       "254   Bản tin Toàn cảnh phòng chống dịch nCoV ngày 9...            NaN   \n",
       "256   Dẫn dòng trạng thái đăng trên mạng xã hội Twit...            NaN   \n",
       "...                                                 ...            ...   \n",
       "4995  PHÁT MIỄN PHÍ HÀNG TRIỆU KHẨU TRANG VẢI ĐỂ NGƯ...            NaN   \n",
       "5023  🇻🇳🇻🇳🇻🇳🇻🇳  'Việt Nam hỡi, Việt Nam ơi! Cùng đoà...            NaN   \n",
       "5057  Moderna Therapetics, một công ty công nghệ sin...            NaN   \n",
       "5102  Fang Bin, một cư dân Vũ Hán, đã bí mật gắn máy...            NaN   \n",
       "5142  Virus Corona là vũ khí sinh học? Hiện nay có n...            NaN   \n",
       "\n",
       "     num_like_post num_comment_post num_share_post  label  \n",
       "75              53               46            117      1  \n",
       "139           1500             3500          13000      1  \n",
       "253           1200              835           2300      0  \n",
       "254          15000              513           2300      0  \n",
       "256           4300              260           4200      0  \n",
       "...            ...              ...            ...    ...  \n",
       "4995          3000              974           4300      0  \n",
       "5023          1100              109           2200      0  \n",
       "5057         18000             1300          26000      0  \n",
       "5102          4400              976           4400      1  \n",
       "5142          4800              436           3100      1  \n",
       "\n",
       "[164 rows x 8 columns]"
      ]
     },
     "execution_count": 15,
     "metadata": {},
     "output_type": "execute_result"
    }
   ],
   "source": [
    "fe_train_df[fe_train_df['timestamp_post'].isna()]"
   ]
  },
  {
   "cell_type": "code",
   "execution_count": 16,
   "metadata": {},
   "outputs": [],
   "source": [
    "fe_train_df['num_like_post'] = fe_train_df['num_like_post'].apply(handle_num_like_post).astype(float)\n",
    "fe_train_df['num_comment_post'] = fe_train_df['num_comment_post'].apply(handle_num_comment_post).astype(float)\n",
    "fe_train_df['num_share_post'] = fe_train_df['num_share_post'].apply(handle_num_share_post).astype(float)"
   ]
  },
  {
   "cell_type": "code",
   "execution_count": 17,
   "metadata": {},
   "outputs": [],
   "source": [
    "fe_train_df.loc[fe_train_df['num_like_post'] > 150000000, 'timestamp_post'] = fe_train_df[fe_train_df['num_like_post'] > 150000000]['num_like_post']\n",
    "fe_train_df.loc[fe_train_df['num_like_post'] > 150000000, 'num_like_post'] = -999\n",
    "\n",
    "fe_train_df.loc[fe_train_df['num_comment_post'] > 150000000, 'timestamp_post'] = fe_train_df[fe_train_df['num_comment_post'] > 150000000]['num_comment_post']\n",
    "fe_train_df.loc[fe_train_df['num_comment_post'] > 150000000, 'num_comment_post'] = -999\n",
    "\n",
    "fe_train_df.loc[fe_train_df['num_share_post'] > 150000000, 'timestamp_post'] = fe_train_df[fe_train_df['num_share_post'] > 150000000]['num_share_post']\n",
    "fe_train_df.loc[fe_train_df['num_share_post'] > 150000000, 'num_share_post'] = -999"
   ]
  },
  {
   "cell_type": "code",
   "execution_count": 18,
   "metadata": {},
   "outputs": [
    {
     "data": {
      "text/plain": [
       "Text(0.5, 1.0, 'Label = 1 Num_share_post')"
      ]
     },
     "execution_count": 18,
     "metadata": {},
     "output_type": "execute_result"
    },
    {
     "data": {
      "image/png": "[encoded data removed]",
      "text/plain": [
       "<Figure size 1080x1080 with 6 Axes>"
      ]
     },
     "metadata": {
      "needs_background": "light"
     },
     "output_type": "display_data"
    }
   ],
   "source": [
    "fig, ax = plt.subplots(3, 2, figsize=(15,15))\n",
    "fig.tight_layout(pad=3.0)\n",
    "ax[0, 0].hist(fe_train_df[fe_train_df['label'] == 0]['num_like_post'])\n",
    "ax[0, 0].set_title('Label = 0 Num_like_post')\n",
    "ax[0, 1].hist(fe_train_df[fe_train_df['label'] == 1]['num_like_post'])\n",
    "ax[0, 1].set_title('Label = 1 Num_like_post')\n",
    "ax[1, 0].hist(fe_train_df[fe_train_df['label'] == 0]['num_comment_post'])\n",
    "ax[1, 0].set_title('Label = 0 Num_comment_post')\n",
    "ax[1, 1].hist(fe_train_df[fe_train_df['label'] == 1]['num_comment_post'])\n",
    "ax[1, 1].set_title('Label = 1 Num_comment_post')\n",
    "\n",
    "ax[2, 0].hist(fe_train_df[fe_train_df['label'] == 0]['num_share_post'])\n",
    "ax[2, 0].set_title('Label = 0 Num_share_post')\n",
    "ax[2, 1].hist(fe_train_df[fe_train_df['label'] == 1]['num_share_post'])\n",
    "ax[2, 1].set_title('Label = 1 Num_share_post')"
   ]
  },
  {
   "cell_type": "markdown",
   "metadata": {},
   "source": [
    "In general, true post have more comment and like."
   ]
  },
  {
   "cell_type": "markdown",
   "metadata": {},
   "source": [
    "## Propagation of user (How many time people post?)"
   ]
  },
  {
   "cell_type": "code",
   "execution_count": 20,
   "metadata": {},
   "outputs": [
    {
     "name": "stdout",
     "output_type": "stream",
     "text": [
      "There is 3706 unique user\n"
     ]
    }
   ],
   "source": [
    "print('There is', fe_train_df['user_name'].nunique(), \"unique user\")"
   ]
  },
  {
   "cell_type": "code",
   "execution_count": 21,
   "metadata": {},
   "outputs": [],
   "source": [
    "unique_user = fe_train_df['user_name'].value_counts()"
   ]
  },
  {
   "cell_type": "code",
   "execution_count": 22,
   "metadata": {},
   "outputs": [],
   "source": [
    "fe_train_df['num_post'] = fe_train_df['user_name'].map(unique_user)"
   ]
  },
  {
   "cell_type": "code",
   "execution_count": 23,
   "metadata": {},
   "outputs": [
    {
     "data": {
      "text/plain": [
       "12.86101934874941"
      ]
     },
     "execution_count": 23,
     "metadata": {},
     "output_type": "execute_result"
    }
   ],
   "source": [
    "# fe_train_df['num_post'].hist()\n",
    "fe_train_df[fe_train_df['label'] == 0]['num_post'].mean()"
   ]
  },
  {
   "cell_type": "code",
   "execution_count": 24,
   "metadata": {},
   "outputs": [
    {
     "data": {
      "text/plain": [
       "1.467880085653105"
      ]
     },
     "execution_count": 24,
     "metadata": {},
     "output_type": "execute_result"
    }
   ],
   "source": [
    "fe_train_df[fe_train_df['label'] == 1]['num_post'].mean()"
   ]
  },
  {
   "cell_type": "markdown",
   "metadata": {},
   "source": [
    "People who post real news tend to post more"
   ]
  },
  {
   "cell_type": "code",
   "execution_count": 25,
   "metadata": {},
   "outputs": [],
   "source": [
    "multi_post_user = fe_train_df[fe_train_df['user_name'].apply(lambda x: x in unique_user[unique_user > 1].keys())]"
   ]
  },
  {
   "cell_type": "code",
   "execution_count": 26,
   "metadata": {},
   "outputs": [
    {
     "data": {
      "text/plain": [
       "<AxesSubplot:xlabel='count', ylabel='mean'>"
      ]
     },
     "execution_count": 26,
     "metadata": {},
     "output_type": "execute_result"
    },
    {
     "data": {
      "image/png": "[encoded data removed]",
      "text/plain": [
       "<Figure size 432x288 with 1 Axes>"
      ]
     },
     "metadata": {
      "needs_background": "light"
     },
     "output_type": "display_data"
    }
   ],
   "source": [
    "multi_post_user.groupby('user_name')['label'].agg(['count', 'mean']).sort_values(by='count', ascending=False).plot(kind='scatter', x='count', y='mean')"
   ]
  },
  {
   "cell_type": "markdown",
   "metadata": {},
   "source": [
    "People who post less tend to post fake news"
   ]
  },
  {
   "cell_type": "markdown",
   "metadata": {},
   "source": [
    "# Handle datetime"
   ]
  },
  {
   "cell_type": "code",
   "execution_count": 27,
   "metadata": {},
   "outputs": [],
   "source": [
    "fe_train_df['timestamp_post'] = pd.to_datetime(fe_train_df['timestamp_post'], unit='s')"
   ]
  },
  {
   "cell_type": "code",
   "execution_count": 28,
   "metadata": {},
   "outputs": [
    {
     "data": {
      "text/plain": [
       "0      2020-03-17 06:20:00\n",
       "1      2020-02-10 19:25:36\n",
       "2      2020-04-16 12:53:00\n",
       "3      2020-08-03 10:08:00\n",
       "4      2020-03-07 02:28:00\n",
       "               ...        \n",
       "5167   2020-03-21 12:52:06\n",
       "5168   2020-05-28 06:00:43\n",
       "5169   2020-05-18 04:00:21\n",
       "5170   2020-05-15 14:03:27\n",
       "5171   2020-06-28 04:41:22\n",
       "Name: timestamp_post, Length: 5172, dtype: datetime64[ns]"
      ]
     },
     "execution_count": 28,
     "metadata": {},
     "output_type": "execute_result"
    }
   ],
   "source": [
    "fe_train_df['timestamp_post']"
   ]
  },
  {
   "cell_type": "code",
   "execution_count": 29,
   "metadata": {},
   "outputs": [],
   "source": [
    "# shamelessly copy from https://stackoverflow.com/questions/55571311/get-part-of-day-morning-afternoon-evening-night-in-python-dataframe\n",
    "def session_of_day(x):\n",
    "    if (isinstance(x, float)):\n",
    "        if (x > 4) and (x <= 8):\n",
    "            return 0 #'Early Morning'\n",
    "        elif (x > 8) and (x <= 12 ):\n",
    "            return 1 #'Morning'\n",
    "        elif (x > 12) and (x <= 16):\n",
    "            return 2 #'Noon'\n",
    "        elif (x > 16) and (x <= 20) :\n",
    "            return 3 #'Eve'\n",
    "        elif (x > 20) and (x <= 24):\n",
    "            return 4 #'Night'\n",
    "        elif (x <= 4):\n",
    "            return 5 #'Late Night'\n",
    "    return -1\n",
    "\n",
    "# is_busday(fe_train_df['timestamp_post'].iloc[1])\n",
    "fe_train_df['month_post'] = fe_train_df['timestamp_post'].dt.month\n",
    "fe_train_df['day_post'] = fe_train_df['timestamp_post'].dt.day\n",
    "fe_train_df['weekday_post'] = fe_train_df['timestamp_post'].dt.weekday\n",
    "fe_train_df['hour_post'] = fe_train_df['timestamp_post'].dt.hour\n",
    "fe_train_df['session_of_day'] = fe_train_df['hour_post'].apply(session_of_day)"
   ]
  },
  {
   "cell_type": "code",
   "execution_count": 30,
   "metadata": {},
   "outputs": [
    {
     "data": {
      "image/png": "[encoded data removed]",
      "text/plain": [
       "<Figure size 1080x1080 with 10 Axes>"
      ]
     },
     "metadata": {
      "needs_background": "light"
     },
     "output_type": "display_data"
    }
   ],
   "source": [
    "fig, ax = plt.subplots(5, 2, figsize=(15, 15))\n",
    "ax[0, 0].hist(fe_train_df[fe_train_df['label'] == 0].month_post.to_numpy())\n",
    "ax[0, 0].set_title('month_post, label = 0')\n",
    "ax[0, 1].hist(fe_train_df[fe_train_df['label'] == 1].month_post.to_numpy())\n",
    "ax[0, 1].set_title('month_post, label = 1')\n",
    "ax[1, 0].hist(fe_train_df[fe_train_df['label'] == 0].day_post.to_numpy())\n",
    "ax[1, 0].set_title('day_post, label = 0')\n",
    "ax[1, 1].hist(fe_train_df[fe_train_df['label'] == 1].day_post.to_numpy())\n",
    "ax[1, 1].set_title('day_post, label = 1')\n",
    "ax[2, 0].hist(fe_train_df[fe_train_df['label'] == 0].weekday_post.to_numpy())\n",
    "ax[2, 0].set_title('weekday_post, label = 0')\n",
    "ax[2, 1].hist(fe_train_df[fe_train_df['label'] == 1].weekday_post.to_numpy())\n",
    "ax[2, 1].set_title('weekday_post, label = 1')\n",
    "ax[3, 0].hist(fe_train_df[fe_train_df['label'] == 0].hour_post.to_numpy())\n",
    "ax[3, 0].set_title('hour_post, label = 0')\n",
    "ax[3, 1].hist(fe_train_df[fe_train_df['label'] == 1].hour_post.to_numpy())\n",
    "ax[3, 1].set_title('hour_post, label = 1')\n",
    "ax[4, 0].hist(fe_train_df[fe_train_df['label'] == 0].session_of_day.to_numpy())\n",
    "ax[4, 0].set_title('session_of_day, label = 0')\n",
    "ax[4, 1].hist(fe_train_df[fe_train_df['label'] == 1].session_of_day.to_numpy())\n",
    "ax[4, 1].set_title('session_of_day, label = 1')\n",
    "fig.tight_layout()"
   ]
  },
  {
   "cell_type": "markdown",
   "metadata": {},
   "source": [
    "People post fake news mostly around March (around Tet?)"
   ]
  },
  {
   "cell_type": "markdown",
   "metadata": {},
   "source": [
    "# Statistic about Message"
   ]
  },
  {
   "cell_type": "code",
   "execution_count": 31,
   "metadata": {},
   "outputs": [],
   "source": [
    "fe_train_df['post_message'].fillna(\"\", inplace=True)"
   ]
  },
  {
   "cell_type": "code",
   "execution_count": 32,
   "metadata": {},
   "outputs": [],
   "source": [
    "fe_train_df['len_post_message'] = [len(t) for t in fe_train_df['post_message']]"
   ]
  },
  {
   "cell_type": "code",
   "execution_count": 33,
   "metadata": {},
   "outputs": [
    {
     "data": {
      "text/plain": [
       "{'whiskers': [<matplotlib.lines.Line2D at 0x7fc0bf959730>,\n",
       "  <matplotlib.lines.Line2D at 0x7fc0bf959a90>],\n",
       " 'caps': [<matplotlib.lines.Line2D at 0x7fc0bf959df0>,\n",
       "  <matplotlib.lines.Line2D at 0x7fc0bfe9a190>],\n",
       " 'boxes': [<matplotlib.lines.Line2D at 0x7fc0bf9593d0>],\n",
       " 'medians': [<matplotlib.lines.Line2D at 0x7fc0bfe9a4f0>],\n",
       " 'fliers': [<matplotlib.lines.Line2D at 0x7fc0bfe9a850>],\n",
       " 'means': []}"
      ]
     },
     "execution_count": 33,
     "metadata": {},
     "output_type": "execute_result"
    },
    {
     "data": {
      "image/png": "[encoded data removed]",
      "text/plain": [
       "<Figure size 432x288 with 1 Axes>"
      ]
     },
     "metadata": {
      "needs_background": "light"
     },
     "output_type": "display_data"
    }
   ],
   "source": [
    "plt.boxplot(fe_train_df['len_post_message'])"
   ]
  },
  {
   "cell_type": "markdown",
   "metadata": {},
   "source": [
    "Posts are usually very short"
   ]
  },
  {
   "cell_type": "code",
   "execution_count": 34,
   "metadata": {},
   "outputs": [
    {
     "name": "stdout",
     "output_type": "stream",
     "text": [
      "Min len post message:  0\n",
      "Max len post message:  28453\n",
      "Median len post message:  244.0\n"
     ]
    }
   ],
   "source": [
    "print(\"Min len post message: \", fe_train_df['len_post_message'].min())\n",
    "print(\"Max len post message: \", fe_train_df['len_post_message'].max())\n",
    "print(\"Median len post message: \", fe_train_df['len_post_message'].median())"
   ]
  },
  {
   "cell_type": "code",
   "execution_count": 35,
   "metadata": {},
   "outputs": [],
   "source": [
    "fe_train_df['clean_post_message'] = fe_train_df['post_message']"
   ]
  },
  {
   "cell_type": "markdown",
   "metadata": {},
   "source": [
    "## Special token in text"
   ]
  },
  {
   "cell_type": "code",
   "execution_count": 36,
   "metadata": {},
   "outputs": [],
   "source": [
    "def count_url(s):\n",
    "    pattern = r'<URL>'\n",
    "    if (type(s) == str):\n",
    "        return len(re.findall(pattern, s))\n",
    "    return 0\n",
    "\n",
    "fe_train_df['num_url_in_post_message'] = fe_train_df['clean_post_message'].apply(count_url)"
   ]
  },
  {
   "cell_type": "code",
   "execution_count": 37,
   "metadata": {},
   "outputs": [
    {
     "name": "stdout",
     "output_type": "stream",
     "text": [
      "Mean num_url_in_post_message when label = 1:  0.17558886509635974\n",
      "Mean num_url_in_post_message when label = 0:  0.45847097687588484\n"
     ]
    }
   ],
   "source": [
    "print(\"Mean num_url_in_post_message when label = 1: \", fe_train_df[fe_train_df['label'] == 1]['num_url_in_post_message'].mean())\n",
    "print(\"Mean num_url_in_post_message when label = 0: \", fe_train_df[fe_train_df['label'] == 0]['num_url_in_post_message'].mean())"
   ]
  },
  {
   "cell_type": "code",
   "execution_count": 38,
   "metadata": {},
   "outputs": [],
   "source": [
    "def count_phone(s):\n",
    "    pattern = r'<PHONE>'\n",
    "    if (type(s) == str):\n",
    "        return len(re.findall(pattern, s))\n",
    "    return 0"
   ]
  },
  {
   "cell_type": "code",
   "execution_count": 39,
   "metadata": {},
   "outputs": [],
   "source": [
    "def markdown_bold_style(s):\n",
    "    if (type(s) == str):\n",
    "        pattern = r'\\*\\*(.*?)\\*\\*'\n",
    "        p = re.compile(pattern)\n",
    "        temp = p.findall(s)\n",
    "        num_bold = 0\n",
    "        for i in temp:\n",
    "            num_bold += len(i)\n",
    "        return num_bold\n",
    "    return 0"
   ]
  },
  {
   "cell_type": "code",
   "execution_count": 40,
   "metadata": {},
   "outputs": [],
   "source": [
    "def count_all_uppercase_word(s):\n",
    "    if type(s) == str:\n",
    "        pattern = r'\\b([AĂÂÁẮẤÀẰẦẢẲẨÃẴẪẠẶẬĐEÊÉẾÈỀẺỂẼỄẸỆIÍÌỈĨỊOÔƠÓỐỚÒỒỜỎỔỞÕỖỠỌỘỢUƯÚỨÙỪỦỬŨỮỤỰYÝỲỶỸỴAĂÂÁẮẤÀẰẦẢẲẨÃẴẪẠẶẬĐEÊÉẾÈỀẺỂẼỄẸỆIÍÌỈĨỊOÔƠÓỐỚÒỒỜỎỔỞÕỖỠỌỘỢUƯÚỨÙỪỦỬŨỮỤỰYÝỲỶỸỴAĂÂÁẮẤÀẰẦẢẲẨÃẴẪẠẶẬĐEÊÉẾÈỀẺỂẼỄẸỆIÍÌỈĨỊOÔƠÓỐỚÒỒỜỎỔỞÕỖỠỌỘỢUƯÚỨÙỪỦỬŨỮỤỰYÝỲỶỸỴAĂÂÁẮẤÀẰẦẢẲẨÃẴẪẠẶẬĐEÊÉẾÈỀẺỂẼỄẸỆIÍÌỈĨỊOÔƠÓỐỚÒỒỜỎỔỞÕỖỠỌỘỢUƯÚỨÙỪỦỬŨỮỤỰYÝỲỶỸỴAĂÂÁẮẤÀẰẦẢẲẨÃẴẪẠẶẬĐEÊÉẾÈỀẺỂẼỄẸỆIÍÌỈĨỊOÔƠÓỐỚÒỒỜỎỔỞÕỖỠỌỘỢUƯÚỨÙỪỦỬŨỮỤỰYÝỲỶỸỴAĂÂÁẮẤÀẰẦẢẲẨÃẴẪẠẶẬĐEÊÉẾÈỀẺỂẼỄẸỆIÍÌỈĨỊOÔƠÓỐỚÒỒỜỎỔỞÕỖỠỌỘỢUƯÚỨÙỪỦỬŨỮỤỰYÝỲỶỸỴA-Z]{2,})\\b'\n",
    "        upperword = re.finditer(pattern, s)\n",
    "        return sum(1 for _ in upperword)\n",
    "    return 0\n",
    "# count_all_uppercase_word('TIN NÓNG')"
   ]
  },
  {
   "cell_type": "code",
   "execution_count": 42,
   "metadata": {},
   "outputs": [],
   "source": [
    "def countQuestionMark(s):\n",
    "    if (type(s) == str):\n",
    "        p = re.compile(r'\\?')\n",
    "        return len(p.findall(s))\n",
    "    return 0\n",
    "def countExclamationMark(s):\n",
    "    if (type(s) == str):\n",
    "        p = re.compile(r'!')\n",
    "        return len(p.findall(s))\n",
    "    return 0\n",
    "def countQuoteMark(s):\n",
    "    if (type(s) == str):\n",
    "        p = re.compile(r'\"')\n",
    "        return int(len(p.findall(s))/2)\n",
    "    return 0\n",
    "def countComma(s):\n",
    "    if (type(s) == str):\n",
    "        p = re.compile(r',')\n",
    "        return int(len(p.findall(s)))\n",
    "    return 0\n",
    "def countDot(s):\n",
    "    if (type(s) == str):\n",
    "        p = re.compile(r'\\.')\n",
    "        return int(len(p.findall(s)))\n",
    "    return 0\n",
    "\n",
    "def countEmoji(s):\n",
    "    if type(s) == str:\n",
    "        emoticons = re.finditer(r'[\\U0001F300-\\U0001FAD6]', s)\n",
    "        return sum(1 for _ in emoticons)\n",
    "    return 0\n",
    "def countTag(s):\n",
    "    if type(s) == str:\n",
    "        pattern = r'#([\\w]+)'\n",
    "        tags = re.finditer(pattern, s)\n",
    "        return sum(1 for _ in tags)\n",
    "    return 0\n",
    "def countUpper(s):\n",
    "    if (type(s) == str):\n",
    "        return sum(1 for c in s if c.isupper()) or 0\n",
    "    return 0\n",
    "def coleman_liau_score(s):\n",
    "    if type(s) == str:\n",
    "        return textstat.coleman_liau_index(s)\n",
    "    return 12\n",
    "# countUpper('NÓNG')\n",
    "# countTag('282,2.5448315543444e+18,\"#Share & #tag')\n",
    "# countDot(\"Xin,, , .?\\\"!c\\\"\\\"\\\"\\..\\\"??ha,o tat ca moi nguo\\\"!!i ???\")"
   ]
  },
  {
   "cell_type": "code",
   "execution_count": 43,
   "metadata": {},
   "outputs": [],
   "source": [
    "fe_train_df['num_phone_in_post_message'] = fe_train_df['clean_post_message'].apply(count_url)\n",
    "fe_train_df['num_bold_char_in_message'] = fe_train_df['clean_post_message'].apply(markdown_bold_style)\n",
    "fe_train_df['num_upper_char'] = fe_train_df['post_message'].apply(countUpper)\n",
    "fe_train_df['num_question_mark'] = fe_train_df['clean_post_message'].apply(countQuestionMark)\n",
    "fe_train_df['num_exclamation_mark'] = fe_train_df['clean_post_message'].apply(countExclamationMark)\n",
    "fe_train_df['num_quote_mark'] = fe_train_df['clean_post_message'].apply(countQuoteMark)\n",
    "fe_train_df['num_comma'] = fe_train_df['clean_post_message'].apply(countComma)\n",
    "fe_train_df['num_dot'] = fe_train_df['clean_post_message'].apply(countDot)\n",
    "fe_train_df['num_tag'] = fe_train_df['clean_post_message'].apply(countTag)\n",
    "fe_train_df['num_emoji'] = fe_train_df['clean_post_message'].apply(countEmoji)"
   ]
  },
  {
   "cell_type": "code",
   "execution_count": 44,
   "metadata": {},
   "outputs": [
    {
     "name": "stdout",
     "output_type": "stream",
     "text": [
      "Mean num_bold_char_in_message when label = 1:  12.21627408993576\n",
      "Mean num_bold_char_in_message when label = 0:  13.576687116564417\n",
      "Mean num_phone_in_post_message when label = 1:  0.17558886509635974\n",
      "Mean num_url_in_phone_message when label = 0:  0.45847097687588484\n"
     ]
    }
   ],
   "source": [
    "print(\"Mean num_bold_char_in_message when label = 1: \", fe_train_df[fe_train_df['label'] == 1]['num_bold_char_in_message'].mean())\n",
    "print(\"Mean num_bold_char_in_message when label = 0: \", fe_train_df[fe_train_df['label'] == 0]['num_bold_char_in_message'].mean())\n",
    "print(\"Mean num_phone_in_post_message when label = 1: \", fe_train_df[fe_train_df['label'] == 1]['num_phone_in_post_message'].mean())\n",
    "print(\"Mean num_url_in_phone_message when label = 0: \", fe_train_df[fe_train_df['label'] == 0]['num_phone_in_post_message'].mean())"
   ]
  },
  {
   "cell_type": "markdown",
   "metadata": {},
   "source": [
    "# Handle emoji"
   ]
  },
  {
   "cell_type": "code",
   "execution_count": 45,
   "metadata": {},
   "outputs": [],
   "source": [
    "emoji_dict = dict()\n",
    "with open('./emoji_dict.json', 'r') as f:\n",
    "    emoji_dict = json.load(f)"
   ]
  },
  {
   "cell_type": "code",
   "execution_count": 46,
   "metadata": {},
   "outputs": [],
   "source": [
    "def replaceEmoji(s):\n",
    "    if (type(s) == str):\n",
    "        global emoji_dict\n",
    "        s_clean = s\n",
    "        for e in emoji_dict.keys():\n",
    "            s_clean = s_clean.replace(e, emoji_dict[e])\n",
    "        return s_clean\n",
    "    return s"
   ]
  },
  {
   "cell_type": "code",
   "execution_count": 47,
   "metadata": {},
   "outputs": [],
   "source": [
    "fe_train_df['clean_post_message'] = fe_train_df['clean_post_message'].apply(replaceEmoji)"
   ]
  },
  {
   "cell_type": "code",
   "execution_count": 48,
   "metadata": {},
   "outputs": [
    {
     "data": {
      "text/html": [
       "<div>\n",
       "<style scoped>\n",
       "    .dataframe tbody tr th:only-of-type {\n",
       "        vertical-align: middle;\n",
       "    }\n",
       "\n",
       "    .dataframe tbody tr th {\n",
       "        vertical-align: top;\n",
       "    }\n",
       "\n",
       "    .dataframe thead th {\n",
       "        text-align: right;\n",
       "    }\n",
       "</style>\n",
       "<table border=\"1\" class=\"dataframe\">\n",
       "  <thead>\n",
       "    <tr style=\"text-align: right;\">\n",
       "      <th></th>\n",
       "      <th>post_message</th>\n",
       "      <th>clean_post_message</th>\n",
       "    </tr>\n",
       "  </thead>\n",
       "  <tbody>\n",
       "    <tr>\n",
       "      <th>27</th>\n",
       "      <td>Kỳ án HDH.đã tìm ra chứng cứ ngoại phạm cho HD...</td>\n",
       "      <td>Kỳ án HDH.đã tìm ra chứng cứ ngoại phạm cho HD...</td>\n",
       "    </tr>\n",
       "    <tr>\n",
       "      <th>826</th>\n",
       "      <td>📣 SÁNG NAY KHÔNG CÓ CA MẮC MỚI\\n\\n🦠 Tổng số ca...</td>\n",
       "      <td>loa phóng thanh SÁNG NAY KHÔNG CÓ CA MẮC MỚI\\n...</td>\n",
       "    </tr>\n",
       "  </tbody>\n",
       "</table>\n",
       "</div>"
      ],
      "text/plain": [
       "                                          post_message  \\\n",
       "27   Kỳ án HDH.đã tìm ra chứng cứ ngoại phạm cho HD...   \n",
       "826  📣 SÁNG NAY KHÔNG CÓ CA MẮC MỚI\\n\\n🦠 Tổng số ca...   \n",
       "\n",
       "                                    clean_post_message  \n",
       "27   Kỳ án HDH.đã tìm ra chứng cứ ngoại phạm cho HD...  \n",
       "826  loa phóng thanh SÁNG NAY KHÔNG CÓ CA MẮC MỚI\\n...  "
      ]
     },
     "execution_count": 48,
     "metadata": {},
     "output_type": "execute_result"
    }
   ],
   "source": [
    "fe_train_df[fe_train_df['id'] == 27][['post_message', 'clean_post_message']]"
   ]
  },
  {
   "cell_type": "markdown",
   "metadata": {},
   "source": [
    "# Misc Clean"
   ]
  },
  {
   "cell_type": "code",
   "execution_count": 49,
   "metadata": {},
   "outputs": [
    {
     "data": {
      "text/plain": [
       "'Phía nguyên_đơn yêu_cầu toà xem_xét . huỷ toàn_bộ quyết_định của UBND về việc công_nhận Hội_đồng_quản_trị Trường đại_học Hoa_Sen . # đạihọcHoaSen'"
      ]
     },
     "execution_count": 49,
     "metadata": {},
     "output_type": "execute_result"
    }
   ],
   "source": [
    "def miscClean(s, tokenize=True):\n",
    "    remove_misc_s = s.replace('<URL>', '')\n",
    "    remove_misc_s = remove_misc_s.replace('<PHONE>', '')\n",
    "    \n",
    "    if tokenize:\n",
    "        remove_misc_s_list = annotator.tokenize(remove_misc_s)\n",
    "        remove_misc_s = ''\n",
    "        for s in remove_misc_s_list:\n",
    "            for w in s:\n",
    "#                 if (is_digit(w)):\n",
    "#                     remove_misc_s += \"<number> \"\n",
    "#                 elif (w in string.punctuation):\n",
    "#                     remove_misc_s += \"<punct> \"\n",
    "#                 else:\n",
    "                    remove_misc_s += w + \" \"\n",
    "    \n",
    "#     remove_misc_s = remove_misc_s.lower()\n",
    "    remove_misc_s = remove_misc_s.strip()\n",
    "    return remove_misc_s\n",
    "\n",
    "miscClean('Phía nguyên đơn yêu cầu tòa xem xét. hủy toàn bộ quyết định của UBND <URL> về việc công nhận Hội đồng quản trị Trường đại học Hoa Sen. #đạihọcHoaSen')\n",
    "# re.sub('[0-9]', \" <number> \", \"0981298767\")\n",
    "# re.sub('''[!()\\-\\[\\]{};:'\"\\\\,<>./?@#*_]''', \" <punch> \", \"haha??HAHAH\")"
   ]
  },
  {
   "cell_type": "markdown",
   "metadata": {},
   "source": [
    "# Statistic of Part of Speech (POS)"
   ]
  },
  {
   "cell_type": "code",
   "execution_count": 50,
   "metadata": {},
   "outputs": [],
   "source": [
    "def count_POS_tag(s):\n",
    "    s = s.replace('<URL>', '')\n",
    "    s = s.replace('<PHONE>', '')\n",
    "    \n",
    "    pos_data = annotator.pos_tag(s)\n",
    "    pos_r = {\"Ny\": 0, \"V\": 0, \"N\": 0, \"M\": 0, \"E\": 0,\"CH\": 0,\"Np\": 0,\"R\": 0,\"C\": 0, \"Vb\": 0, \"Z\": 0, \"A\": 0, \"Nu\": 0, \"Cc\": 0, \"P\": 0, \"L\": 0, \"Nc\": 0, \"T\": 0, \"Nb\": 0, \"X\": 0, \"I\": 0, \"B\": 0, \"Y\": 0, \"Ni\": 0}\n",
    "    if (len(pos_data) > 0):\n",
    "        for p in pos_data[0]:\n",
    "            pos_r[p[1]] += 1\n",
    "    return pos_r\n",
    "fe_train_df['arr_POS'] = fe_train_df['post_message'].apply(count_POS_tag)"
   ]
  },
  {
   "cell_type": "code",
   "execution_count": 51,
   "metadata": {},
   "outputs": [
    {
     "data": {
      "text/plain": [
       "['Ny',\n",
       " 'V',\n",
       " 'N',\n",
       " 'M',\n",
       " 'E',\n",
       " 'CH',\n",
       " 'Np',\n",
       " 'R',\n",
       " 'C',\n",
       " 'Vb',\n",
       " 'Z',\n",
       " 'A',\n",
       " 'Nu',\n",
       " 'Cc',\n",
       " 'P',\n",
       " 'L',\n",
       " 'Nc',\n",
       " 'T',\n",
       " 'Nb',\n",
       " 'X',\n",
       " 'I',\n",
       " 'B',\n",
       " 'Y',\n",
       " 'Ni']"
      ]
     },
     "execution_count": 51,
     "metadata": {},
     "output_type": "execute_result"
    }
   ],
   "source": [
    "a = {\"Ny\": 0, \"V\": 0, \"N\": 0, \"M\": 0, \"E\": 0,\"CH\": 0,\"Np\": 0,\"R\": 0,\"C\": 0, \"Vb\": 0, \"Z\": 0, \"A\": 0, \"Nu\": 0, \"Cc\": 0, \"P\": 0, \"L\": 0, \"Nc\": 0, \"T\": 0, \"Nb\": 0, \"X\": 0, \"I\": 0, \"B\": 0, \"Y\": 0, \"Ni\": 0}\n",
    "list_post = list(a.keys())\n",
    "list_post"
   ]
  },
  {
   "cell_type": "code",
   "execution_count": 52,
   "metadata": {},
   "outputs": [],
   "source": [
    "def dict_POS_to_column(s):\n",
    "#     print(s)\n",
    "    if (len(s)):\n",
    "        return tuple(s.values())\n",
    "    return (0, 0, 0, 0, 0, 0, 0, 0, 0, 0, 0, 0, 0, 0, 0, 0, 0, 0, 0, 0, 0, 0, 0, 0)"
   ]
  },
  {
   "cell_type": "code",
   "execution_count": 53,
   "metadata": {},
   "outputs": [],
   "source": [
    "fe_train_df[['Ny', 'V', 'N', 'M', 'E', 'CH', 'Np', 'R', 'C', 'Vb', 'Z', 'A', 'Nu', 'Cc', 'P', 'L', 'Nc', 'T', 'Nb', 'X', 'I', 'B', 'Y', 'Ni']] = fe_train_df['arr_POS'].apply(dict_POS_to_column).apply(pd.Series)"
   ]
  },
  {
   "cell_type": "code",
   "execution_count": 54,
   "metadata": {},
   "outputs": [],
   "source": [
    "fe_train_df['clean_post_message'] = fe_train_df['clean_post_message'].apply(miscClean, args=(True, ))\n",
    "fe_train_df['coleman_liau_score'] = fe_train_df['clean_post_message'].apply(coleman_liau_score)"
   ]
  },
  {
   "cell_type": "code",
   "execution_count": 55,
   "metadata": {},
   "outputs": [
    {
     "data": {
      "image/png": "[encoded data removed]",
      "text/plain": [
       "<Figure size 1080x2880 with 46 Axes>"
      ]
     },
     "metadata": {
      "needs_background": "light"
     },
     "output_type": "display_data"
    }
   ],
   "source": [
    "fig, ax = plt.subplots(23, 2, figsize=(15,40))\n",
    "for i in range(0, 23):\n",
    "#     fig.tight_layout(pad=3.0)\n",
    "    ax[i, 0].hist(fe_train_df[fe_train_df['label'] == 0][list_post[i]])\n",
    "    ax[i, 0].set_title('Label = 0 ' + list_post[i])\n",
    "    ax[i, 1].hist(fe_train_df[fe_train_df['label'] == 1][list_post[i]])\n",
    "    ax[i, 1].set_title('Label = 1 ' + list_post[i])\n",
    "fig.tight_layout()"
   ]
  },
  {
   "cell_type": "markdown",
   "metadata": {},
   "source": [
    "Some tag might be useful for fake news detection"
   ]
  },
  {
   "cell_type": "markdown",
   "metadata": {},
   "source": [
    "# Check sentence sentiment"
   ]
  },
  {
   "cell_type": "code",
   "execution_count": 56,
   "metadata": {},
   "outputs": [
    {
     "name": "stdout",
     "output_type": "stream",
     "text": [
      "positive\n"
     ]
    }
   ],
   "source": [
    "print(sentiment('Thuận Lợi có ca dương tính CV19 rồi đó, mọi người ở Đồng Xoài cẩn thận nhé. Cố gắng an toàn cho qua mùa dịch này cả nhà ơi...\\nBình Phước ơi gắng lên!'))"
   ]
  },
  {
   "cell_type": "code",
   "execution_count": 57,
   "metadata": {},
   "outputs": [],
   "source": [
    "def check_sentiment(s):\n",
    "    stm = sentiment(s)\n",
    "    if (stm == 'positive'):\n",
    "        return 1\n",
    "    elif (stm == 'negative'):\n",
    "        return -1\n",
    "    return 0"
   ]
  },
  {
   "cell_type": "code",
   "execution_count": 58,
   "metadata": {},
   "outputs": [],
   "source": [
    "fe_train_df['sentiment'] = fe_train_df['post_message'].apply(check_sentiment)"
   ]
  },
  {
   "cell_type": "code",
   "execution_count": 59,
   "metadata": {},
   "outputs": [
    {
     "data": {
      "text/plain": [
       "<AxesSubplot:>"
      ]
     },
     "execution_count": 59,
     "metadata": {},
     "output_type": "execute_result"
    },
    {
     "data": {
      "image/png": "[encoded data removed]",
      "text/plain": [
       "<Figure size 432x288 with 1 Axes>"
      ]
     },
     "metadata": {
      "needs_background": "light"
     },
     "output_type": "display_data"
    }
   ],
   "source": [
    "fe_train_df['sentiment'].value_counts().plot(kind='bar')"
   ]
  },
  {
   "cell_type": "code",
   "execution_count": 60,
   "metadata": {},
   "outputs": [],
   "source": [
    "gb_sent_label = fe_train_df.groupby(['sentiment', 'label']).size().unstack()"
   ]
  },
  {
   "cell_type": "code",
   "execution_count": 61,
   "metadata": {},
   "outputs": [],
   "source": [
    "bottom = gb_sent_label[0].to_list()\n",
    "top = gb_sent_label[1].to_list()"
   ]
  },
  {
   "cell_type": "code",
   "execution_count": 62,
   "metadata": {},
   "outputs": [
    {
     "data": {
      "text/plain": [
       "<matplotlib.legend.Legend at 0x7fc0bf7525e0>"
      ]
     },
     "execution_count": 62,
     "metadata": {},
     "output_type": "execute_result"
    },
    {
     "data": {
      "image/png": "[encoded data removed]",
      "text/plain": [
       "<Figure size 432x288 with 1 Axes>"
      ]
     },
     "metadata": {
      "needs_background": "light"
     },
     "output_type": "display_data"
    }
   ],
   "source": [
    "fig, ax = plt.subplots()\n",
    "ax.bar(['-1', '0', '1'], bottom, label='0')\n",
    "ax.bar(['-1', '0', '1'], top, label='1', bottom=bottom)\n",
    "ax.legend()"
   ]
  },
  {
   "cell_type": "markdown",
   "metadata": {},
   "source": [
    "Mostly neutral"
   ]
  },
  {
   "cell_type": "markdown",
   "metadata": {},
   "source": [
    "# Apply for test"
   ]
  },
  {
   "cell_type": "code",
   "execution_count": 63,
   "metadata": {},
   "outputs": [
    {
     "data": {
      "text/plain": [
       "Index(['id', 'user_name', 'post_message', 'timestamp_post', 'num_like_post',\n",
       "       'num_comment_post', 'num_share_post', 'label', 'num_post', 'month_post',\n",
       "       'day_post', 'weekday_post', 'hour_post', 'session_of_day',\n",
       "       'len_post_message', 'clean_post_message', 'num_url_in_post_message',\n",
       "       'num_phone_in_post_message', 'num_bold_char_in_message',\n",
       "       'num_upper_char', 'num_question_mark', 'num_exclamation_mark',\n",
       "       'num_quote_mark', 'num_comma', 'num_dot', 'num_tag', 'num_emoji',\n",
       "       'arr_POS', 'Ny', 'V', 'N', 'M', 'E', 'CH', 'Np', 'R', 'C', 'Vb', 'Z',\n",
       "       'A', 'Nu', 'Cc', 'P', 'L', 'Nc', 'T', 'Nb', 'X', 'I', 'B', 'Y', 'Ni',\n",
       "       'coleman_liau_score', 'sentiment'],\n",
       "      dtype='object')"
      ]
     },
     "execution_count": 63,
     "metadata": {},
     "output_type": "execute_result"
    }
   ],
   "source": [
    "fe_train_df.columns"
   ]
  },
  {
   "cell_type": "code",
   "execution_count": 64,
   "metadata": {},
   "outputs": [],
   "source": [
    "drop_col = ['post_message', 'arr_POS']\n",
    "fe_train_df.fillna(\"-999\", inplace=True)\n",
    "fe_train_df[[f for f in fe_train_df.columns if f not in drop_col]].to_csv('clean_train_df_ext.csv', index=False)\n",
    "# [f for f in fe_train_df.columns if f not in drop_col]"
   ]
  },
  {
   "cell_type": "code",
   "execution_count": 65,
   "metadata": {},
   "outputs": [],
   "source": [
    "fe_test_df = test_df.copy()"
   ]
  },
  {
   "cell_type": "code",
   "execution_count": 66,
   "metadata": {},
   "outputs": [],
   "source": [
    "fe_test_df[['num_like_post', 'num_comment_post', 'num_share_post']] = fe_test_df[['num_like_post', 'num_comment_post', 'num_share_post']].replace('unknown', np.nan)\n",
    "fe_test_df[['num_like_post', 'num_comment_post', 'num_share_post']] = fe_test_df[['num_like_post', 'num_comment_post', 'num_share_post']].fillna('-999')\n",
    "\n",
    "fe_test_df['num_like_post'] = fe_test_df['num_like_post'].apply(handle_num_like_post).astype(float)\n",
    "fe_test_df['num_comment_post'] = fe_test_df['num_comment_post'].apply(handle_num_comment_post).astype(float)\n",
    "fe_test_df['num_share_post'] = fe_test_df['num_share_post'].apply(handle_num_share_post).astype(float)\n",
    "\n",
    "fe_test_df.loc[fe_test_df['num_like_post'] > 150000000, 'timestamp_post'] = fe_test_df[fe_test_df['num_like_post'] > 150000000]['num_like_post']\n",
    "fe_test_df.loc[fe_test_df['num_like_post'] > 150000000, 'num_like_post'] = -999\n",
    "\n",
    "fe_test_df.loc[fe_test_df['num_comment_post'] > 150000000, 'timestamp_post'] = fe_test_df[fe_test_df['num_comment_post'] > 150000000]['num_comment_post']\n",
    "fe_test_df.loc[fe_test_df['num_comment_post'] > 150000000, 'num_comment_post'] = -999\n",
    "\n",
    "fe_test_df.loc[fe_test_df['num_share_post'] > 150000000, 'timestamp_post'] = fe_test_df[fe_test_df['num_share_post'] > 150000000]['num_share_post']\n",
    "fe_test_df.loc[fe_test_df['num_share_post'] > 150000000, 'num_share_post'] = -999\n",
    "\n",
    "#Time\n",
    "fe_test_df['timestamp_post'] = pd.to_datetime(fe_test_df['timestamp_post'], unit='s')\n",
    "fe_test_df['month_post'] = fe_test_df['timestamp_post'].dt.month\n",
    "fe_test_df['day_post'] = fe_test_df['timestamp_post'].dt.day\n",
    "fe_test_df['weekday_post'] = fe_test_df['timestamp_post'].dt.weekday\n",
    "fe_test_df['hour_post'] = fe_test_df['timestamp_post'].dt.hour\n",
    "fe_test_df['session_of_day'] = fe_test_df['hour_post'].apply(session_of_day)\n",
    "\n",
    "# Text statistic\n",
    "fe_test_df['post_message'].fillna(\"\", inplace=True)\n",
    "fe_test_df['len_post_message'] = [len(t) for t in fe_test_df['post_message']]\n",
    "fe_test_df['clean_post_message'] = fe_test_df['post_message']\n",
    "fe_test_df['num_url_in_post_message'] = fe_test_df['clean_post_message'].apply(count_url)\n",
    "fe_test_df['num_phone_in_post_message'] = fe_test_df['clean_post_message'].apply(count_url)\n",
    "fe_test_df['num_bold_char_in_message'] = fe_test_df['clean_post_message'].apply(markdown_bold_style)\n",
    "fe_test_df['num_upper_char'] = fe_test_df['post_message'].apply(countUpper)\n",
    "fe_test_df['num_question_mark'] = fe_test_df['clean_post_message'].apply(countQuestionMark)\n",
    "fe_test_df['num_exclamation_mark'] = fe_test_df['clean_post_message'].apply(countExclamationMark)\n",
    "fe_test_df['num_quote_mark'] = fe_test_df['clean_post_message'].apply(countQuoteMark)\n",
    "fe_test_df['num_comma'] = fe_test_df['clean_post_message'].apply(countComma)\n",
    "fe_test_df['num_dot'] = fe_test_df['clean_post_message'].apply(countDot)\n",
    "fe_test_df['num_tag'] = fe_test_df['clean_post_message'].apply(countTag)\n",
    "fe_test_df['num_emoji'] = fe_test_df['clean_post_message'].apply(countEmoji)\n",
    "fe_test_df['clean_post_message'] = fe_test_df['clean_post_message'].apply(replaceEmoji)\n",
    "\n",
    "unique_user_test = fe_test_df['user_name'].value_counts()\n",
    "fe_test_df['num_post'] = fe_test_df['user_name'].map(unique_user_test)\n",
    "\n",
    "fe_test_df['clean_post_message'] = fe_test_df['clean_post_message'].apply(miscClean, args=(True, ))\n",
    "fe_test_df['coleman_liau_score'] = fe_test_df['clean_post_message'].apply(coleman_liau_score)"
   ]
  },
  {
   "cell_type": "code",
   "execution_count": 67,
   "metadata": {},
   "outputs": [],
   "source": [
    "fe_test_df['arr_POS'] = fe_test_df['post_message'].apply(count_POS_tag)"
   ]
  },
  {
   "cell_type": "code",
   "execution_count": 68,
   "metadata": {},
   "outputs": [],
   "source": [
    "fe_test_df[['Ny', 'V', 'N', 'M', 'E', 'CH', 'Np', 'R', 'C', 'Vb', 'Z', 'A', 'Nu', 'Cc', 'P', 'L', 'Nc', 'T', 'Nb', 'X', 'I', 'B', 'Y', 'Ni']] = fe_test_df['arr_POS'].apply(dict_POS_to_column).apply(pd.Series)"
   ]
  },
  {
   "cell_type": "code",
   "execution_count": 69,
   "metadata": {},
   "outputs": [],
   "source": [
    "fe_test_df['sentiment'] = fe_test_df['post_message'].apply(check_sentiment)"
   ]
  },
  {
   "cell_type": "code",
   "execution_count": 70,
   "metadata": {},
   "outputs": [],
   "source": [
    "fe_test_df['coleman_liau_score'] = fe_test_df['clean_post_message'].apply(coleman_liau_score)"
   ]
  },
  {
   "cell_type": "code",
   "execution_count": 71,
   "metadata": {},
   "outputs": [
    {
     "data": {
      "text/plain": [
       "['label']"
      ]
     },
     "execution_count": 71,
     "metadata": {},
     "output_type": "execute_result"
    }
   ],
   "source": [
    "# Check if train have feature that test not have\n",
    "[x for x in fe_train_df.columns.to_list() if x not in fe_test_df.columns.to_list()]"
   ]
  },
  {
   "cell_type": "code",
   "execution_count": null,
   "metadata": {},
   "outputs": [],
   "source": [
    "drop_col = ['post_message', 'arr_POS']\n",
    "fe_test_df.fillna(\"-999\", inplace=True)\n",
    "fe_test_df[[f for f in fe_test_df.columns if f not in drop_col]].to_csv('clean_final_test_df.csv', index=False)\n",
    "# [f for f in fe_train_df.columns if f not in drop_col]"
   ]
  },
  {
   "cell_type": "code",
   "execution_count": 72,
   "metadata": {},
   "outputs": [
    {
     "name": "stdout",
     "output_type": "stream",
     "text": [
      "<class 'pandas.core.frame.DataFrame'>\n",
      "RangeIndex: 1646 entries, 0 to 1645\n",
      "Data columns (total 53 columns):\n",
      " #   Column                     Non-Null Count  Dtype         \n",
      "---  ------                     --------------  -----         \n",
      " 0   id                         1646 non-null   int64         \n",
      " 1   user_name                  1646 non-null   object        \n",
      " 2   post_message               1646 non-null   object        \n",
      " 3   timestamp_post             1612 non-null   datetime64[ns]\n",
      " 4   num_like_post              1646 non-null   float64       \n",
      " 5   num_comment_post           1646 non-null   float64       \n",
      " 6   num_share_post             1646 non-null   float64       \n",
      " 7   month_post                 1612 non-null   float64       \n",
      " 8   day_post                   1612 non-null   float64       \n",
      " 9   weekday_post               1612 non-null   float64       \n",
      " 10  hour_post                  1612 non-null   float64       \n",
      " 11  session_of_day             1646 non-null   int64         \n",
      " 12  len_post_message           1646 non-null   int64         \n",
      " 13  clean_post_message         1646 non-null   object        \n",
      " 14  num_url_in_post_message    1646 non-null   int64         \n",
      " 15  num_phone_in_post_message  1646 non-null   int64         \n",
      " 16  num_bold_char_in_message   1646 non-null   int64         \n",
      " 17  num_upper_char             1646 non-null   int64         \n",
      " 18  num_question_mark          1646 non-null   int64         \n",
      " 19  num_exclamation_mark       1646 non-null   int64         \n",
      " 20  num_quote_mark             1646 non-null   int64         \n",
      " 21  num_comma                  1646 non-null   int64         \n",
      " 22  num_dot                    1646 non-null   int64         \n",
      " 23  num_tag                    1646 non-null   int64         \n",
      " 24  num_emoji                  1646 non-null   int64         \n",
      " 25  num_post                   1646 non-null   int64         \n",
      " 26  coleman_liau_score         1646 non-null   float64       \n",
      " 27  arr_POS                    1646 non-null   object        \n",
      " 28  Ny                         1646 non-null   int64         \n",
      " 29  V                          1646 non-null   int64         \n",
      " 30  N                          1646 non-null   int64         \n",
      " 31  M                          1646 non-null   int64         \n",
      " 32  E                          1646 non-null   int64         \n",
      " 33  CH                         1646 non-null   int64         \n",
      " 34  Np                         1646 non-null   int64         \n",
      " 35  R                          1646 non-null   int64         \n",
      " 36  C                          1646 non-null   int64         \n",
      " 37  Vb                         1646 non-null   int64         \n",
      " 38  Z                          1646 non-null   int64         \n",
      " 39  A                          1646 non-null   int64         \n",
      " 40  Nu                         1646 non-null   int64         \n",
      " 41  Cc                         1646 non-null   int64         \n",
      " 42  P                          1646 non-null   int64         \n",
      " 43  L                          1646 non-null   int64         \n",
      " 44  Nc                         1646 non-null   int64         \n",
      " 45  T                          1646 non-null   int64         \n",
      " 46  Nb                         1646 non-null   int64         \n",
      " 47  X                          1646 non-null   int64         \n",
      " 48  I                          1646 non-null   int64         \n",
      " 49  B                          1646 non-null   int64         \n",
      " 50  Y                          1646 non-null   int64         \n",
      " 51  Ni                         1646 non-null   int64         \n",
      " 52  sentiment                  1646 non-null   int64         \n",
      "dtypes: datetime64[ns](1), float64(8), int64(40), object(4)\n",
      "memory usage: 681.7+ KB\n"
     ]
    }
   ],
   "source": [
    "fe_test_df.info()"
   ]
  },
  {
   "cell_type": "code",
   "execution_count": 73,
   "metadata": {},
   "outputs": [
    {
     "name": "stdout",
     "output_type": "stream",
     "text": [
      "<class 'pandas.core.frame.DataFrame'>\n",
      "RangeIndex: 5172 entries, 0 to 5171\n",
      "Data columns (total 54 columns):\n",
      " #   Column                     Non-Null Count  Dtype  \n",
      "---  ------                     --------------  -----  \n",
      " 0   id                         5172 non-null   int64  \n",
      " 1   user_name                  5172 non-null   object \n",
      " 2   post_message               5172 non-null   object \n",
      " 3   timestamp_post             5172 non-null   object \n",
      " 4   num_like_post              5172 non-null   float64\n",
      " 5   num_comment_post           5172 non-null   float64\n",
      " 6   num_share_post             5172 non-null   float64\n",
      " 7   label                      5172 non-null   int64  \n",
      " 8   num_post                   5172 non-null   int64  \n",
      " 9   month_post                 5172 non-null   object \n",
      " 10  day_post                   5172 non-null   object \n",
      " 11  weekday_post               5172 non-null   object \n",
      " 12  hour_post                  5172 non-null   object \n",
      " 13  session_of_day             5172 non-null   int64  \n",
      " 14  len_post_message           5172 non-null   int64  \n",
      " 15  clean_post_message         5172 non-null   object \n",
      " 16  num_url_in_post_message    5172 non-null   int64  \n",
      " 17  num_phone_in_post_message  5172 non-null   int64  \n",
      " 18  num_bold_char_in_message   5172 non-null   int64  \n",
      " 19  num_upper_char             5172 non-null   int64  \n",
      " 20  num_question_mark          5172 non-null   int64  \n",
      " 21  num_exclamation_mark       5172 non-null   int64  \n",
      " 22  num_quote_mark             5172 non-null   int64  \n",
      " 23  num_comma                  5172 non-null   int64  \n",
      " 24  num_dot                    5172 non-null   int64  \n",
      " 25  num_tag                    5172 non-null   int64  \n",
      " 26  num_emoji                  5172 non-null   int64  \n",
      " 27  arr_POS                    5172 non-null   object \n",
      " 28  Ny                         5172 non-null   int64  \n",
      " 29  V                          5172 non-null   int64  \n",
      " 30  N                          5172 non-null   int64  \n",
      " 31  M                          5172 non-null   int64  \n",
      " 32  E                          5172 non-null   int64  \n",
      " 33  CH                         5172 non-null   int64  \n",
      " 34  Np                         5172 non-null   int64  \n",
      " 35  R                          5172 non-null   int64  \n",
      " 36  C                          5172 non-null   int64  \n",
      " 37  Vb                         5172 non-null   int64  \n",
      " 38  Z                          5172 non-null   int64  \n",
      " 39  A                          5172 non-null   int64  \n",
      " 40  Nu                         5172 non-null   int64  \n",
      " 41  Cc                         5172 non-null   int64  \n",
      " 42  P                          5172 non-null   int64  \n",
      " 43  L                          5172 non-null   int64  \n",
      " 44  Nc                         5172 non-null   int64  \n",
      " 45  T                          5172 non-null   int64  \n",
      " 46  Nb                         5172 non-null   int64  \n",
      " 47  X                          5172 non-null   int64  \n",
      " 48  I                          5172 non-null   int64  \n",
      " 49  B                          5172 non-null   int64  \n",
      " 50  Y                          5172 non-null   int64  \n",
      " 51  Ni                         5172 non-null   int64  \n",
      " 52  coleman_liau_score         5172 non-null   float64\n",
      " 53  sentiment                  5172 non-null   int64  \n",
      "dtypes: float64(4), int64(41), object(9)\n",
      "memory usage: 2.1+ MB\n"
     ]
    }
   ],
   "source": [
    "fe_train_df.info()"
   ]
  }
 ],
 "metadata": {
  "kernelspec": {
   "display_name": "Python 3",
   "language": "python",
   "name": "python3"
  },
  "language_info": {
   "codemirror_mode": {
    "name": "ipython",
    "version": 3
   },
   "file_extension": ".py",
   "mimetype": "text/x-python",
   "name": "python",
   "nbconvert_exporter": "python",
   "pygments_lexer": "ipython3",
   "version": "3.8.5"
  }
 },
 "nbformat": 4,
 "nbformat_minor": 4
}
